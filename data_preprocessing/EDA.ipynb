{
 "cells": [
  {
   "cell_type": "markdown",
   "metadata": {},
   "source": [
    "# EDA\n",
    "\n",
    "특수기호 전처리가 진행된 데이터를 기준으로 Easy Data Augmetation 진행\n",
    "\n",
    "1) SR (Synonym Replacement): 특정 단어를 유의어로 교체\n",
    "\n",
    "2) RI (Random Insertion): 임의의 단어를 삽입\n",
    "\n",
    "3) RS (Random Swap): 문장 내 임의의 두 단어의 위치를 바꿈\n",
    "\n",
    "4) RD (Random Delete): 임의의 단어를 삭제\n",
    "\n",
    "https://github.com/toriving/KoEDA"
   ]
  },
  {
   "cell_type": "code",
   "execution_count": null,
   "metadata": {},
   "outputs": [],
   "source": [
    "# !pip install koeda konlpy"
   ]
  },
  {
   "cell_type": "markdown",
   "metadata": {},
   "source": [
    "Okt 해결이 안됐음.. 우선 Mecab 으로 진행\n"
   ]
  },
  {
   "cell_type": "code",
   "execution_count": 1,
   "metadata": {},
   "outputs": [],
   "source": [
    "from koeda import EDA"
   ]
  },
  {
   "cell_type": "code",
   "execution_count": 2,
   "metadata": {},
   "outputs": [],
   "source": [
    "from koeda import SR, RS, RI, RD"
   ]
  },
  {
   "cell_type": "code",
   "execution_count": 3,
   "metadata": {},
   "outputs": [],
   "source": [
    "sr = SR(\"Mecab\")\n",
    "rs = RS(\"Mecab\")\n",
    "ri = RI(\"Mecab\")\n",
    "rd = RD(\"Mecab\")"
   ]
  },
  {
   "cell_type": "code",
   "execution_count": 4,
   "metadata": {},
   "outputs": [
    {
     "name": "stdout",
     "output_type": "stream",
     "text": [
      "['아버지가 방에 출입하신다', '아버지가 방에 침투하신다', '아버지가 방에 침투하신다', '아버지가 방에 출입하신다', '부군가 방에 들어가신다', '아바마마가 방에 들어가신다', '아비가 방에 들어가신다', '아버지가 휴게실에 들어가신다', '아바마마가 방에 들어가신다', '아버지가 오락실에 들어가신다']\n"
     ]
    }
   ],
   "source": [
    "text = \"아버지가 방에 들어가신다\"\n",
    "result = sr(text, repetition=10)\n",
    "print(result)"
   ]
  },
  {
   "cell_type": "code",
   "execution_count": 5,
   "metadata": {},
   "outputs": [
    {
     "name": "stdout",
     "output_type": "stream",
     "text": [
      "['아버지가들어가방에 신다', '아버지 방에가들어가신다', '아버지가 방신다 들어가에', '아버지가 에방 들어가신다', '아버지에 방가 들어가신다', '아버지에 방가 들어가신다', '아버지가 에방들어가신다', '아버지 가방에 들어가신다', '아버지 가방에 들어가신다', '아버지가 방에 들어가신다']\n"
     ]
    }
   ],
   "source": [
    "text = \"아버지가 방에 들어가신다\"\n",
    "result = rs(text, repetition=10)\n",
    "print(result)"
   ]
  },
  {
   "cell_type": "code",
   "execution_count": 6,
   "metadata": {},
   "outputs": [
    {
     "name": "stdout",
     "output_type": "stream",
     "text": [
      "['아버지가 골방 방에 들어가신다', '아버지가 방 출입하 에 들어가신다', '아버지가 방에 골방 들어가신다', '아버지가 방에 들어가 아버님 신다', '아버지가 독방 방에 들어가신다', '아버지가 부모 방에 들어가신다', '아버지가 방에 휴게실 들어가신다', '아버지가 방에 들어가 내부 신다', '아버지가 탈의실 방에 들어가신다', '아버지가 방에 친아버지 들어가신다']\n"
     ]
    }
   ],
   "source": [
    "text = \"아버지가 방에 들어가신다\"\n",
    "result = ri(text, repetition=10)\n",
    "print(result)"
   ]
  },
  {
   "cell_type": "code",
   "execution_count": 7,
   "metadata": {},
   "outputs": [
    {
     "name": "stdout",
     "output_type": "stream",
     "text": [
      "['아버지가 방에 들어가신다', '아버지가 방에 들어가신다', '아버지가 에 들어가신다', '아버지가 방에 들어가신다', '아버지 방에 들어가신다', '아버지가 방에 들어가신다', '아버지가 방 들어가신다', '아버지가 에 들어가신다', '가 방에 들어가신다', '아버지가 방에 들어가']\n"
     ]
    }
   ],
   "source": [
    "text = \"아버지가 방에 들어가신다\"\n",
    "result = rd(text, repetition=10)\n",
    "print(result)"
   ]
  },
  {
   "cell_type": "markdown",
   "metadata": {},
   "source": [
    "rs나 나머지에서는 의미 변형 너무 심함\n",
    "-> SR만 진행"
   ]
  },
  {
   "cell_type": "code",
   "execution_count": 8,
   "metadata": {},
   "outputs": [],
   "source": [
    "import numpy as np\n",
    "import pandas as pd"
   ]
  },
  {
   "cell_type": "code",
   "execution_count": 9,
   "metadata": {},
   "outputs": [],
   "source": [
    "train_split = pd.read_csv('../data/cleaned_train_split.csv')"
   ]
  },
  {
   "cell_type": "code",
   "execution_count": 10,
   "metadata": {},
   "outputs": [
    {
     "name": "stdout",
     "output_type": "stream",
     "text": [
      "(4900, 5)\n"
     ]
    },
    {
     "data": {
      "text/html": [
       "<div>\n",
       "<style scoped>\n",
       "    .dataframe tbody tr th:only-of-type {\n",
       "        vertical-align: middle;\n",
       "    }\n",
       "\n",
       "    .dataframe tbody tr th {\n",
       "        vertical-align: top;\n",
       "    }\n",
       "\n",
       "    .dataframe thead th {\n",
       "        text-align: right;\n",
       "    }\n",
       "</style>\n",
       "<table border=\"1\" class=\"dataframe\">\n",
       "  <thead>\n",
       "    <tr style=\"text-align: right;\">\n",
       "      <th></th>\n",
       "      <th>ID</th>\n",
       "      <th>text</th>\n",
       "      <th>target</th>\n",
       "      <th>url</th>\n",
       "      <th>date</th>\n",
       "    </tr>\n",
       "  </thead>\n",
       "  <tbody>\n",
       "    <tr>\n",
       "      <th>0</th>\n",
       "      <td>ynat-v1_train_04767</td>\n",
       "      <td>해외서 산 요트타고 권총 밀반입 출입국 관리 구멍</td>\n",
       "      <td>2</td>\n",
       "      <td>https://news.naver.com/main/read.nhn?mode=LS2D...</td>\n",
       "      <td>2020.12.07. 오후 12:04</td>\n",
       "    </tr>\n",
       "    <tr>\n",
       "      <th>1</th>\n",
       "      <td>ynat-v1_train_01284</td>\n",
       "      <td>신형 유전자 가위 기능 확인 유전병 치료 기대</td>\n",
       "      <td>0</td>\n",
       "      <td>https://news.naver.com/main/read.nhn?mode=LS2D...</td>\n",
       "      <td>2016.06.07. 오전 12:01</td>\n",
       "    </tr>\n",
       "    <tr>\n",
       "      <th>2</th>\n",
       "      <td>ynat-v1_train_06255</td>\n",
       "      <td>지폐 속 사임당의 그림</td>\n",
       "      <td>3</td>\n",
       "      <td>https://news.naver.com/main/read.nhn?mode=LS2D...</td>\n",
       "      <td>2017.01.24. 오후 3:50</td>\n",
       "    </tr>\n",
       "    <tr>\n",
       "      <th>3</th>\n",
       "      <td>ynat-v1_train_03516</td>\n",
       "      <td>이란 새 대공방어 시스템 공개 안보 위해 군사력 증강</td>\n",
       "      <td>4</td>\n",
       "      <td>https://news.naver.com/main/read.nhn?mode=LS2D...</td>\n",
       "      <td>2019.06.10. 오후 4:30</td>\n",
       "    </tr>\n",
       "    <tr>\n",
       "      <th>4</th>\n",
       "      <td>ynat-v1_train_03471</td>\n",
       "      <td>北 유엔 채택 인권결의에 모든 대응조치 강구 반발</td>\n",
       "      <td>6</td>\n",
       "      <td>https://news.naver.com/main/read.nhn?mode=LS2D...</td>\n",
       "      <td>2016.11.17. 오후 5:16</td>\n",
       "    </tr>\n",
       "  </tbody>\n",
       "</table>\n",
       "</div>"
      ],
      "text/plain": [
       "                    ID                           text  target  \\\n",
       "0  ynat-v1_train_04767    해외서 산 요트타고 권총 밀반입 출입국 관리 구멍       2   \n",
       "1  ynat-v1_train_01284      신형 유전자 가위 기능 확인 유전병 치료 기대       0   \n",
       "2  ynat-v1_train_06255                   지폐 속 사임당의 그림       3   \n",
       "3  ynat-v1_train_03516  이란 새 대공방어 시스템 공개 안보 위해 군사력 증강       4   \n",
       "4  ynat-v1_train_03471    北 유엔 채택 인권결의에 모든 대응조치 강구 반발       6   \n",
       "\n",
       "                                                 url                  date  \n",
       "0  https://news.naver.com/main/read.nhn?mode=LS2D...  2020.12.07. 오후 12:04  \n",
       "1  https://news.naver.com/main/read.nhn?mode=LS2D...  2016.06.07. 오전 12:01  \n",
       "2  https://news.naver.com/main/read.nhn?mode=LS2D...   2017.01.24. 오후 3:50  \n",
       "3  https://news.naver.com/main/read.nhn?mode=LS2D...   2019.06.10. 오후 4:30  \n",
       "4  https://news.naver.com/main/read.nhn?mode=LS2D...   2016.11.17. 오후 5:16  "
      ]
     },
     "execution_count": 10,
     "metadata": {},
     "output_type": "execute_result"
    }
   ],
   "source": [
    "print(train_split.shape)\n",
    "train_split.head()"
   ]
  },
  {
   "cell_type": "code",
   "execution_count": 11,
   "metadata": {},
   "outputs": [
    {
     "name": "stderr",
     "output_type": "stream",
     "text": [
      "100%|██████████| 4900/4900 [00:02<00:00, 2240.46it/s]\n"
     ]
    }
   ],
   "source": [
    "# 하나의 텍스트당 5개 정도의 증강 만듦\n",
    "from tqdm import tqdm\n",
    "\n",
    "tqdm.pandas()\n",
    "aug_sentences = train_split['text'].progress_apply(lambda x: sr(x, repetition=5)) # 리스트 반환"
   ]
  },
  {
   "cell_type": "code",
   "execution_count": 12,
   "metadata": {},
   "outputs": [
    {
     "data": {
      "text/plain": [
       "0       [해외서 산악 요트타고 권총 밀반입 출입국 관리 구멍, 해외서 산 요트타고 권총 밀...\n",
       "1       [신형 유전자 가위 기능 확인 유전병 치료 바람, 신형 유전자 가위 가업 확인 유전...\n",
       "2       [지폐 정신 사임당의 그림, 표 속 사임당의 그림, 지폐 안쪽 사임당의 그림, 패 ...\n",
       "3       [이란 새 대공방어 시스템 공개 안보 위해 군사력 증대, 이란 새 대공방어 시스템 ...\n",
       "4       [北 유엔 채택 인권확정에 모든 대응조치 강구 반발, 北 유엔 채택 인권매듭에 모든...\n",
       "                              ...                        \n",
       "4895    [특고 자영업자에 만원 지원금 신청 한달 만에 만 천무기, 특고 자영업새끼에 만원 ...\n",
       "4896    [SK티 내비게이션 티맵 쩐 왕궁미네 무료 개방, SK홍차 내비게이션 티맵 쩐 궁미...\n",
       "4897    [여자농구 KB 일 청주 소나무길 플리마켓에서 자선 시장, 여자농구 KB 일 청주 ...\n",
       "4898    [한인 여명 서식 조지아서도 박근혜 퇴진 촛불, 한인 여명 서식 조지아서도 박근혜 ...\n",
       "4899    [거제 저도 개월향신료 출입제한 동계정비 후 내년 월 일 재개방, 거제 저도 개월간...\n",
       "Name: text, Length: 4900, dtype: object"
      ]
     },
     "execution_count": 12,
     "metadata": {},
     "output_type": "execute_result"
    }
   ],
   "source": [
    "aug_sentences"
   ]
  },
  {
   "cell_type": "code",
   "execution_count": 13,
   "metadata": {},
   "outputs": [
    {
     "data": {
      "text/html": [
       "<div>\n",
       "<style scoped>\n",
       "    .dataframe tbody tr th:only-of-type {\n",
       "        vertical-align: middle;\n",
       "    }\n",
       "\n",
       "    .dataframe tbody tr th {\n",
       "        vertical-align: top;\n",
       "    }\n",
       "\n",
       "    .dataframe thead th {\n",
       "        text-align: right;\n",
       "    }\n",
       "</style>\n",
       "<table border=\"1\" class=\"dataframe\">\n",
       "  <thead>\n",
       "    <tr style=\"text-align: right;\">\n",
       "      <th></th>\n",
       "      <th>ID</th>\n",
       "      <th>text</th>\n",
       "      <th>target</th>\n",
       "      <th>url</th>\n",
       "      <th>date</th>\n",
       "    </tr>\n",
       "  </thead>\n",
       "  <tbody>\n",
       "  </tbody>\n",
       "</table>\n",
       "</div>"
      ],
      "text/plain": [
       "Empty DataFrame\n",
       "Columns: [ID, text, target, url, date]\n",
       "Index: []"
      ]
     },
     "execution_count": 13,
     "metadata": {},
     "output_type": "execute_result"
    }
   ],
   "source": [
    "aug_df = pd.DataFrame(columns=train_split.columns)\n",
    "aug_df"
   ]
  },
  {
   "cell_type": "code",
   "execution_count": 14,
   "metadata": {},
   "outputs": [
    {
     "name": "stderr",
     "output_type": "stream",
     "text": [
      "4900it [00:35, 139.28it/s]\n"
     ]
    }
   ],
   "source": [
    "for idx, row in tqdm(enumerate(train_split['text'])):\n",
    "    for aug_text in aug_sentences.loc[idx]:\n",
    "        aug_df.loc[len(aug_df)] = [train_split.loc[idx, 'ID'], aug_text, train_split.loc[idx, 'target'], train_split.loc[idx, 'url'], train_split.loc[idx, 'date']]\n"
   ]
  },
  {
   "cell_type": "code",
   "execution_count": 15,
   "metadata": {},
   "outputs": [
    {
     "data": {
      "text/html": [
       "<div>\n",
       "<style scoped>\n",
       "    .dataframe tbody tr th:only-of-type {\n",
       "        vertical-align: middle;\n",
       "    }\n",
       "\n",
       "    .dataframe tbody tr th {\n",
       "        vertical-align: top;\n",
       "    }\n",
       "\n",
       "    .dataframe thead th {\n",
       "        text-align: right;\n",
       "    }\n",
       "</style>\n",
       "<table border=\"1\" class=\"dataframe\">\n",
       "  <thead>\n",
       "    <tr style=\"text-align: right;\">\n",
       "      <th></th>\n",
       "      <th>ID</th>\n",
       "      <th>text</th>\n",
       "      <th>target</th>\n",
       "      <th>url</th>\n",
       "      <th>date</th>\n",
       "    </tr>\n",
       "  </thead>\n",
       "  <tbody>\n",
       "    <tr>\n",
       "      <th>0</th>\n",
       "      <td>ynat-v1_train_04767</td>\n",
       "      <td>해외서 산악 요트타고 권총 밀반입 출입국 관리 구멍</td>\n",
       "      <td>2</td>\n",
       "      <td>https://news.naver.com/main/read.nhn?mode=LS2D...</td>\n",
       "      <td>2020.12.07. 오후 12:04</td>\n",
       "    </tr>\n",
       "    <tr>\n",
       "      <th>1</th>\n",
       "      <td>ynat-v1_train_04767</td>\n",
       "      <td>해외서 산 요트타고 권총 밀반입 출입국 관리 홀</td>\n",
       "      <td>2</td>\n",
       "      <td>https://news.naver.com/main/read.nhn?mode=LS2D...</td>\n",
       "      <td>2020.12.07. 오후 12:04</td>\n",
       "    </tr>\n",
       "    <tr>\n",
       "      <th>2</th>\n",
       "      <td>ynat-v1_train_04767</td>\n",
       "      <td>해외서 산 요트타고 권총 밀반입 출입국 감독 구멍</td>\n",
       "      <td>2</td>\n",
       "      <td>https://news.naver.com/main/read.nhn?mode=LS2D...</td>\n",
       "      <td>2020.12.07. 오후 12:04</td>\n",
       "    </tr>\n",
       "    <tr>\n",
       "      <th>3</th>\n",
       "      <td>ynat-v1_train_04767</td>\n",
       "      <td>해외서 산 요트타고 권총 밀반입 출입국 지배 구멍</td>\n",
       "      <td>2</td>\n",
       "      <td>https://news.naver.com/main/read.nhn?mode=LS2D...</td>\n",
       "      <td>2020.12.07. 오후 12:04</td>\n",
       "    </tr>\n",
       "    <tr>\n",
       "      <th>4</th>\n",
       "      <td>ynat-v1_train_04767</td>\n",
       "      <td>해외서 산 요트타고 권총 밀반입 출입국 통감 구멍</td>\n",
       "      <td>2</td>\n",
       "      <td>https://news.naver.com/main/read.nhn?mode=LS2D...</td>\n",
       "      <td>2020.12.07. 오후 12:04</td>\n",
       "    </tr>\n",
       "    <tr>\n",
       "      <th>5</th>\n",
       "      <td>ynat-v1_train_01284</td>\n",
       "      <td>신형 유전자 가위 기능 확인 유전병 치료 바람</td>\n",
       "      <td>0</td>\n",
       "      <td>https://news.naver.com/main/read.nhn?mode=LS2D...</td>\n",
       "      <td>2016.06.07. 오전 12:01</td>\n",
       "    </tr>\n",
       "    <tr>\n",
       "      <th>6</th>\n",
       "      <td>ynat-v1_train_01284</td>\n",
       "      <td>신형 유전자 가위 가업 확인 유전병 치료 기대</td>\n",
       "      <td>0</td>\n",
       "      <td>https://news.naver.com/main/read.nhn?mode=LS2D...</td>\n",
       "      <td>2016.06.07. 오전 12:01</td>\n",
       "    </tr>\n",
       "    <tr>\n",
       "      <th>7</th>\n",
       "      <td>ynat-v1_train_01284</td>\n",
       "      <td>신형 유전자 가위 기능 확인 유전병 치료 기대</td>\n",
       "      <td>0</td>\n",
       "      <td>https://news.naver.com/main/read.nhn?mode=LS2D...</td>\n",
       "      <td>2016.06.07. 오전 12:01</td>\n",
       "    </tr>\n",
       "    <tr>\n",
       "      <th>8</th>\n",
       "      <td>ynat-v1_train_01284</td>\n",
       "      <td>신형 유전자 가위 기능 인식 유전병 치료 기대</td>\n",
       "      <td>0</td>\n",
       "      <td>https://news.naver.com/main/read.nhn?mode=LS2D...</td>\n",
       "      <td>2016.06.07. 오전 12:01</td>\n",
       "    </tr>\n",
       "    <tr>\n",
       "      <th>9</th>\n",
       "      <td>ynat-v1_train_01284</td>\n",
       "      <td>신형 유전자 가위 기능 확인 유전병 치료 꿈</td>\n",
       "      <td>0</td>\n",
       "      <td>https://news.naver.com/main/read.nhn?mode=LS2D...</td>\n",
       "      <td>2016.06.07. 오전 12:01</td>\n",
       "    </tr>\n",
       "  </tbody>\n",
       "</table>\n",
       "</div>"
      ],
      "text/plain": [
       "                    ID                          text  target  \\\n",
       "0  ynat-v1_train_04767  해외서 산악 요트타고 권총 밀반입 출입국 관리 구멍       2   \n",
       "1  ynat-v1_train_04767    해외서 산 요트타고 권총 밀반입 출입국 관리 홀       2   \n",
       "2  ynat-v1_train_04767   해외서 산 요트타고 권총 밀반입 출입국 감독 구멍       2   \n",
       "3  ynat-v1_train_04767   해외서 산 요트타고 권총 밀반입 출입국 지배 구멍       2   \n",
       "4  ynat-v1_train_04767   해외서 산 요트타고 권총 밀반입 출입국 통감 구멍       2   \n",
       "5  ynat-v1_train_01284     신형 유전자 가위 기능 확인 유전병 치료 바람       0   \n",
       "6  ynat-v1_train_01284     신형 유전자 가위 가업 확인 유전병 치료 기대       0   \n",
       "7  ynat-v1_train_01284     신형 유전자 가위 기능 확인 유전병 치료 기대       0   \n",
       "8  ynat-v1_train_01284     신형 유전자 가위 기능 인식 유전병 치료 기대       0   \n",
       "9  ynat-v1_train_01284      신형 유전자 가위 기능 확인 유전병 치료 꿈       0   \n",
       "\n",
       "                                                 url                  date  \n",
       "0  https://news.naver.com/main/read.nhn?mode=LS2D...  2020.12.07. 오후 12:04  \n",
       "1  https://news.naver.com/main/read.nhn?mode=LS2D...  2020.12.07. 오후 12:04  \n",
       "2  https://news.naver.com/main/read.nhn?mode=LS2D...  2020.12.07. 오후 12:04  \n",
       "3  https://news.naver.com/main/read.nhn?mode=LS2D...  2020.12.07. 오후 12:04  \n",
       "4  https://news.naver.com/main/read.nhn?mode=LS2D...  2020.12.07. 오후 12:04  \n",
       "5  https://news.naver.com/main/read.nhn?mode=LS2D...  2016.06.07. 오전 12:01  \n",
       "6  https://news.naver.com/main/read.nhn?mode=LS2D...  2016.06.07. 오전 12:01  \n",
       "7  https://news.naver.com/main/read.nhn?mode=LS2D...  2016.06.07. 오전 12:01  \n",
       "8  https://news.naver.com/main/read.nhn?mode=LS2D...  2016.06.07. 오전 12:01  \n",
       "9  https://news.naver.com/main/read.nhn?mode=LS2D...  2016.06.07. 오전 12:01  "
      ]
     },
     "execution_count": 15,
     "metadata": {},
     "output_type": "execute_result"
    }
   ],
   "source": [
    "aug_df.head(10)"
   ]
  },
  {
   "cell_type": "code",
   "execution_count": 16,
   "metadata": {},
   "outputs": [],
   "source": [
    "aug_df.to_csv('../data/SR_train.csv', index=False)"
   ]
  },
  {
   "cell_type": "code",
   "execution_count": 17,
   "metadata": {},
   "outputs": [
    {
     "data": {
      "text/html": [
       "<div>\n",
       "<style scoped>\n",
       "    .dataframe tbody tr th:only-of-type {\n",
       "        vertical-align: middle;\n",
       "    }\n",
       "\n",
       "    .dataframe tbody tr th {\n",
       "        vertical-align: top;\n",
       "    }\n",
       "\n",
       "    .dataframe thead th {\n",
       "        text-align: right;\n",
       "    }\n",
       "</style>\n",
       "<table border=\"1\" class=\"dataframe\">\n",
       "  <thead>\n",
       "    <tr style=\"text-align: right;\">\n",
       "      <th></th>\n",
       "      <th>ID</th>\n",
       "      <th>text</th>\n",
       "      <th>target</th>\n",
       "      <th>url</th>\n",
       "      <th>date</th>\n",
       "    </tr>\n",
       "  </thead>\n",
       "  <tbody>\n",
       "    <tr>\n",
       "      <th>0</th>\n",
       "      <td>ynat-v1_train_04767</td>\n",
       "      <td>해외서 산 요트타고 권총 밀반입 출입국 관리 구멍</td>\n",
       "      <td>2</td>\n",
       "      <td>https://news.naver.com/main/read.nhn?mode=LS2D...</td>\n",
       "      <td>2020.12.07. 오후 12:04</td>\n",
       "    </tr>\n",
       "    <tr>\n",
       "      <th>1</th>\n",
       "      <td>ynat-v1_train_01284</td>\n",
       "      <td>신형 유전자 가위 기능 확인 유전병 치료 기대</td>\n",
       "      <td>0</td>\n",
       "      <td>https://news.naver.com/main/read.nhn?mode=LS2D...</td>\n",
       "      <td>2016.06.07. 오전 12:01</td>\n",
       "    </tr>\n",
       "    <tr>\n",
       "      <th>2</th>\n",
       "      <td>ynat-v1_train_06255</td>\n",
       "      <td>지폐 속 사임당의 그림</td>\n",
       "      <td>3</td>\n",
       "      <td>https://news.naver.com/main/read.nhn?mode=LS2D...</td>\n",
       "      <td>2017.01.24. 오후 3:50</td>\n",
       "    </tr>\n",
       "    <tr>\n",
       "      <th>3</th>\n",
       "      <td>ynat-v1_train_03516</td>\n",
       "      <td>이란 새 대공방어 시스템 공개 안보 위해 군사력 증강</td>\n",
       "      <td>4</td>\n",
       "      <td>https://news.naver.com/main/read.nhn?mode=LS2D...</td>\n",
       "      <td>2019.06.10. 오후 4:30</td>\n",
       "    </tr>\n",
       "    <tr>\n",
       "      <th>4</th>\n",
       "      <td>ynat-v1_train_03471</td>\n",
       "      <td>北 유엔 채택 인권결의에 모든 대응조치 강구 반발</td>\n",
       "      <td>6</td>\n",
       "      <td>https://news.naver.com/main/read.nhn?mode=LS2D...</td>\n",
       "      <td>2016.11.17. 오후 5:16</td>\n",
       "    </tr>\n",
       "    <tr>\n",
       "      <th>...</th>\n",
       "      <td>...</td>\n",
       "      <td>...</td>\n",
       "      <td>...</td>\n",
       "      <td>...</td>\n",
       "      <td>...</td>\n",
       "    </tr>\n",
       "    <tr>\n",
       "      <th>24495</th>\n",
       "      <td>ynat-v1_train_05034</td>\n",
       "      <td>거제 저도 개월향신료 출입제한 동계정비 후 내년 월 일 재개방</td>\n",
       "      <td>2</td>\n",
       "      <td>https://news.naver.com/main/read.nhn?mode=LS2D...</td>\n",
       "      <td>2019.11.30. 오전 9:05</td>\n",
       "    </tr>\n",
       "    <tr>\n",
       "      <th>24496</th>\n",
       "      <td>ynat-v1_train_05034</td>\n",
       "      <td>거제 저도 개월간 출입국한 동계정비 후 내년 월 일 재개방</td>\n",
       "      <td>2</td>\n",
       "      <td>https://news.naver.com/main/read.nhn?mode=LS2D...</td>\n",
       "      <td>2019.11.30. 오전 9:05</td>\n",
       "    </tr>\n",
       "    <tr>\n",
       "      <th>24497</th>\n",
       "      <td>ynat-v1_train_05034</td>\n",
       "      <td>거제 저도 개월간 출입제한 동계정비 후 내년 날짜 일 재개방</td>\n",
       "      <td>2</td>\n",
       "      <td>https://news.naver.com/main/read.nhn?mode=LS2D...</td>\n",
       "      <td>2019.11.30. 오전 9:05</td>\n",
       "    </tr>\n",
       "    <tr>\n",
       "      <th>24498</th>\n",
       "      <td>ynat-v1_train_05034</td>\n",
       "      <td>거제 저도 개월병기 출입제한 동계정비 후 내년 월 일 재개방</td>\n",
       "      <td>2</td>\n",
       "      <td>https://news.naver.com/main/read.nhn?mode=LS2D...</td>\n",
       "      <td>2019.11.30. 오전 9:05</td>\n",
       "    </tr>\n",
       "    <tr>\n",
       "      <th>24499</th>\n",
       "      <td>ynat-v1_train_05034</td>\n",
       "      <td>거제 저도 개월간 출입제한 맥박정비 후 내년 월 일 재개방</td>\n",
       "      <td>2</td>\n",
       "      <td>https://news.naver.com/main/read.nhn?mode=LS2D...</td>\n",
       "      <td>2019.11.30. 오전 9:05</td>\n",
       "    </tr>\n",
       "  </tbody>\n",
       "</table>\n",
       "<p>29400 rows × 5 columns</p>\n",
       "</div>"
      ],
      "text/plain": [
       "                        ID                                text  target  \\\n",
       "0      ynat-v1_train_04767         해외서 산 요트타고 권총 밀반입 출입국 관리 구멍       2   \n",
       "1      ynat-v1_train_01284           신형 유전자 가위 기능 확인 유전병 치료 기대       0   \n",
       "2      ynat-v1_train_06255                        지폐 속 사임당의 그림       3   \n",
       "3      ynat-v1_train_03516       이란 새 대공방어 시스템 공개 안보 위해 군사력 증강       4   \n",
       "4      ynat-v1_train_03471         北 유엔 채택 인권결의에 모든 대응조치 강구 반발       6   \n",
       "...                    ...                                 ...     ...   \n",
       "24495  ynat-v1_train_05034  거제 저도 개월향신료 출입제한 동계정비 후 내년 월 일 재개방       2   \n",
       "24496  ynat-v1_train_05034    거제 저도 개월간 출입국한 동계정비 후 내년 월 일 재개방       2   \n",
       "24497  ynat-v1_train_05034   거제 저도 개월간 출입제한 동계정비 후 내년 날짜 일 재개방       2   \n",
       "24498  ynat-v1_train_05034   거제 저도 개월병기 출입제한 동계정비 후 내년 월 일 재개방       2   \n",
       "24499  ynat-v1_train_05034    거제 저도 개월간 출입제한 맥박정비 후 내년 월 일 재개방       2   \n",
       "\n",
       "                                                     url                  date  \n",
       "0      https://news.naver.com/main/read.nhn?mode=LS2D...  2020.12.07. 오후 12:04  \n",
       "1      https://news.naver.com/main/read.nhn?mode=LS2D...  2016.06.07. 오전 12:01  \n",
       "2      https://news.naver.com/main/read.nhn?mode=LS2D...   2017.01.24. 오후 3:50  \n",
       "3      https://news.naver.com/main/read.nhn?mode=LS2D...   2019.06.10. 오후 4:30  \n",
       "4      https://news.naver.com/main/read.nhn?mode=LS2D...   2016.11.17. 오후 5:16  \n",
       "...                                                  ...                   ...  \n",
       "24495  https://news.naver.com/main/read.nhn?mode=LS2D...   2019.11.30. 오전 9:05  \n",
       "24496  https://news.naver.com/main/read.nhn?mode=LS2D...   2019.11.30. 오전 9:05  \n",
       "24497  https://news.naver.com/main/read.nhn?mode=LS2D...   2019.11.30. 오전 9:05  \n",
       "24498  https://news.naver.com/main/read.nhn?mode=LS2D...   2019.11.30. 오전 9:05  \n",
       "24499  https://news.naver.com/main/read.nhn?mode=LS2D...   2019.11.30. 오전 9:05  \n",
       "\n",
       "[29400 rows x 5 columns]"
      ]
     },
     "execution_count": 17,
     "metadata": {},
     "output_type": "execute_result"
    }
   ],
   "source": [
    "total = pd.concat([train_split, aug_df], axis=0)\n",
    "total"
   ]
  },
  {
   "cell_type": "code",
   "execution_count": 18,
   "metadata": {},
   "outputs": [],
   "source": [
    "total.reset_index(drop=True, inplace=True)"
   ]
  },
  {
   "cell_type": "code",
   "execution_count": null,
   "metadata": {},
   "outputs": [],
   "source": [
    "total.to_csv('../data/train_split_SR.csv', index=False)"
   ]
  },
  {
   "cell_type": "markdown",
   "metadata": {},
   "source": [
    "# AEDA\n",
    "\n",
    "중간중간 오히려 노이즈를 추가해버리는 데이터 증강 기법\n",
    "> 이게 효과가 있나..?"
   ]
  },
  {
   "cell_type": "code",
   "execution_count": null,
   "metadata": {},
   "outputs": [],
   "source": [
    "from koeda import AEDA"
   ]
  },
  {
   "cell_type": "markdown",
   "metadata": {},
   "source": []
  }
 ],
 "metadata": {
  "kernelspec": {
   "display_name": "Python 3",
   "language": "python",
   "name": "python3"
  },
  "language_info": {
   "codemirror_mode": {
    "name": "ipython",
    "version": 3
   },
   "file_extension": ".py",
   "mimetype": "text/x-python",
   "name": "python",
   "nbconvert_exporter": "python",
   "pygments_lexer": "ipython3",
   "version": "3.10.13"
  }
 },
 "nbformat": 4,
 "nbformat_minor": 2
}
