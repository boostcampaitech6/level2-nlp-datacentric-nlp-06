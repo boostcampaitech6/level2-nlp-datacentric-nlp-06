{
 "cells": [
  {
   "cell_type": "markdown",
   "metadata": {},
   "source": [
    "# P2G 변환"
   ]
  },
  {
   "cell_type": "markdown",
   "metadata": {},
   "source": [
    "**사용모델** : ```j5ng/et5-typos-corrector```\n",
    "\n",
    "**선정이유** : 한국어 P2G 모델 중, 대회 규정인 klue-ynat 데이터셋을 사용하여 학습되지 않은 모델을 선택\n",
    "|\n",
    "**실험**\n",
    "\n",
    "- train.csv 파일의 text를 P2G 모델을 이용해 문어체로 변환\n",
    "- hanspell 맞춤법 교정(띄어쓰기)이 이뤄진 train_spell_checked.csv 파일의 text를 P2G 모델을 이용해 문어체로 변환\n",
    "- 두 경우의 성능 비교 및 hanspell에서 해결하지 못하던 구어체를 얼마나 해결했는지 확인"
   ]
  },
  {
   "cell_type": "markdown",
   "metadata": {},
   "source": [
    "### 모델 불러오기 및 테스트"
   ]
  },
  {
   "cell_type": "code",
   "execution_count": 5,
   "metadata": {},
   "outputs": [
    {
     "name": "stdout",
     "output_type": "stream",
     "text": [
      "The history saving thread hit an unexpected error (OperationalError('attempt to write a readonly database')).History will not be written to the database.\n"
     ]
    }
   ],
   "source": [
    "from transformers import T5ForConditionalGeneration, T5Tokenizer, pipeline\n",
    "import torch"
   ]
  },
  {
   "cell_type": "code",
   "execution_count": 6,
   "metadata": {},
   "outputs": [
    {
     "name": "stdout",
     "output_type": "stream",
     "text": [
      "/data/ephemeral/.conda/bin/python\n"
     ]
    }
   ],
   "source": [
    "import sys\n",
    "print(sys.executable)"
   ]
  },
  {
   "cell_type": "code",
   "execution_count": 7,
   "metadata": {},
   "outputs": [
    {
     "data": {
      "application/vnd.jupyter.widget-view+json": {
       "model_id": "15cee45672fc41ffaa42036f4e9eb061",
       "version_major": 2,
       "version_minor": 0
      },
      "text/plain": [
       "pytorch_model.bin:   0%|          | 0.00/1.30G [00:00<?, ?B/s]"
      ]
     },
     "metadata": {},
     "output_type": "display_data"
    },
    {
     "data": {
      "application/vnd.jupyter.widget-view+json": {
       "model_id": "5a85f6a5f8624a7ca75eeba75f43a530",
       "version_major": 2,
       "version_minor": 0
      },
      "text/plain": [
       "generation_config.json:   0%|          | 0.00/142 [00:00<?, ?B/s]"
      ]
     },
     "metadata": {},
     "output_type": "display_data"
    },
    {
     "data": {
      "application/vnd.jupyter.widget-view+json": {
       "model_id": "72a5fdd9c3fd4cc9b41f5b7f4690eb55",
       "version_major": 2,
       "version_minor": 0
      },
      "text/plain": [
       "spiece.model:   0%|          | 0.00/1.20M [00:00<?, ?B/s]"
      ]
     },
     "metadata": {},
     "output_type": "display_data"
    },
    {
     "data": {
      "application/vnd.jupyter.widget-view+json": {
       "model_id": "ad6e4ab4b09c46559ea44a58f9d6e115",
       "version_major": 2,
       "version_minor": 0
      },
      "text/plain": [
       "special_tokens_map.json:   0%|          | 0.00/74.0 [00:00<?, ?B/s]"
      ]
     },
     "metadata": {},
     "output_type": "display_data"
    },
    {
     "data": {
      "application/vnd.jupyter.widget-view+json": {
       "model_id": "42bfb9c6fbcc41d3905917b055033aec",
       "version_major": 2,
       "version_minor": 0
      },
      "text/plain": [
       "tokenizer_config.json:   0%|          | 0.00/285 [00:00<?, ?B/s]"
      ]
     },
     "metadata": {},
     "output_type": "display_data"
    }
   ],
   "source": [
    "model = T5ForConditionalGeneration.from_pretrained('j5ng/et5-typos-corrector',cache_dir='/data/ephemeral/tmp')\n",
    "tokenizer = T5Tokenizer.from_pretrained('j5ng/et5-typos-corrector')\n",
    "\n",
    "typos_corrector = pipeline(\n",
    "    \"text2text-generation\",\n",
    "    model=model,\n",
    "    tokenizer=tokenizer,\n",
    "    device=0 if torch.cuda.is_available() else -1,\n",
    "    framework=\"pt\",\n",
    ")"
   ]
  },
  {
   "cell_type": "code",
   "execution_count": 8,
   "metadata": {},
   "outputs": [
    {
     "name": "stdout",
     "output_type": "stream",
     "text": [
      "완전 어이없네 진짜 ᄏᄏᄏᄏ.\n"
     ]
    }
   ],
   "source": [
    "input_text = \"완죤 어이업ㅅ네진쨬ㅋㅋㅋ\"\n",
    "output_text = typos_corrector(\"맞춤법을 고쳐주세요: \" + input_text,\n",
    "            max_length=128,\n",
    "            num_beams=5,\n",
    "            early_stopping=True)[0]['generated_text']\n",
    "print(output_text)"
   ]
  },
  {
   "cell_type": "code",
   "execution_count": 22,
   "metadata": {},
   "outputs": [],
   "source": [
    "def p2g(sent):\n",
    "    output = typos_corrector(\"맞춤법을 고쳐주세요: \" + sent,\n",
    "            max_length=50,\n",
    "            num_beams=5,\n",
    "            early_stopping=True)[0]['generated_text']\n",
    "    return output"
   ]
  },
  {
   "cell_type": "code",
   "execution_count": 23,
   "metadata": {},
   "outputs": [],
   "source": [
    "g2p_10 = ['당대 최고 포수 양이지 올 시즌 성적 쩌도 신기함니다',\n",
    "          '이뤄 뢰구긴 관광개 길보니 한구긔 이배…격차 계소 콱때되나',\n",
    "          '유니테스트 SK하이닉쓰와 칠시보어권 반도체 장비 공급께약',\n",
    "          '사월부터 통신사 고객쎈터 점심시가넨 긴급쌍담만 반는다',\n",
    "          '인테리어로 스마트홈 구축…SKT 에코인테리어혀푀와 MOU',\n",
    "          'SKT 삼심마눤대 스마트폰 갤럭씨 와이드 단독 출시',\n",
    "          '유엘 리비아 내저 나콰·국쩨저 콱싸 누려…아라변맹 긴그푀의',\n",
    "          '자고나면 한 명씽 느느 녜비후보…열기 다라오르는 서부산',\n",
    "          '예상모탄 결과서 노벨상 나온다…게소 견구지워니 중요',\n",
    "          '제오회 수림문학쌍 오늘부터 공모…장편소설 대상']"
   ]
  },
  {
   "cell_type": "code",
   "execution_count": 24,
   "metadata": {},
   "outputs": [
    {
     "name": "stderr",
     "output_type": "stream",
     "text": [
      "/data/ephemeral/.conda/lib/python3.10/site-packages/transformers/pipelines/base.py:1045: UserWarning: You seem to be using the pipelines sequentially on GPU. In order to maximize efficiency please use a dataset\n",
      "  warnings.warn(\n"
     ]
    }
   ],
   "source": [
    "g2p_10_result = [p2g(r) for r in g2p_10]"
   ]
  },
  {
   "cell_type": "code",
   "execution_count": 26,
   "metadata": {},
   "outputs": [
    {
     "data": {
      "text/plain": [
       "['당대 최고 포수 양이지 올 시즌 성적 쩌도 신기합니다.',\n",
       " '이뤄 롯데긴 관광 개길 보니 한구츠 이배 격차 계소 콱 때 되나.',\n",
       " '유니테스트 SK하이닉쓰와 칠시 보어권 반도체 장비 공급 약속.',\n",
       " '사월부터 통신사 고객 센터 점심 시간이네 긴급 쌍담만 반긴다.',\n",
       " '인테리어로 스마트홈 구축 SKT 에코 인테리어 인테리어 해 와 MOU.',\n",
       " 'SKT 삼심만대 스마트폰 갤럭씨 와이드 단독 출시.',\n",
       " '유엘 리비아 내저 나콰 국짜저 콱 싸 누려 hate-speech.',\n",
       " '자고 나면 한 명씽 느는 녜비 후보 열기 다라오르는 서부산.',\n",
       " '예상 모탄 결과서 노벨상 나온다면서 견구지워니 중요.',\n",
       " '제오회 수림 문학 쌍 오늘부터 공모 장편 소설 대상.']"
      ]
     },
     "execution_count": 26,
     "metadata": {},
     "output_type": "execute_result"
    }
   ],
   "source": [
    "g2p_10_result"
   ]
  },
  {
   "cell_type": "markdown",
   "metadata": {},
   "source": [
    "### P2G 교정"
   ]
  },
  {
   "cell_type": "code",
   "execution_count": 15,
   "metadata": {},
   "outputs": [],
   "source": [
    "import pandas as pd\n",
    "from tqdm import tqdm"
   ]
  },
  {
   "cell_type": "code",
   "execution_count": 13,
   "metadata": {},
   "outputs": [
    {
     "data": {
      "text/html": [
       "<div>\n",
       "<style scoped>\n",
       "    .dataframe tbody tr th:only-of-type {\n",
       "        vertical-align: middle;\n",
       "    }\n",
       "\n",
       "    .dataframe tbody tr th {\n",
       "        vertical-align: top;\n",
       "    }\n",
       "\n",
       "    .dataframe thead th {\n",
       "        text-align: right;\n",
       "    }\n",
       "</style>\n",
       "<table border=\"1\" class=\"dataframe\">\n",
       "  <thead>\n",
       "    <tr style=\"text-align: right;\">\n",
       "      <th></th>\n",
       "      <th>ID</th>\n",
       "      <th>text</th>\n",
       "      <th>target</th>\n",
       "      <th>url</th>\n",
       "      <th>date</th>\n",
       "    </tr>\n",
       "  </thead>\n",
       "  <tbody>\n",
       "    <tr>\n",
       "      <th>0</th>\n",
       "      <td>ynat-v1_train_00000</td>\n",
       "      <td>개포2단지 분양 앞두고 개포지구 재건축 불붙어</td>\n",
       "      <td>1</td>\n",
       "      <td>https://news.naver.com/main/read.nhn?mode=LS2D...</td>\n",
       "      <td>2016.03.16. 오전 11:37</td>\n",
       "    </tr>\n",
       "    <tr>\n",
       "      <th>1</th>\n",
       "      <td>ynat-v1_train_00001</td>\n",
       "      <td>삼성전자 KBIS 2018서 셰프컬렉션 선보여</td>\n",
       "      <td>0</td>\n",
       "      <td>https://news.naver.com/main/read.nhn?mode=LS2D...</td>\n",
       "      <td>2018.01.10. 오전 8:33</td>\n",
       "    </tr>\n",
       "    <tr>\n",
       "      <th>2</th>\n",
       "      <td>ynat-v1_train_00002</td>\n",
       "      <td>LG G6 사면 BO 이어폰이 단돈 5천원</td>\n",
       "      <td>0</td>\n",
       "      <td>https://news.naver.com/main/read.nhn?mode=LS2D...</td>\n",
       "      <td>2017.04.30. 오전 10:00</td>\n",
       "    </tr>\n",
       "    <tr>\n",
       "      <th>3</th>\n",
       "      <td>ynat-v1_train_00003</td>\n",
       "      <td>신간 블록체인혁명 2030·남자의 고독사</td>\n",
       "      <td>3</td>\n",
       "      <td>https://news.naver.com/main/read.nhn?mode=LS2D...</td>\n",
       "      <td>2019.06.13. 오전 11:49</td>\n",
       "    </tr>\n",
       "    <tr>\n",
       "      <th>4</th>\n",
       "      <td>ynat-v1_train_00004</td>\n",
       "      <td>이스라엘 정보당국 팔레스타인인 50명 테러 혐의로 체포</td>\n",
       "      <td>4</td>\n",
       "      <td>https://news.naver.com/main/read.nhn?mode=LS2D...</td>\n",
       "      <td>2019.12.18. 오후 11:15</td>\n",
       "    </tr>\n",
       "    <tr>\n",
       "      <th>...</th>\n",
       "      <td>...</td>\n",
       "      <td>...</td>\n",
       "      <td>...</td>\n",
       "      <td>...</td>\n",
       "      <td>...</td>\n",
       "    </tr>\n",
       "    <tr>\n",
       "      <th>6995</th>\n",
       "      <td>ynat-v1_train_06995</td>\n",
       "      <td>힐만 SK 감독 고통스럽지만 내 상황 솔직히 알려야 해</td>\n",
       "      <td>5</td>\n",
       "      <td>https://sports.news.naver.com/news.nhn?oid=001...</td>\n",
       "      <td>2018.10.13 15:46</td>\n",
       "    </tr>\n",
       "    <tr>\n",
       "      <th>6996</th>\n",
       "      <td>ynat-v1_train_06996</td>\n",
       "      <td>정의장 사드 국회동의 사안 아니라 쳐도 충분히 협의해야</td>\n",
       "      <td>6</td>\n",
       "      <td>https://news.naver.com/main/read.nhn?mode=LS2D...</td>\n",
       "      <td>2016.07.17. 오후 6:20</td>\n",
       "    </tr>\n",
       "    <tr>\n",
       "      <th>6997</th>\n",
       "      <td>ynat-v1_train_06997</td>\n",
       "      <td>정치권 엘시티 수사 돌발변수에 촉각…왜 지금</td>\n",
       "      <td>6</td>\n",
       "      <td>https://news.naver.com/main/read.nhn?mode=LS2D...</td>\n",
       "      <td>2016.11.16. 오후 6:24</td>\n",
       "    </tr>\n",
       "    <tr>\n",
       "      <th>6998</th>\n",
       "      <td>ynat-v1_train_06998</td>\n",
       "      <td>문 대통령 1987 관람…깜짝 방문에 객석 환호·박수종합</td>\n",
       "      <td>6</td>\n",
       "      <td>https://news.naver.com/main/read.nhn?mode=LS2D...</td>\n",
       "      <td>2018.01.07. 오후 5:23</td>\n",
       "    </tr>\n",
       "    <tr>\n",
       "      <th>6999</th>\n",
       "      <td>ynat-v1_train_06999</td>\n",
       "      <td>120년 전 대한제국으로…가을밤 정동에서 시간 여행 떠나다</td>\n",
       "      <td>3</td>\n",
       "      <td>https://news.naver.com/main/read.nhn?mode=LS2D...</td>\n",
       "      <td>2016.10.28. 오후 8:13</td>\n",
       "    </tr>\n",
       "  </tbody>\n",
       "</table>\n",
       "<p>7000 rows × 5 columns</p>\n",
       "</div>"
      ],
      "text/plain": [
       "                       ID                              text  target  \\\n",
       "0     ynat-v1_train_00000         개포2단지 분양 앞두고 개포지구 재건축 불붙어       1   \n",
       "1     ynat-v1_train_00001         삼성전자 KBIS 2018서 셰프컬렉션 선보여       0   \n",
       "2     ynat-v1_train_00002           LG G6 사면 BO 이어폰이 단돈 5천원       0   \n",
       "3     ynat-v1_train_00003            신간 블록체인혁명 2030·남자의 고독사       3   \n",
       "4     ynat-v1_train_00004    이스라엘 정보당국 팔레스타인인 50명 테러 혐의로 체포       4   \n",
       "...                   ...                               ...     ...   \n",
       "6995  ynat-v1_train_06995    힐만 SK 감독 고통스럽지만 내 상황 솔직히 알려야 해       5   \n",
       "6996  ynat-v1_train_06996    정의장 사드 국회동의 사안 아니라 쳐도 충분히 협의해야       6   \n",
       "6997  ynat-v1_train_06997          정치권 엘시티 수사 돌발변수에 촉각…왜 지금       6   \n",
       "6998  ynat-v1_train_06998   문 대통령 1987 관람…깜짝 방문에 객석 환호·박수종합       6   \n",
       "6999  ynat-v1_train_06999  120년 전 대한제국으로…가을밤 정동에서 시간 여행 떠나다       3   \n",
       "\n",
       "                                                    url                  date  \n",
       "0     https://news.naver.com/main/read.nhn?mode=LS2D...  2016.03.16. 오전 11:37  \n",
       "1     https://news.naver.com/main/read.nhn?mode=LS2D...   2018.01.10. 오전 8:33  \n",
       "2     https://news.naver.com/main/read.nhn?mode=LS2D...  2017.04.30. 오전 10:00  \n",
       "3     https://news.naver.com/main/read.nhn?mode=LS2D...  2019.06.13. 오전 11:49  \n",
       "4     https://news.naver.com/main/read.nhn?mode=LS2D...  2019.12.18. 오후 11:15  \n",
       "...                                                 ...                   ...  \n",
       "6995  https://sports.news.naver.com/news.nhn?oid=001...      2018.10.13 15:46  \n",
       "6996  https://news.naver.com/main/read.nhn?mode=LS2D...   2016.07.17. 오후 6:20  \n",
       "6997  https://news.naver.com/main/read.nhn?mode=LS2D...   2016.11.16. 오후 6:24  \n",
       "6998  https://news.naver.com/main/read.nhn?mode=LS2D...   2018.01.07. 오후 5:23  \n",
       "6999  https://news.naver.com/main/read.nhn?mode=LS2D...   2016.10.28. 오후 8:13  \n",
       "\n",
       "[7000 rows x 5 columns]"
      ]
     },
     "execution_count": 13,
     "metadata": {},
     "output_type": "execute_result"
    }
   ],
   "source": [
    "# train 데이터 불러오기\n",
    "train_df = pd.read_csv('../data/train.csv')\n",
    "train_df"
   ]
  },
  {
   "cell_type": "code",
   "execution_count": 16,
   "metadata": {},
   "outputs": [
    {
     "name": "stderr",
     "output_type": "stream",
     "text": [
      "  0%|          | 10/7000 [00:02<26:10,  4.45it/s]/data/ephemeral/.conda/lib/python3.10/site-packages/transformers/pipelines/base.py:1045: UserWarning: You seem to be using the pipelines sequentially on GPU. In order to maximize efficiency please use a dataset\n",
      "  warnings.warn(\n",
      "100%|██████████| 7000/7000 [26:46<00:00,  4.36it/s]\n"
     ]
    }
   ],
   "source": [
    "# train_df의 text에 apply를 통해 p2g 함수를 적용한 결과를 새로운 컬럼인 p2g_text에 저장\n",
    "tqdm.pandas()\n",
    "train_df['p2g_text'] = train_df['text'].progress_apply(p2g)"
   ]
  },
  {
   "cell_type": "code",
   "execution_count": 17,
   "metadata": {},
   "outputs": [
    {
     "data": {
      "text/html": [
       "<div>\n",
       "<style scoped>\n",
       "    .dataframe tbody tr th:only-of-type {\n",
       "        vertical-align: middle;\n",
       "    }\n",
       "\n",
       "    .dataframe tbody tr th {\n",
       "        vertical-align: top;\n",
       "    }\n",
       "\n",
       "    .dataframe thead th {\n",
       "        text-align: right;\n",
       "    }\n",
       "</style>\n",
       "<table border=\"1\" class=\"dataframe\">\n",
       "  <thead>\n",
       "    <tr style=\"text-align: right;\">\n",
       "      <th></th>\n",
       "      <th>ID</th>\n",
       "      <th>text</th>\n",
       "      <th>target</th>\n",
       "      <th>url</th>\n",
       "      <th>date</th>\n",
       "      <th>p2g_text</th>\n",
       "    </tr>\n",
       "  </thead>\n",
       "  <tbody>\n",
       "    <tr>\n",
       "      <th>0</th>\n",
       "      <td>ynat-v1_train_00000</td>\n",
       "      <td>개포2단지 분양 앞두고 개포지구 재건축 불붙어</td>\n",
       "      <td>1</td>\n",
       "      <td>https://news.naver.com/main/read.nhn?mode=LS2D...</td>\n",
       "      <td>2016.03.16. 오전 11:37</td>\n",
       "      <td>개포2단지 분양 앞두고 개포지구 재건축 불 붙어.</td>\n",
       "    </tr>\n",
       "    <tr>\n",
       "      <th>1</th>\n",
       "      <td>ynat-v1_train_00001</td>\n",
       "      <td>삼성전자 KBIS 2018서 셰프컬렉션 선보여</td>\n",
       "      <td>0</td>\n",
       "      <td>https://news.naver.com/main/read.nhn?mode=LS2D...</td>\n",
       "      <td>2018.01.10. 오전 8:33</td>\n",
       "      <td>삼성전자 KBIS 2018서 셰프 컬렉션 선보.</td>\n",
       "    </tr>\n",
       "    <tr>\n",
       "      <th>2</th>\n",
       "      <td>ynat-v1_train_00002</td>\n",
       "      <td>LG G6 사면 BO 이어폰이 단돈 5천원</td>\n",
       "      <td>0</td>\n",
       "      <td>https://news.naver.com/main/read.nhn?mode=LS2D...</td>\n",
       "      <td>2017.04.30. 오전 10:00</td>\n",
       "      <td>LG G6 사면 BO 이어폰이 단돈 5천 원.</td>\n",
       "    </tr>\n",
       "    <tr>\n",
       "      <th>3</th>\n",
       "      <td>ynat-v1_train_00003</td>\n",
       "      <td>신간 블록체인혁명 2030·남자의 고독사</td>\n",
       "      <td>3</td>\n",
       "      <td>https://news.naver.com/main/read.nhn?mode=LS2D...</td>\n",
       "      <td>2019.06.13. 오전 11:49</td>\n",
       "      <td>신간 블록체인 혁명 2030·남자의 고독사.</td>\n",
       "    </tr>\n",
       "    <tr>\n",
       "      <th>4</th>\n",
       "      <td>ynat-v1_train_00004</td>\n",
       "      <td>이스라엘 정보당국 팔레스타인인 50명 테러 혐의로 체포</td>\n",
       "      <td>4</td>\n",
       "      <td>https://news.naver.com/main/read.nhn?mode=LS2D...</td>\n",
       "      <td>2019.12.18. 오후 11:15</td>\n",
       "      <td>이스라엘 정보당국 팔레스타인인 50명 테러혐의로 체포.</td>\n",
       "    </tr>\n",
       "    <tr>\n",
       "      <th>...</th>\n",
       "      <td>...</td>\n",
       "      <td>...</td>\n",
       "      <td>...</td>\n",
       "      <td>...</td>\n",
       "      <td>...</td>\n",
       "      <td>...</td>\n",
       "    </tr>\n",
       "    <tr>\n",
       "      <th>6995</th>\n",
       "      <td>ynat-v1_train_06995</td>\n",
       "      <td>힐만 SK 감독 고통스럽지만 내 상황 솔직히 알려야 해</td>\n",
       "      <td>5</td>\n",
       "      <td>https://sports.news.naver.com/news.nhn?oid=001...</td>\n",
       "      <td>2018.10.13 15:46</td>\n",
       "      <td>힐만 SK 감독 고통스럽지만 내 상황 솔직히 알려야 해.</td>\n",
       "    </tr>\n",
       "    <tr>\n",
       "      <th>6996</th>\n",
       "      <td>ynat-v1_train_06996</td>\n",
       "      <td>정의장 사드 국회동의 사안 아니라 쳐도 충분히 협의해야</td>\n",
       "      <td>6</td>\n",
       "      <td>https://news.naver.com/main/read.nhn?mode=LS2D...</td>\n",
       "      <td>2016.07.17. 오후 6:20</td>\n",
       "      <td>정의장 사드 국회 동의 사항 아니라 쳐도 충분히 협의해야.</td>\n",
       "    </tr>\n",
       "    <tr>\n",
       "      <th>6997</th>\n",
       "      <td>ynat-v1_train_06997</td>\n",
       "      <td>정치권 엘시티 수사 돌발변수에 촉각…왜 지금</td>\n",
       "      <td>6</td>\n",
       "      <td>https://news.naver.com/main/read.nhn?mode=LS2D...</td>\n",
       "      <td>2016.11.16. 오후 6:24</td>\n",
       "      <td>정치권 엘시티 수사 돌발 변수에 촉각 왜 지금?.</td>\n",
       "    </tr>\n",
       "    <tr>\n",
       "      <th>6998</th>\n",
       "      <td>ynat-v1_train_06998</td>\n",
       "      <td>문 대통령 1987 관람…깜짝 방문에 객석 환호·박수종합</td>\n",
       "      <td>6</td>\n",
       "      <td>https://news.naver.com/main/read.nhn?mode=LS2D...</td>\n",
       "      <td>2018.01.07. 오후 5:23</td>\n",
       "      <td>문재인 대통령 1988 관람.</td>\n",
       "    </tr>\n",
       "    <tr>\n",
       "      <th>6999</th>\n",
       "      <td>ynat-v1_train_06999</td>\n",
       "      <td>120년 전 대한제국으로…가을밤 정동에서 시간 여행 떠나다</td>\n",
       "      <td>3</td>\n",
       "      <td>https://news.naver.com/main/read.nhn?mode=LS2D...</td>\n",
       "      <td>2016.10.28. 오후 8:13</td>\n",
       "      <td>120년 전 대한 제국으로 가을 밤 정동에서 시간 여행 떠나다.</td>\n",
       "    </tr>\n",
       "  </tbody>\n",
       "</table>\n",
       "<p>7000 rows × 6 columns</p>\n",
       "</div>"
      ],
      "text/plain": [
       "                       ID                              text  target  \\\n",
       "0     ynat-v1_train_00000         개포2단지 분양 앞두고 개포지구 재건축 불붙어       1   \n",
       "1     ynat-v1_train_00001         삼성전자 KBIS 2018서 셰프컬렉션 선보여       0   \n",
       "2     ynat-v1_train_00002           LG G6 사면 BO 이어폰이 단돈 5천원       0   \n",
       "3     ynat-v1_train_00003            신간 블록체인혁명 2030·남자의 고독사       3   \n",
       "4     ynat-v1_train_00004    이스라엘 정보당국 팔레스타인인 50명 테러 혐의로 체포       4   \n",
       "...                   ...                               ...     ...   \n",
       "6995  ynat-v1_train_06995    힐만 SK 감독 고통스럽지만 내 상황 솔직히 알려야 해       5   \n",
       "6996  ynat-v1_train_06996    정의장 사드 국회동의 사안 아니라 쳐도 충분히 협의해야       6   \n",
       "6997  ynat-v1_train_06997          정치권 엘시티 수사 돌발변수에 촉각…왜 지금       6   \n",
       "6998  ynat-v1_train_06998   문 대통령 1987 관람…깜짝 방문에 객석 환호·박수종합       6   \n",
       "6999  ynat-v1_train_06999  120년 전 대한제국으로…가을밤 정동에서 시간 여행 떠나다       3   \n",
       "\n",
       "                                                    url                  date  \\\n",
       "0     https://news.naver.com/main/read.nhn?mode=LS2D...  2016.03.16. 오전 11:37   \n",
       "1     https://news.naver.com/main/read.nhn?mode=LS2D...   2018.01.10. 오전 8:33   \n",
       "2     https://news.naver.com/main/read.nhn?mode=LS2D...  2017.04.30. 오전 10:00   \n",
       "3     https://news.naver.com/main/read.nhn?mode=LS2D...  2019.06.13. 오전 11:49   \n",
       "4     https://news.naver.com/main/read.nhn?mode=LS2D...  2019.12.18. 오후 11:15   \n",
       "...                                                 ...                   ...   \n",
       "6995  https://sports.news.naver.com/news.nhn?oid=001...      2018.10.13 15:46   \n",
       "6996  https://news.naver.com/main/read.nhn?mode=LS2D...   2016.07.17. 오후 6:20   \n",
       "6997  https://news.naver.com/main/read.nhn?mode=LS2D...   2016.11.16. 오후 6:24   \n",
       "6998  https://news.naver.com/main/read.nhn?mode=LS2D...   2018.01.07. 오후 5:23   \n",
       "6999  https://news.naver.com/main/read.nhn?mode=LS2D...   2016.10.28. 오후 8:13   \n",
       "\n",
       "                                 p2g_text  \n",
       "0             개포2단지 분양 앞두고 개포지구 재건축 불 붙어.  \n",
       "1              삼성전자 KBIS 2018서 셰프 컬렉션 선보.  \n",
       "2               LG G6 사면 BO 이어폰이 단돈 5천 원.  \n",
       "3                신간 블록체인 혁명 2030·남자의 고독사.  \n",
       "4          이스라엘 정보당국 팔레스타인인 50명 테러혐의로 체포.  \n",
       "...                                   ...  \n",
       "6995      힐만 SK 감독 고통스럽지만 내 상황 솔직히 알려야 해.  \n",
       "6996     정의장 사드 국회 동의 사항 아니라 쳐도 충분히 협의해야.  \n",
       "6997          정치권 엘시티 수사 돌발 변수에 촉각 왜 지금?.  \n",
       "6998                     문재인 대통령 1988 관람.  \n",
       "6999  120년 전 대한 제국으로 가을 밤 정동에서 시간 여행 떠나다.  \n",
       "\n",
       "[7000 rows x 6 columns]"
      ]
     },
     "execution_count": 17,
     "metadata": {},
     "output_type": "execute_result"
    }
   ],
   "source": [
    "train_df"
   ]
  },
  {
   "cell_type": "code",
   "execution_count": 18,
   "metadata": {},
   "outputs": [],
   "source": [
    "# 저장\n",
    "train_df.to_csv('../data/train_p2g.csv', index=False)"
   ]
  },
  {
   "cell_type": "code",
   "execution_count": 19,
   "metadata": {},
   "outputs": [
    {
     "data": {
      "text/html": [
       "<div>\n",
       "<style scoped>\n",
       "    .dataframe tbody tr th:only-of-type {\n",
       "        vertical-align: middle;\n",
       "    }\n",
       "\n",
       "    .dataframe tbody tr th {\n",
       "        vertical-align: top;\n",
       "    }\n",
       "\n",
       "    .dataframe thead th {\n",
       "        text-align: right;\n",
       "    }\n",
       "</style>\n",
       "<table border=\"1\" class=\"dataframe\">\n",
       "  <thead>\n",
       "    <tr style=\"text-align: right;\">\n",
       "      <th></th>\n",
       "      <th>ID</th>\n",
       "      <th>text</th>\n",
       "      <th>target</th>\n",
       "      <th>url</th>\n",
       "      <th>date</th>\n",
       "      <th>p2g_text</th>\n",
       "      <th>is_same</th>\n",
       "    </tr>\n",
       "  </thead>\n",
       "  <tbody>\n",
       "    <tr>\n",
       "      <th>0</th>\n",
       "      <td>ynat-v1_train_00000</td>\n",
       "      <td>개포2단지 분양 앞두고 개포지구 재건축 불붙어</td>\n",
       "      <td>1</td>\n",
       "      <td>https://news.naver.com/main/read.nhn?mode=LS2D...</td>\n",
       "      <td>2016.03.16. 오전 11:37</td>\n",
       "      <td>개포2단지 분양 앞두고 개포지구 재건축 불 붙어.</td>\n",
       "      <td>False</td>\n",
       "    </tr>\n",
       "    <tr>\n",
       "      <th>1</th>\n",
       "      <td>ynat-v1_train_00001</td>\n",
       "      <td>삼성전자 KBIS 2018서 셰프컬렉션 선보여</td>\n",
       "      <td>0</td>\n",
       "      <td>https://news.naver.com/main/read.nhn?mode=LS2D...</td>\n",
       "      <td>2018.01.10. 오전 8:33</td>\n",
       "      <td>삼성전자 KBIS 2018서 셰프 컬렉션 선보.</td>\n",
       "      <td>False</td>\n",
       "    </tr>\n",
       "    <tr>\n",
       "      <th>2</th>\n",
       "      <td>ynat-v1_train_00002</td>\n",
       "      <td>LG G6 사면 BO 이어폰이 단돈 5천원</td>\n",
       "      <td>0</td>\n",
       "      <td>https://news.naver.com/main/read.nhn?mode=LS2D...</td>\n",
       "      <td>2017.04.30. 오전 10:00</td>\n",
       "      <td>LG G6 사면 BO 이어폰이 단돈 5천 원.</td>\n",
       "      <td>False</td>\n",
       "    </tr>\n",
       "    <tr>\n",
       "      <th>3</th>\n",
       "      <td>ynat-v1_train_00003</td>\n",
       "      <td>신간 블록체인혁명 2030·남자의 고독사</td>\n",
       "      <td>3</td>\n",
       "      <td>https://news.naver.com/main/read.nhn?mode=LS2D...</td>\n",
       "      <td>2019.06.13. 오전 11:49</td>\n",
       "      <td>신간 블록체인 혁명 2030·남자의 고독사.</td>\n",
       "      <td>False</td>\n",
       "    </tr>\n",
       "    <tr>\n",
       "      <th>4</th>\n",
       "      <td>ynat-v1_train_00004</td>\n",
       "      <td>이스라엘 정보당국 팔레스타인인 50명 테러 혐의로 체포</td>\n",
       "      <td>4</td>\n",
       "      <td>https://news.naver.com/main/read.nhn?mode=LS2D...</td>\n",
       "      <td>2019.12.18. 오후 11:15</td>\n",
       "      <td>이스라엘 정보당국 팔레스타인인 50명 테러혐의로 체포.</td>\n",
       "      <td>False</td>\n",
       "    </tr>\n",
       "    <tr>\n",
       "      <th>...</th>\n",
       "      <td>...</td>\n",
       "      <td>...</td>\n",
       "      <td>...</td>\n",
       "      <td>...</td>\n",
       "      <td>...</td>\n",
       "      <td>...</td>\n",
       "      <td>...</td>\n",
       "    </tr>\n",
       "    <tr>\n",
       "      <th>6995</th>\n",
       "      <td>ynat-v1_train_06995</td>\n",
       "      <td>힐만 SK 감독 고통스럽지만 내 상황 솔직히 알려야 해</td>\n",
       "      <td>5</td>\n",
       "      <td>https://sports.news.naver.com/news.nhn?oid=001...</td>\n",
       "      <td>2018.10.13 15:46</td>\n",
       "      <td>힐만 SK 감독 고통스럽지만 내 상황 솔직히 알려야 해.</td>\n",
       "      <td>False</td>\n",
       "    </tr>\n",
       "    <tr>\n",
       "      <th>6996</th>\n",
       "      <td>ynat-v1_train_06996</td>\n",
       "      <td>정의장 사드 국회동의 사안 아니라 쳐도 충분히 협의해야</td>\n",
       "      <td>6</td>\n",
       "      <td>https://news.naver.com/main/read.nhn?mode=LS2D...</td>\n",
       "      <td>2016.07.17. 오후 6:20</td>\n",
       "      <td>정의장 사드 국회 동의 사항 아니라 쳐도 충분히 협의해야.</td>\n",
       "      <td>False</td>\n",
       "    </tr>\n",
       "    <tr>\n",
       "      <th>6997</th>\n",
       "      <td>ynat-v1_train_06997</td>\n",
       "      <td>정치권 엘시티 수사 돌발변수에 촉각…왜 지금</td>\n",
       "      <td>6</td>\n",
       "      <td>https://news.naver.com/main/read.nhn?mode=LS2D...</td>\n",
       "      <td>2016.11.16. 오후 6:24</td>\n",
       "      <td>정치권 엘시티 수사 돌발 변수에 촉각 왜 지금?.</td>\n",
       "      <td>False</td>\n",
       "    </tr>\n",
       "    <tr>\n",
       "      <th>6998</th>\n",
       "      <td>ynat-v1_train_06998</td>\n",
       "      <td>문 대통령 1987 관람…깜짝 방문에 객석 환호·박수종합</td>\n",
       "      <td>6</td>\n",
       "      <td>https://news.naver.com/main/read.nhn?mode=LS2D...</td>\n",
       "      <td>2018.01.07. 오후 5:23</td>\n",
       "      <td>문재인 대통령 1988 관람.</td>\n",
       "      <td>False</td>\n",
       "    </tr>\n",
       "    <tr>\n",
       "      <th>6999</th>\n",
       "      <td>ynat-v1_train_06999</td>\n",
       "      <td>120년 전 대한제국으로…가을밤 정동에서 시간 여행 떠나다</td>\n",
       "      <td>3</td>\n",
       "      <td>https://news.naver.com/main/read.nhn?mode=LS2D...</td>\n",
       "      <td>2016.10.28. 오후 8:13</td>\n",
       "      <td>120년 전 대한 제국으로 가을 밤 정동에서 시간 여행 떠나다.</td>\n",
       "      <td>False</td>\n",
       "    </tr>\n",
       "  </tbody>\n",
       "</table>\n",
       "<p>7000 rows × 7 columns</p>\n",
       "</div>"
      ],
      "text/plain": [
       "                       ID                              text  target  \\\n",
       "0     ynat-v1_train_00000         개포2단지 분양 앞두고 개포지구 재건축 불붙어       1   \n",
       "1     ynat-v1_train_00001         삼성전자 KBIS 2018서 셰프컬렉션 선보여       0   \n",
       "2     ynat-v1_train_00002           LG G6 사면 BO 이어폰이 단돈 5천원       0   \n",
       "3     ynat-v1_train_00003            신간 블록체인혁명 2030·남자의 고독사       3   \n",
       "4     ynat-v1_train_00004    이스라엘 정보당국 팔레스타인인 50명 테러 혐의로 체포       4   \n",
       "...                   ...                               ...     ...   \n",
       "6995  ynat-v1_train_06995    힐만 SK 감독 고통스럽지만 내 상황 솔직히 알려야 해       5   \n",
       "6996  ynat-v1_train_06996    정의장 사드 국회동의 사안 아니라 쳐도 충분히 협의해야       6   \n",
       "6997  ynat-v1_train_06997          정치권 엘시티 수사 돌발변수에 촉각…왜 지금       6   \n",
       "6998  ynat-v1_train_06998   문 대통령 1987 관람…깜짝 방문에 객석 환호·박수종합       6   \n",
       "6999  ynat-v1_train_06999  120년 전 대한제국으로…가을밤 정동에서 시간 여행 떠나다       3   \n",
       "\n",
       "                                                    url                  date  \\\n",
       "0     https://news.naver.com/main/read.nhn?mode=LS2D...  2016.03.16. 오전 11:37   \n",
       "1     https://news.naver.com/main/read.nhn?mode=LS2D...   2018.01.10. 오전 8:33   \n",
       "2     https://news.naver.com/main/read.nhn?mode=LS2D...  2017.04.30. 오전 10:00   \n",
       "3     https://news.naver.com/main/read.nhn?mode=LS2D...  2019.06.13. 오전 11:49   \n",
       "4     https://news.naver.com/main/read.nhn?mode=LS2D...  2019.12.18. 오후 11:15   \n",
       "...                                                 ...                   ...   \n",
       "6995  https://sports.news.naver.com/news.nhn?oid=001...      2018.10.13 15:46   \n",
       "6996  https://news.naver.com/main/read.nhn?mode=LS2D...   2016.07.17. 오후 6:20   \n",
       "6997  https://news.naver.com/main/read.nhn?mode=LS2D...   2016.11.16. 오후 6:24   \n",
       "6998  https://news.naver.com/main/read.nhn?mode=LS2D...   2018.01.07. 오후 5:23   \n",
       "6999  https://news.naver.com/main/read.nhn?mode=LS2D...   2016.10.28. 오후 8:13   \n",
       "\n",
       "                                 p2g_text  is_same  \n",
       "0             개포2단지 분양 앞두고 개포지구 재건축 불 붙어.    False  \n",
       "1              삼성전자 KBIS 2018서 셰프 컬렉션 선보.    False  \n",
       "2               LG G6 사면 BO 이어폰이 단돈 5천 원.    False  \n",
       "3                신간 블록체인 혁명 2030·남자의 고독사.    False  \n",
       "4          이스라엘 정보당국 팔레스타인인 50명 테러혐의로 체포.    False  \n",
       "...                                   ...      ...  \n",
       "6995      힐만 SK 감독 고통스럽지만 내 상황 솔직히 알려야 해.    False  \n",
       "6996     정의장 사드 국회 동의 사항 아니라 쳐도 충분히 협의해야.    False  \n",
       "6997          정치권 엘시티 수사 돌발 변수에 촉각 왜 지금?.    False  \n",
       "6998                     문재인 대통령 1988 관람.    False  \n",
       "6999  120년 전 대한 제국으로 가을 밤 정동에서 시간 여행 떠나다.    False  \n",
       "\n",
       "[7000 rows x 7 columns]"
      ]
     },
     "execution_count": 19,
     "metadata": {},
     "output_type": "execute_result"
    }
   ],
   "source": [
    "# text와 p2g_text가 같은 경우 1, 다른 경우 0인 컬럼인 is_same을 새로운 컬럼으로 추가\n",
    "\n",
    "train_df['is_same'] = train_df['text'] == train_df['p2g_text']\n",
    "train_df"
   ]
  },
  {
   "cell_type": "code",
   "execution_count": 20,
   "metadata": {},
   "outputs": [
    {
     "data": {
      "text/plain": [
       "is_same\n",
       "False    7000\n",
       "Name: count, dtype: int64"
      ]
     },
     "execution_count": 20,
     "metadata": {},
     "output_type": "execute_result"
    }
   ],
   "source": [
    "train_df['is_same'].value_counts()"
   ]
  },
  {
   "cell_type": "code",
   "execution_count": 28,
   "metadata": {},
   "outputs": [
    {
     "data": {
      "text/html": [
       "<div>\n",
       "<style scoped>\n",
       "    .dataframe tbody tr th:only-of-type {\n",
       "        vertical-align: middle;\n",
       "    }\n",
       "\n",
       "    .dataframe tbody tr th {\n",
       "        vertical-align: top;\n",
       "    }\n",
       "\n",
       "    .dataframe thead th {\n",
       "        text-align: right;\n",
       "    }\n",
       "</style>\n",
       "<table border=\"1\" class=\"dataframe\">\n",
       "  <thead>\n",
       "    <tr style=\"text-align: right;\">\n",
       "      <th></th>\n",
       "      <th>ID</th>\n",
       "      <th>text</th>\n",
       "      <th>target</th>\n",
       "      <th>url</th>\n",
       "      <th>date</th>\n",
       "    </tr>\n",
       "  </thead>\n",
       "  <tbody>\n",
       "    <tr>\n",
       "      <th>0</th>\n",
       "      <td>ynat-v1_train_00000</td>\n",
       "      <td>개포2단지 분양 앞두고 개포지구 재건축 불 붙어</td>\n",
       "      <td>1</td>\n",
       "      <td>https://news.naver.com/main/read.nhn?mode=LS2D...</td>\n",
       "      <td>2016.03.16. 오전 11:37</td>\n",
       "    </tr>\n",
       "    <tr>\n",
       "      <th>1</th>\n",
       "      <td>ynat-v1_train_00001</td>\n",
       "      <td>삼성전자 KBIS 2018서 셰프 컬렉션 선보</td>\n",
       "      <td>0</td>\n",
       "      <td>https://news.naver.com/main/read.nhn?mode=LS2D...</td>\n",
       "      <td>2018.01.10. 오전 8:33</td>\n",
       "    </tr>\n",
       "    <tr>\n",
       "      <th>2</th>\n",
       "      <td>ynat-v1_train_00002</td>\n",
       "      <td>LG G6 사면 BO 이어폰이 단돈 5천 원</td>\n",
       "      <td>0</td>\n",
       "      <td>https://news.naver.com/main/read.nhn?mode=LS2D...</td>\n",
       "      <td>2017.04.30. 오전 10:00</td>\n",
       "    </tr>\n",
       "    <tr>\n",
       "      <th>3</th>\n",
       "      <td>ynat-v1_train_00003</td>\n",
       "      <td>신간 블록체인 혁명 2030·남자의 고독사</td>\n",
       "      <td>3</td>\n",
       "      <td>https://news.naver.com/main/read.nhn?mode=LS2D...</td>\n",
       "      <td>2019.06.13. 오전 11:49</td>\n",
       "    </tr>\n",
       "    <tr>\n",
       "      <th>4</th>\n",
       "      <td>ynat-v1_train_00004</td>\n",
       "      <td>이스라엘 정보당국 팔레스타인인 50명 테러혐의로 체포</td>\n",
       "      <td>4</td>\n",
       "      <td>https://news.naver.com/main/read.nhn?mode=LS2D...</td>\n",
       "      <td>2019.12.18. 오후 11:15</td>\n",
       "    </tr>\n",
       "    <tr>\n",
       "      <th>...</th>\n",
       "      <td>...</td>\n",
       "      <td>...</td>\n",
       "      <td>...</td>\n",
       "      <td>...</td>\n",
       "      <td>...</td>\n",
       "    </tr>\n",
       "    <tr>\n",
       "      <th>6995</th>\n",
       "      <td>ynat-v1_train_06995</td>\n",
       "      <td>힐만 SK 감독 고통스럽지만 내 상황 솔직히 알려야 해</td>\n",
       "      <td>5</td>\n",
       "      <td>https://sports.news.naver.com/news.nhn?oid=001...</td>\n",
       "      <td>2018.10.13 15:46</td>\n",
       "    </tr>\n",
       "    <tr>\n",
       "      <th>6996</th>\n",
       "      <td>ynat-v1_train_06996</td>\n",
       "      <td>정의장 사드 국회 동의 사항 아니라 쳐도 충분히 협의해야</td>\n",
       "      <td>6</td>\n",
       "      <td>https://news.naver.com/main/read.nhn?mode=LS2D...</td>\n",
       "      <td>2016.07.17. 오후 6:20</td>\n",
       "    </tr>\n",
       "    <tr>\n",
       "      <th>6997</th>\n",
       "      <td>ynat-v1_train_06997</td>\n",
       "      <td>정치권 엘시티 수사 돌발 변수에 촉각 왜 지금?</td>\n",
       "      <td>6</td>\n",
       "      <td>https://news.naver.com/main/read.nhn?mode=LS2D...</td>\n",
       "      <td>2016.11.16. 오후 6:24</td>\n",
       "    </tr>\n",
       "    <tr>\n",
       "      <th>6998</th>\n",
       "      <td>ynat-v1_train_06998</td>\n",
       "      <td>문재인 대통령 1988 관람</td>\n",
       "      <td>6</td>\n",
       "      <td>https://news.naver.com/main/read.nhn?mode=LS2D...</td>\n",
       "      <td>2018.01.07. 오후 5:23</td>\n",
       "    </tr>\n",
       "    <tr>\n",
       "      <th>6999</th>\n",
       "      <td>ynat-v1_train_06999</td>\n",
       "      <td>120년 전 대한 제국으로 가을 밤 정동에서 시간 여행 떠나다</td>\n",
       "      <td>3</td>\n",
       "      <td>https://news.naver.com/main/read.nhn?mode=LS2D...</td>\n",
       "      <td>2016.10.28. 오후 8:13</td>\n",
       "    </tr>\n",
       "  </tbody>\n",
       "</table>\n",
       "<p>7000 rows × 5 columns</p>\n",
       "</div>"
      ],
      "text/plain": [
       "                       ID                                text  target  \\\n",
       "0     ynat-v1_train_00000          개포2단지 분양 앞두고 개포지구 재건축 불 붙어       1   \n",
       "1     ynat-v1_train_00001           삼성전자 KBIS 2018서 셰프 컬렉션 선보       0   \n",
       "2     ynat-v1_train_00002            LG G6 사면 BO 이어폰이 단돈 5천 원       0   \n",
       "3     ynat-v1_train_00003             신간 블록체인 혁명 2030·남자의 고독사       3   \n",
       "4     ynat-v1_train_00004       이스라엘 정보당국 팔레스타인인 50명 테러혐의로 체포       4   \n",
       "...                   ...                                 ...     ...   \n",
       "6995  ynat-v1_train_06995      힐만 SK 감독 고통스럽지만 내 상황 솔직히 알려야 해       5   \n",
       "6996  ynat-v1_train_06996     정의장 사드 국회 동의 사항 아니라 쳐도 충분히 협의해야       6   \n",
       "6997  ynat-v1_train_06997          정치권 엘시티 수사 돌발 변수에 촉각 왜 지금?       6   \n",
       "6998  ynat-v1_train_06998                     문재인 대통령 1988 관람       6   \n",
       "6999  ynat-v1_train_06999  120년 전 대한 제국으로 가을 밤 정동에서 시간 여행 떠나다       3   \n",
       "\n",
       "                                                    url                  date  \n",
       "0     https://news.naver.com/main/read.nhn?mode=LS2D...  2016.03.16. 오전 11:37  \n",
       "1     https://news.naver.com/main/read.nhn?mode=LS2D...   2018.01.10. 오전 8:33  \n",
       "2     https://news.naver.com/main/read.nhn?mode=LS2D...  2017.04.30. 오전 10:00  \n",
       "3     https://news.naver.com/main/read.nhn?mode=LS2D...  2019.06.13. 오전 11:49  \n",
       "4     https://news.naver.com/main/read.nhn?mode=LS2D...  2019.12.18. 오후 11:15  \n",
       "...                                                 ...                   ...  \n",
       "6995  https://sports.news.naver.com/news.nhn?oid=001...      2018.10.13 15:46  \n",
       "6996  https://news.naver.com/main/read.nhn?mode=LS2D...   2016.07.17. 오후 6:20  \n",
       "6997  https://news.naver.com/main/read.nhn?mode=LS2D...   2016.11.16. 오후 6:24  \n",
       "6998  https://news.naver.com/main/read.nhn?mode=LS2D...   2018.01.07. 오후 5:23  \n",
       "6999  https://news.naver.com/main/read.nhn?mode=LS2D...   2016.10.28. 오후 8:13  \n",
       "\n",
       "[7000 rows x 5 columns]"
      ]
     },
     "execution_count": 28,
     "metadata": {},
     "output_type": "execute_result"
    }
   ],
   "source": [
    "# p2g_text에서 마지막에 있는 '.'를 제거한 한 결과를 text에 저장\n",
    "\n",
    "new_train = train_df.copy()\n",
    "new_train['text'] = new_train['p2g_text'].str[:-1]\n",
    "new_train.drop(['p2g_text', 'is_same'], axis=1, inplace=True)\n",
    "new_train"
   ]
  },
  {
   "cell_type": "code",
   "execution_count": 29,
   "metadata": {},
   "outputs": [],
   "source": [
    "# 저장\n",
    "new_train.to_csv('../data/train_p2g.csv', index=False)"
   ]
  },
  {
   "cell_type": "code",
   "execution_count": null,
   "metadata": {},
   "outputs": [],
   "source": []
  }
 ],
 "metadata": {
  "kernelspec": {
   "display_name": "Python 3",
   "language": "python",
   "name": "python3"
  },
  "language_info": {
   "codemirror_mode": {
    "name": "ipython",
    "version": 3
   },
   "file_extension": ".py",
   "mimetype": "text/x-python",
   "name": "python",
   "nbconvert_exporter": "python",
   "pygments_lexer": "ipython3",
   "version": "3.10.13"
  }
 },
 "nbformat": 4,
 "nbformat_minor": 2
}
