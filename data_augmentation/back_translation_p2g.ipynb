{
 "cells": [
  {
   "cell_type": "markdown",
   "metadata": {},
   "source": [
    "# P2G for backtranslation data"
   ]
  },
  {
   "cell_type": "code",
   "execution_count": 1,
   "metadata": {},
   "outputs": [
    {
     "name": "stdout",
     "output_type": "stream",
     "text": [
      "/data/ephemeral/.conda/bin/python\n"
     ]
    }
   ],
   "source": [
    "import sys\n",
    "print(sys.executable)"
   ]
  },
  {
   "cell_type": "markdown",
   "metadata": {},
   "source": [
    "## 모델 불러오기"
   ]
  },
  {
   "cell_type": "code",
   "execution_count": 2,
   "metadata": {},
   "outputs": [],
   "source": [
    "from transformers import T5ForConditionalGeneration, T5Tokenizer, pipeline\n",
    "import torch"
   ]
  },
  {
   "cell_type": "code",
   "execution_count": 3,
   "metadata": {},
   "outputs": [
    {
     "data": {
      "application/vnd.jupyter.widget-view+json": {
       "model_id": "47739d4f13b64564a6fd323a6221ede8",
       "version_major": 2,
       "version_minor": 0
      },
      "text/plain": [
       "config.json:   0%|          | 0.00/770 [00:00<?, ?B/s]"
      ]
     },
     "metadata": {},
     "output_type": "display_data"
    },
    {
     "data": {
      "application/vnd.jupyter.widget-view+json": {
       "model_id": "5eaa4dde042542749d24b8d9ef13ba1a",
       "version_major": 2,
       "version_minor": 0
      },
      "text/plain": [
       "pytorch_model.bin:   0%|          | 0.00/1.30G [00:00<?, ?B/s]"
      ]
     },
     "metadata": {},
     "output_type": "display_data"
    },
    {
     "data": {
      "application/vnd.jupyter.widget-view+json": {
       "model_id": "6ffda621bfa947379746bbd7af6bc456",
       "version_major": 2,
       "version_minor": 0
      },
      "text/plain": [
       "generation_config.json:   0%|          | 0.00/142 [00:00<?, ?B/s]"
      ]
     },
     "metadata": {},
     "output_type": "display_data"
    },
    {
     "data": {
      "application/vnd.jupyter.widget-view+json": {
       "model_id": "a3b97e055d5c4230b9cb8cda94a1ff7b",
       "version_major": 2,
       "version_minor": 0
      },
      "text/plain": [
       "spiece.model:   0%|          | 0.00/1.20M [00:00<?, ?B/s]"
      ]
     },
     "metadata": {},
     "output_type": "display_data"
    },
    {
     "data": {
      "application/vnd.jupyter.widget-view+json": {
       "model_id": "2acc5df3d3ed4c45a565df525917fc5d",
       "version_major": 2,
       "version_minor": 0
      },
      "text/plain": [
       "special_tokens_map.json:   0%|          | 0.00/74.0 [00:00<?, ?B/s]"
      ]
     },
     "metadata": {},
     "output_type": "display_data"
    },
    {
     "data": {
      "application/vnd.jupyter.widget-view+json": {
       "model_id": "a7c7951ad48e4802aa70091314a76f51",
       "version_major": 2,
       "version_minor": 0
      },
      "text/plain": [
       "tokenizer_config.json:   0%|          | 0.00/285 [00:00<?, ?B/s]"
      ]
     },
     "metadata": {},
     "output_type": "display_data"
    }
   ],
   "source": [
    "model = T5ForConditionalGeneration.from_pretrained('j5ng/et5-typos-corrector',cache_dir='/data/ephemeral/tmp')\n",
    "tokenizer = T5Tokenizer.from_pretrained('j5ng/et5-typos-corrector')\n",
    "\n",
    "typos_corrector = pipeline(\n",
    "    \"text2text-generation\",\n",
    "    model=model,\n",
    "    tokenizer=tokenizer,\n",
    "    device=0 if torch.cuda.is_available() else -1,\n",
    "    framework=\"pt\",\n",
    ")"
   ]
  },
  {
   "cell_type": "code",
   "execution_count": 4,
   "metadata": {},
   "outputs": [
    {
     "name": "stdout",
     "output_type": "stream",
     "text": [
      "완전 어이없네 진짜 ᄏᄏᄏᄏ.\n"
     ]
    }
   ],
   "source": [
    "input_text = \"완죤 어이업ㅅ네진쨬ㅋㅋㅋ\"\n",
    "output_text = typos_corrector(\"맞춤법을 고쳐주세요: \" + input_text,\n",
    "            max_length=128,\n",
    "            num_beams=5,\n",
    "            early_stopping=True)[0]['generated_text']\n",
    "print(output_text)"
   ]
  },
  {
   "cell_type": "code",
   "execution_count": 5,
   "metadata": {},
   "outputs": [],
   "source": [
    "def p2g(sent):\n",
    "    output = typos_corrector(\"맞춤법을 고쳐주세요: \" + sent,\n",
    "            max_length=50,\n",
    "            num_beams=5,\n",
    "            early_stopping=True)[0]['generated_text']\n",
    "    return output"
   ]
  },
  {
   "cell_type": "markdown",
   "metadata": {},
   "source": [
    "## 데이터 불러오기"
   ]
  },
  {
   "cell_type": "code",
   "execution_count": 8,
   "metadata": {},
   "outputs": [
    {
     "name": "stdout",
     "output_type": "stream",
     "text": [
      "EDA.ipynb\t\t\t    back_translation_p2g.ipynb\t   build\n",
      "README.md\t\t\t    back_translation_papago.ipynb  dist\n",
      "back_translation_googletrans.ipynb  back_translation_pororo.ipynb  py-hanspell\n",
      "back_translation_hanspell_t5.ipynb  back_translation_t5.ipynb\n"
     ]
    }
   ],
   "source": [
    "!ls"
   ]
  },
  {
   "cell_type": "code",
   "execution_count": 9,
   "metadata": {},
   "outputs": [],
   "source": [
    "import os\n",
    "BASE_DIR = \"/data/ephemeral/level2-nlp-datacentric-nlp-06/\"\n",
    "DATA_DIR = os.path.join(BASE_DIR, 'data/')"
   ]
  },
  {
   "cell_type": "code",
   "execution_count": 11,
   "metadata": {},
   "outputs": [],
   "source": [
    "# 데이터 불러오기\n",
    "import pandas as pd\n",
    "\n",
    "train =  pd.read_csv(os.path.join(DATA_DIR, 'hanspell_train_split.csv'))\n",
    "google = pd.read_csv(os.path.join(DATA_DIR, 'hanspell_backtrans_google.csv'))\n",
    "t5 = pd.read_csv(os.path.join(DATA_DIR, 'hanspell_backtrans_T5.csv'))"
   ]
  },
  {
   "cell_type": "code",
   "execution_count": 12,
   "metadata": {},
   "outputs": [
    {
     "data": {
      "text/plain": [
       "((4900, 5), (4900, 5), (4900, 5))"
      ]
     },
     "execution_count": 12,
     "metadata": {},
     "output_type": "execute_result"
    }
   ],
   "source": [
    "train.shape, google.shape, t5.shape"
   ]
  },
  {
   "cell_type": "code",
   "execution_count": 13,
   "metadata": {},
   "outputs": [
    {
     "data": {
      "text/html": [
       "<div>\n",
       "<style scoped>\n",
       "    .dataframe tbody tr th:only-of-type {\n",
       "        vertical-align: middle;\n",
       "    }\n",
       "\n",
       "    .dataframe tbody tr th {\n",
       "        vertical-align: top;\n",
       "    }\n",
       "\n",
       "    .dataframe thead th {\n",
       "        text-align: right;\n",
       "    }\n",
       "</style>\n",
       "<table border=\"1\" class=\"dataframe\">\n",
       "  <thead>\n",
       "    <tr style=\"text-align: right;\">\n",
       "      <th></th>\n",
       "      <th>ID</th>\n",
       "      <th>text</th>\n",
       "      <th>target</th>\n",
       "      <th>url</th>\n",
       "      <th>date</th>\n",
       "    </tr>\n",
       "  </thead>\n",
       "  <tbody>\n",
       "    <tr>\n",
       "      <th>0</th>\n",
       "      <td>ynat-v1_train_04767</td>\n",
       "      <td>해외서 산 요트 타고 권총 밀반입 출입국 관리 구멍</td>\n",
       "      <td>2</td>\n",
       "      <td>https://news.naver.com/main/read.nhn?mode=LS2D...</td>\n",
       "      <td>2020.12.07. 오후 12:04</td>\n",
       "    </tr>\n",
       "    <tr>\n",
       "      <th>1</th>\n",
       "      <td>ynat-v1_train_01284</td>\n",
       "      <td>신형 유전자 가위 기능 확인 유전병 치료 기대</td>\n",
       "      <td>0</td>\n",
       "      <td>https://news.naver.com/main/read.nhn?mode=LS2D...</td>\n",
       "      <td>2016.06.07. 오전 12:01</td>\n",
       "    </tr>\n",
       "    <tr>\n",
       "      <th>2</th>\n",
       "      <td>ynat-v1_train_06255</td>\n",
       "      <td>지폐 속 사임당의 그림</td>\n",
       "      <td>3</td>\n",
       "      <td>https://news.naver.com/main/read.nhn?mode=LS2D...</td>\n",
       "      <td>2017.01.24. 오후 3:50</td>\n",
       "    </tr>\n",
       "    <tr>\n",
       "      <th>3</th>\n",
       "      <td>ynat-v1_train_03516</td>\n",
       "      <td>이란 새 대공방어 시스템 공개 안보 위해 군사력 증강</td>\n",
       "      <td>4</td>\n",
       "      <td>https://news.naver.com/main/read.nhn?mode=LS2D...</td>\n",
       "      <td>2019.06.10. 오후 4:30</td>\n",
       "    </tr>\n",
       "    <tr>\n",
       "      <th>4</th>\n",
       "      <td>ynat-v1_train_03471</td>\n",
       "      <td>북한 유엔 채택 인권결의에 모든 대응조치 강구 반발</td>\n",
       "      <td>6</td>\n",
       "      <td>https://news.naver.com/main/read.nhn?mode=LS2D...</td>\n",
       "      <td>2016.11.17. 오후 5:16</td>\n",
       "    </tr>\n",
       "  </tbody>\n",
       "</table>\n",
       "</div>"
      ],
      "text/plain": [
       "                    ID                           text  target  \\\n",
       "0  ynat-v1_train_04767   해외서 산 요트 타고 권총 밀반입 출입국 관리 구멍       2   \n",
       "1  ynat-v1_train_01284      신형 유전자 가위 기능 확인 유전병 치료 기대       0   \n",
       "2  ynat-v1_train_06255                   지폐 속 사임당의 그림       3   \n",
       "3  ynat-v1_train_03516  이란 새 대공방어 시스템 공개 안보 위해 군사력 증강       4   \n",
       "4  ynat-v1_train_03471   북한 유엔 채택 인권결의에 모든 대응조치 강구 반발       6   \n",
       "\n",
       "                                                 url                  date  \n",
       "0  https://news.naver.com/main/read.nhn?mode=LS2D...  2020.12.07. 오후 12:04  \n",
       "1  https://news.naver.com/main/read.nhn?mode=LS2D...  2016.06.07. 오전 12:01  \n",
       "2  https://news.naver.com/main/read.nhn?mode=LS2D...   2017.01.24. 오후 3:50  \n",
       "3  https://news.naver.com/main/read.nhn?mode=LS2D...   2019.06.10. 오후 4:30  \n",
       "4  https://news.naver.com/main/read.nhn?mode=LS2D...   2016.11.17. 오후 5:16  "
      ]
     },
     "execution_count": 13,
     "metadata": {},
     "output_type": "execute_result"
    }
   ],
   "source": [
    "train.head()"
   ]
  },
  {
   "cell_type": "code",
   "execution_count": 15,
   "metadata": {},
   "outputs": [
    {
     "data": {
      "text/html": [
       "<div>\n",
       "<style scoped>\n",
       "    .dataframe tbody tr th:only-of-type {\n",
       "        vertical-align: middle;\n",
       "    }\n",
       "\n",
       "    .dataframe tbody tr th {\n",
       "        vertical-align: top;\n",
       "    }\n",
       "\n",
       "    .dataframe thead th {\n",
       "        text-align: right;\n",
       "    }\n",
       "</style>\n",
       "<table border=\"1\" class=\"dataframe\">\n",
       "  <thead>\n",
       "    <tr style=\"text-align: right;\">\n",
       "      <th></th>\n",
       "      <th>ID</th>\n",
       "      <th>text</th>\n",
       "      <th>target</th>\n",
       "      <th>url</th>\n",
       "      <th>date</th>\n",
       "    </tr>\n",
       "  </thead>\n",
       "  <tbody>\n",
       "    <tr>\n",
       "      <th>0</th>\n",
       "      <td>ynat-v1_train_04767</td>\n",
       "      <td>해외 산악요트 탑승 중 권총 밀수를 위한 출입국 관리소</td>\n",
       "      <td>2</td>\n",
       "      <td>https://news.naver.com/main/read.nhn?mode=LS2D...</td>\n",
       "      <td>2020.12.07. 오후 12:04</td>\n",
       "    </tr>\n",
       "    <tr>\n",
       "      <th>1</th>\n",
       "      <td>ynat-v1_train_01284</td>\n",
       "      <td>새로운 유전자 가위 기능 확인, 유전질환 치료 기대</td>\n",
       "      <td>0</td>\n",
       "      <td>https://news.naver.com/main/read.nhn?mode=LS2D...</td>\n",
       "      <td>2016.06.07. 오전 12:01</td>\n",
       "    </tr>\n",
       "    <tr>\n",
       "      <th>2</th>\n",
       "      <td>ynat-v1_train_06255</td>\n",
       "      <td>지폐 속 삼단의 일러스트</td>\n",
       "      <td>3</td>\n",
       "      <td>https://news.naver.com/main/read.nhn?mode=LS2D...</td>\n",
       "      <td>2017.01.24. 오후 3:50</td>\n",
       "    </tr>\n",
       "    <tr>\n",
       "      <th>3</th>\n",
       "      <td>ynat-v1_train_03516</td>\n",
       "      <td>이란의 새로운 대공 방어 시스템으로 공공 안보를 위한 군사력 강화</td>\n",
       "      <td>4</td>\n",
       "      <td>https://news.naver.com/main/read.nhn?mode=LS2D...</td>\n",
       "      <td>2019.06.10. 오후 4:30</td>\n",
       "    </tr>\n",
       "    <tr>\n",
       "      <th>4</th>\n",
       "      <td>ynat-v1_train_03471</td>\n",
       "      <td>북한, 유엔 인권결의안에 반대하는 모든 대응조치 강행</td>\n",
       "      <td>6</td>\n",
       "      <td>https://news.naver.com/main/read.nhn?mode=LS2D...</td>\n",
       "      <td>2016.11.17. 오후 5:16</td>\n",
       "    </tr>\n",
       "  </tbody>\n",
       "</table>\n",
       "</div>"
      ],
      "text/plain": [
       "                    ID                                  text  target  \\\n",
       "0  ynat-v1_train_04767        해외 산악요트 탑승 중 권총 밀수를 위한 출입국 관리소       2   \n",
       "1  ynat-v1_train_01284          새로운 유전자 가위 기능 확인, 유전질환 치료 기대       0   \n",
       "2  ynat-v1_train_06255                         지폐 속 삼단의 일러스트       3   \n",
       "3  ynat-v1_train_03516  이란의 새로운 대공 방어 시스템으로 공공 안보를 위한 군사력 강화       4   \n",
       "4  ynat-v1_train_03471         북한, 유엔 인권결의안에 반대하는 모든 대응조치 강행       6   \n",
       "\n",
       "                                                 url                  date  \n",
       "0  https://news.naver.com/main/read.nhn?mode=LS2D...  2020.12.07. 오후 12:04  \n",
       "1  https://news.naver.com/main/read.nhn?mode=LS2D...  2016.06.07. 오전 12:01  \n",
       "2  https://news.naver.com/main/read.nhn?mode=LS2D...   2017.01.24. 오후 3:50  \n",
       "3  https://news.naver.com/main/read.nhn?mode=LS2D...   2019.06.10. 오후 4:30  \n",
       "4  https://news.naver.com/main/read.nhn?mode=LS2D...   2016.11.17. 오후 5:16  "
      ]
     },
     "execution_count": 15,
     "metadata": {},
     "output_type": "execute_result"
    }
   ],
   "source": [
    "google.head()"
   ]
  },
  {
   "cell_type": "code",
   "execution_count": 19,
   "metadata": {},
   "outputs": [
    {
     "data": {
      "text/html": [
       "<div>\n",
       "<style scoped>\n",
       "    .dataframe tbody tr th:only-of-type {\n",
       "        vertical-align: middle;\n",
       "    }\n",
       "\n",
       "    .dataframe tbody tr th {\n",
       "        vertical-align: top;\n",
       "    }\n",
       "\n",
       "    .dataframe thead th {\n",
       "        text-align: right;\n",
       "    }\n",
       "</style>\n",
       "<table border=\"1\" class=\"dataframe\">\n",
       "  <thead>\n",
       "    <tr style=\"text-align: right;\">\n",
       "      <th></th>\n",
       "      <th>ID</th>\n",
       "      <th>text</th>\n",
       "      <th>target</th>\n",
       "      <th>url</th>\n",
       "      <th>date</th>\n",
       "    </tr>\n",
       "  </thead>\n",
       "  <tbody>\n",
       "    <tr>\n",
       "      <th>0</th>\n",
       "      <td>ynat-v1_train_04767</td>\n",
       "      <td>해외에서 구입한 요트에서 권총을 밀수하는 출입국 관리소 구멍</td>\n",
       "      <td>2</td>\n",
       "      <td>https://news.naver.com/main/read.nhn?mode=LS2D...</td>\n",
       "      <td>2020.12.07. 오후 12:04</td>\n",
       "    </tr>\n",
       "    <tr>\n",
       "      <th>1</th>\n",
       "      <td>ynat-v1_train_01284</td>\n",
       "      <td>새로운 유전자 가위의 기능 확인 유전 질환 치료를 기대합니다</td>\n",
       "      <td>0</td>\n",
       "      <td>https://news.naver.com/main/read.nhn?mode=LS2D...</td>\n",
       "      <td>2016.06.07. 오전 12:01</td>\n",
       "    </tr>\n",
       "    <tr>\n",
       "      <th>2</th>\n",
       "      <td>ynat-v1_train_06255</td>\n",
       "      <td>지폐에 있는 신사의 사진</td>\n",
       "      <td>3</td>\n",
       "      <td>https://news.naver.com/main/read.nhn?mode=LS2D...</td>\n",
       "      <td>2017.01.24. 오후 3:50</td>\n",
       "    </tr>\n",
       "    <tr>\n",
       "      <th>3</th>\n",
       "      <td>ynat-v1_train_03516</td>\n",
       "      <td>이란의 새로운 대공방어 체계를 개방하고 확보하기 위해 군사력을 증강한다</td>\n",
       "      <td>4</td>\n",
       "      <td>https://news.naver.com/main/read.nhn?mode=LS2D...</td>\n",
       "      <td>2019.06.10. 오후 4:30</td>\n",
       "    </tr>\n",
       "    <tr>\n",
       "      <th>4</th>\n",
       "      <td>ynat-v1_train_03471</td>\n",
       "      <td>이들이 채택한 인권 결의안에 대한 모든 대응책을 강구하는 등 반발</td>\n",
       "      <td>6</td>\n",
       "      <td>https://news.naver.com/main/read.nhn?mode=LS2D...</td>\n",
       "      <td>2016.11.17. 오후 5:16</td>\n",
       "    </tr>\n",
       "  </tbody>\n",
       "</table>\n",
       "</div>"
      ],
      "text/plain": [
       "                    ID                                     text  target  \\\n",
       "0  ynat-v1_train_04767        해외에서 구입한 요트에서 권총을 밀수하는 출입국 관리소 구멍       2   \n",
       "1  ynat-v1_train_01284        새로운 유전자 가위의 기능 확인 유전 질환 치료를 기대합니다       0   \n",
       "2  ynat-v1_train_06255                            지폐에 있는 신사의 사진       3   \n",
       "3  ynat-v1_train_03516  이란의 새로운 대공방어 체계를 개방하고 확보하기 위해 군사력을 증강한다       4   \n",
       "4  ynat-v1_train_03471     이들이 채택한 인권 결의안에 대한 모든 대응책을 강구하는 등 반발       6   \n",
       "\n",
       "                                                 url                  date  \n",
       "0  https://news.naver.com/main/read.nhn?mode=LS2D...  2020.12.07. 오후 12:04  \n",
       "1  https://news.naver.com/main/read.nhn?mode=LS2D...  2016.06.07. 오전 12:01  \n",
       "2  https://news.naver.com/main/read.nhn?mode=LS2D...   2017.01.24. 오후 3:50  \n",
       "3  https://news.naver.com/main/read.nhn?mode=LS2D...   2019.06.10. 오후 4:30  \n",
       "4  https://news.naver.com/main/read.nhn?mode=LS2D...   2016.11.17. 오후 5:16  "
      ]
     },
     "execution_count": 19,
     "metadata": {},
     "output_type": "execute_result"
    }
   ],
   "source": [
    "t5.head()"
   ]
  },
  {
   "cell_type": "markdown",
   "metadata": {},
   "source": [
    "## p2g 적용"
   ]
  },
  {
   "cell_type": "code",
   "execution_count": 20,
   "metadata": {},
   "outputs": [
    {
     "name": "stderr",
     "output_type": "stream",
     "text": [
      "  0%|          | 10/4900 [00:01<16:51,  4.84it/s]/data/ephemeral/.conda/lib/python3.10/site-packages/transformers/pipelines/base.py:1045: UserWarning: You seem to be using the pipelines sequentially on GPU. In order to maximize efficiency please use a dataset\n",
      "  warnings.warn(\n",
      "100%|██████████| 4900/4900 [16:43<00:00,  4.88it/s]\n"
     ]
    }
   ],
   "source": [
    "# train_df의 text에 apply를 통해 p2g 함수를 적용한 결과를 새로운 컬럼인 p2g_text에 저장\n",
    "from tqdm import tqdm\n",
    "tqdm.pandas()\n",
    "train['text'] = train['text'].progress_apply(p2g)\n"
   ]
  },
  {
   "cell_type": "code",
   "execution_count": 22,
   "metadata": {},
   "outputs": [],
   "source": [
    "train['text'] = train['text'].apply(lambda x: x.replace('.', ''))"
   ]
  },
  {
   "cell_type": "code",
   "execution_count": 23,
   "metadata": {},
   "outputs": [
    {
     "data": {
      "text/html": [
       "<div>\n",
       "<style scoped>\n",
       "    .dataframe tbody tr th:only-of-type {\n",
       "        vertical-align: middle;\n",
       "    }\n",
       "\n",
       "    .dataframe tbody tr th {\n",
       "        vertical-align: top;\n",
       "    }\n",
       "\n",
       "    .dataframe thead th {\n",
       "        text-align: right;\n",
       "    }\n",
       "</style>\n",
       "<table border=\"1\" class=\"dataframe\">\n",
       "  <thead>\n",
       "    <tr style=\"text-align: right;\">\n",
       "      <th></th>\n",
       "      <th>ID</th>\n",
       "      <th>text</th>\n",
       "      <th>target</th>\n",
       "      <th>url</th>\n",
       "      <th>date</th>\n",
       "    </tr>\n",
       "  </thead>\n",
       "  <tbody>\n",
       "    <tr>\n",
       "      <th>0</th>\n",
       "      <td>ynat-v1_train_04767</td>\n",
       "      <td>해외서 산 요트 타고 권총 밀반입 출입국 관리 구멍</td>\n",
       "      <td>2</td>\n",
       "      <td>https://news.naver.com/main/read.nhn?mode=LS2D...</td>\n",
       "      <td>2020.12.07. 오후 12:04</td>\n",
       "    </tr>\n",
       "    <tr>\n",
       "      <th>1</th>\n",
       "      <td>ynat-v1_train_01284</td>\n",
       "      <td>신형 유전자 가위 기능 확인 유전병 치료 기대</td>\n",
       "      <td>0</td>\n",
       "      <td>https://news.naver.com/main/read.nhn?mode=LS2D...</td>\n",
       "      <td>2016.06.07. 오전 12:01</td>\n",
       "    </tr>\n",
       "    <tr>\n",
       "      <th>2</th>\n",
       "      <td>ynat-v1_train_06255</td>\n",
       "      <td>지폐 속 사임당의 그림</td>\n",
       "      <td>3</td>\n",
       "      <td>https://news.naver.com/main/read.nhn?mode=LS2D...</td>\n",
       "      <td>2017.01.24. 오후 3:50</td>\n",
       "    </tr>\n",
       "    <tr>\n",
       "      <th>3</th>\n",
       "      <td>ynat-v1_train_03516</td>\n",
       "      <td>이란 새 대공 방어 시스템 공개 안 위해 군사력 증강</td>\n",
       "      <td>4</td>\n",
       "      <td>https://news.naver.com/main/read.nhn?mode=LS2D...</td>\n",
       "      <td>2019.06.10. 오후 4:30</td>\n",
       "    </tr>\n",
       "    <tr>\n",
       "      <th>4</th>\n",
       "      <td>ynat-v1_train_03471</td>\n",
       "      <td>북한유엔 채택 인권결의에 모든 대응 조치 강구 반발</td>\n",
       "      <td>6</td>\n",
       "      <td>https://news.naver.com/main/read.nhn?mode=LS2D...</td>\n",
       "      <td>2016.11.17. 오후 5:16</td>\n",
       "    </tr>\n",
       "  </tbody>\n",
       "</table>\n",
       "</div>"
      ],
      "text/plain": [
       "                    ID                           text  target  \\\n",
       "0  ynat-v1_train_04767   해외서 산 요트 타고 권총 밀반입 출입국 관리 구멍       2   \n",
       "1  ynat-v1_train_01284      신형 유전자 가위 기능 확인 유전병 치료 기대       0   \n",
       "2  ynat-v1_train_06255                   지폐 속 사임당의 그림       3   \n",
       "3  ynat-v1_train_03516  이란 새 대공 방어 시스템 공개 안 위해 군사력 증강       4   \n",
       "4  ynat-v1_train_03471   북한유엔 채택 인권결의에 모든 대응 조치 강구 반발       6   \n",
       "\n",
       "                                                 url                  date  \n",
       "0  https://news.naver.com/main/read.nhn?mode=LS2D...  2020.12.07. 오후 12:04  \n",
       "1  https://news.naver.com/main/read.nhn?mode=LS2D...  2016.06.07. 오전 12:01  \n",
       "2  https://news.naver.com/main/read.nhn?mode=LS2D...   2017.01.24. 오후 3:50  \n",
       "3  https://news.naver.com/main/read.nhn?mode=LS2D...   2019.06.10. 오후 4:30  \n",
       "4  https://news.naver.com/main/read.nhn?mode=LS2D...   2016.11.17. 오후 5:16  "
      ]
     },
     "execution_count": 23,
     "metadata": {},
     "output_type": "execute_result"
    }
   ],
   "source": [
    "train.head()"
   ]
  },
  {
   "cell_type": "code",
   "execution_count": 24,
   "metadata": {},
   "outputs": [
    {
     "name": "stderr",
     "output_type": "stream",
     "text": [
      "  0%|          | 0/4900 [00:00<?, ?it/s]/data/ephemeral/.conda/lib/python3.10/site-packages/transformers/pipelines/base.py:1045: UserWarning: You seem to be using the pipelines sequentially on GPU. In order to maximize efficiency please use a dataset\n",
      "  warnings.warn(\n",
      "100%|██████████| 4900/4900 [16:23<00:00,  4.98it/s]\n"
     ]
    },
    {
     "data": {
      "text/html": [
       "<div>\n",
       "<style scoped>\n",
       "    .dataframe tbody tr th:only-of-type {\n",
       "        vertical-align: middle;\n",
       "    }\n",
       "\n",
       "    .dataframe tbody tr th {\n",
       "        vertical-align: top;\n",
       "    }\n",
       "\n",
       "    .dataframe thead th {\n",
       "        text-align: right;\n",
       "    }\n",
       "</style>\n",
       "<table border=\"1\" class=\"dataframe\">\n",
       "  <thead>\n",
       "    <tr style=\"text-align: right;\">\n",
       "      <th></th>\n",
       "      <th>ID</th>\n",
       "      <th>text</th>\n",
       "      <th>target</th>\n",
       "      <th>url</th>\n",
       "      <th>date</th>\n",
       "    </tr>\n",
       "  </thead>\n",
       "  <tbody>\n",
       "    <tr>\n",
       "      <th>0</th>\n",
       "      <td>ynat-v1_train_04767</td>\n",
       "      <td>해외 산악 요트 탑승 중 권총 밀수를 위한 출입국 관리소</td>\n",
       "      <td>2</td>\n",
       "      <td>https://news.naver.com/main/read.nhn?mode=LS2D...</td>\n",
       "      <td>2020.12.07. 오후 12:04</td>\n",
       "    </tr>\n",
       "    <tr>\n",
       "      <th>1</th>\n",
       "      <td>ynat-v1_train_01284</td>\n",
       "      <td>새로운 유전자 가위 기능 확인 유전 질환 치료 기대</td>\n",
       "      <td>0</td>\n",
       "      <td>https://news.naver.com/main/read.nhn?mode=LS2D...</td>\n",
       "      <td>2016.06.07. 오전 12:01</td>\n",
       "    </tr>\n",
       "    <tr>\n",
       "      <th>2</th>\n",
       "      <td>ynat-v1_train_06255</td>\n",
       "      <td>지폐 속 삼단 일러스트</td>\n",
       "      <td>3</td>\n",
       "      <td>https://news.naver.com/main/read.nhn?mode=LS2D...</td>\n",
       "      <td>2017.01.24. 오후 3:50</td>\n",
       "    </tr>\n",
       "    <tr>\n",
       "      <th>3</th>\n",
       "      <td>ynat-v1_train_03516</td>\n",
       "      <td>이란의 새로운 대공 방어 시스템을 공공 안보를 위한 군사력 강화</td>\n",
       "      <td>4</td>\n",
       "      <td>https://news.naver.com/main/read.nhn?mode=LS2D...</td>\n",
       "      <td>2019.06.10. 오후 4:30</td>\n",
       "    </tr>\n",
       "    <tr>\n",
       "      <th>4</th>\n",
       "      <td>ynat-v1_train_03471</td>\n",
       "      <td>북한,유엔 인권결의안에 반대한 모든 대응 조치 강행</td>\n",
       "      <td>6</td>\n",
       "      <td>https://news.naver.com/main/read.nhn?mode=LS2D...</td>\n",
       "      <td>2016.11.17. 오후 5:16</td>\n",
       "    </tr>\n",
       "  </tbody>\n",
       "</table>\n",
       "</div>"
      ],
      "text/plain": [
       "                    ID                                 text  target  \\\n",
       "0  ynat-v1_train_04767      해외 산악 요트 탑승 중 권총 밀수를 위한 출입국 관리소       2   \n",
       "1  ynat-v1_train_01284         새로운 유전자 가위 기능 확인 유전 질환 치료 기대       0   \n",
       "2  ynat-v1_train_06255                         지폐 속 삼단 일러스트       3   \n",
       "3  ynat-v1_train_03516  이란의 새로운 대공 방어 시스템을 공공 안보를 위한 군사력 강화       4   \n",
       "4  ynat-v1_train_03471         북한,유엔 인권결의안에 반대한 모든 대응 조치 강행       6   \n",
       "\n",
       "                                                 url                  date  \n",
       "0  https://news.naver.com/main/read.nhn?mode=LS2D...  2020.12.07. 오후 12:04  \n",
       "1  https://news.naver.com/main/read.nhn?mode=LS2D...  2016.06.07. 오전 12:01  \n",
       "2  https://news.naver.com/main/read.nhn?mode=LS2D...   2017.01.24. 오후 3:50  \n",
       "3  https://news.naver.com/main/read.nhn?mode=LS2D...   2019.06.10. 오후 4:30  \n",
       "4  https://news.naver.com/main/read.nhn?mode=LS2D...   2016.11.17. 오후 5:16  "
      ]
     },
     "execution_count": 24,
     "metadata": {},
     "output_type": "execute_result"
    }
   ],
   "source": [
    "google['text'] = google['text'].progress_apply(p2g)\n",
    "google['text'] = google['text'].apply(lambda x: x.replace('.', ''))\n",
    "google.head()"
   ]
  },
  {
   "cell_type": "code",
   "execution_count": 25,
   "metadata": {},
   "outputs": [
    {
     "name": "stderr",
     "output_type": "stream",
     "text": [
      "  0%|          | 0/4900 [00:00<?, ?it/s]/data/ephemeral/.conda/lib/python3.10/site-packages/transformers/pipelines/base.py:1045: UserWarning: You seem to be using the pipelines sequentially on GPU. In order to maximize efficiency please use a dataset\n",
      "  warnings.warn(\n",
      "100%|██████████| 4900/4900 [16:34<00:00,  4.93it/s]\n"
     ]
    },
    {
     "data": {
      "text/html": [
       "<div>\n",
       "<style scoped>\n",
       "    .dataframe tbody tr th:only-of-type {\n",
       "        vertical-align: middle;\n",
       "    }\n",
       "\n",
       "    .dataframe tbody tr th {\n",
       "        vertical-align: top;\n",
       "    }\n",
       "\n",
       "    .dataframe thead th {\n",
       "        text-align: right;\n",
       "    }\n",
       "</style>\n",
       "<table border=\"1\" class=\"dataframe\">\n",
       "  <thead>\n",
       "    <tr style=\"text-align: right;\">\n",
       "      <th></th>\n",
       "      <th>ID</th>\n",
       "      <th>text</th>\n",
       "      <th>target</th>\n",
       "      <th>url</th>\n",
       "      <th>date</th>\n",
       "    </tr>\n",
       "  </thead>\n",
       "  <tbody>\n",
       "    <tr>\n",
       "      <th>0</th>\n",
       "      <td>ynat-v1_train_04767</td>\n",
       "      <td>해외에서 구입한 요트에서 권총을 밀수하는 출입국 관리소 구멍</td>\n",
       "      <td>2</td>\n",
       "      <td>https://news.naver.com/main/read.nhn?mode=LS2D...</td>\n",
       "      <td>2020.12.07. 오후 12:04</td>\n",
       "    </tr>\n",
       "    <tr>\n",
       "      <th>1</th>\n",
       "      <td>ynat-v1_train_01284</td>\n",
       "      <td>새로운 유전자 가위로 기능 확인 유전 질환 치료를 기대합니다</td>\n",
       "      <td>0</td>\n",
       "      <td>https://news.naver.com/main/read.nhn?mode=LS2D...</td>\n",
       "      <td>2016.06.07. 오전 12:01</td>\n",
       "    </tr>\n",
       "    <tr>\n",
       "      <th>2</th>\n",
       "      <td>ynat-v1_train_06255</td>\n",
       "      <td>지폐에 있는 신사의 사진</td>\n",
       "      <td>3</td>\n",
       "      <td>https://news.naver.com/main/read.nhn?mode=LS2D...</td>\n",
       "      <td>2017.01.24. 오후 3:50</td>\n",
       "    </tr>\n",
       "    <tr>\n",
       "      <th>3</th>\n",
       "      <td>ynat-v1_train_03516</td>\n",
       "      <td>이란의 새로운 대공 방어 체계 개방하고 확보하기 위해 군사력을 증강한다</td>\n",
       "      <td>4</td>\n",
       "      <td>https://news.naver.com/main/read.nhn?mode=LS2D...</td>\n",
       "      <td>2019.06.10. 오후 4:30</td>\n",
       "    </tr>\n",
       "    <tr>\n",
       "      <th>4</th>\n",
       "      <td>ynat-v1_train_03471</td>\n",
       "      <td>그들이 채택한 인권 결의안에 대한 모든 대응책을 강구하는 등 반발</td>\n",
       "      <td>6</td>\n",
       "      <td>https://news.naver.com/main/read.nhn?mode=LS2D...</td>\n",
       "      <td>2016.11.17. 오후 5:16</td>\n",
       "    </tr>\n",
       "  </tbody>\n",
       "</table>\n",
       "</div>"
      ],
      "text/plain": [
       "                    ID                                     text  target  \\\n",
       "0  ynat-v1_train_04767        해외에서 구입한 요트에서 권총을 밀수하는 출입국 관리소 구멍       2   \n",
       "1  ynat-v1_train_01284        새로운 유전자 가위로 기능 확인 유전 질환 치료를 기대합니다       0   \n",
       "2  ynat-v1_train_06255                            지폐에 있는 신사의 사진       3   \n",
       "3  ynat-v1_train_03516  이란의 새로운 대공 방어 체계 개방하고 확보하기 위해 군사력을 증강한다       4   \n",
       "4  ynat-v1_train_03471     그들이 채택한 인권 결의안에 대한 모든 대응책을 강구하는 등 반발       6   \n",
       "\n",
       "                                                 url                  date  \n",
       "0  https://news.naver.com/main/read.nhn?mode=LS2D...  2020.12.07. 오후 12:04  \n",
       "1  https://news.naver.com/main/read.nhn?mode=LS2D...  2016.06.07. 오전 12:01  \n",
       "2  https://news.naver.com/main/read.nhn?mode=LS2D...   2017.01.24. 오후 3:50  \n",
       "3  https://news.naver.com/main/read.nhn?mode=LS2D...   2019.06.10. 오후 4:30  \n",
       "4  https://news.naver.com/main/read.nhn?mode=LS2D...   2016.11.17. 오후 5:16  "
      ]
     },
     "execution_count": 25,
     "metadata": {},
     "output_type": "execute_result"
    }
   ],
   "source": [
    "t5['text'] = t5['text'].progress_apply(p2g)\n",
    "t5['text'] = t5['text'].apply(lambda x: x.replace('.', ''))\n",
    "t5.head()"
   ]
  },
  {
   "cell_type": "code",
   "execution_count": 26,
   "metadata": {},
   "outputs": [],
   "source": [
    "train.to_csv('../data/hanspell_p2g_train_split.csv', index=False)\n",
    "google.to_csv('../data/hanspell_p2g_backtrans_google.csv', index=False)\n",
    "t5.to_csv('../data/hanspell_p2g_backtrans_t5.csv', index=False)"
   ]
  },
  {
   "cell_type": "code",
   "execution_count": 27,
   "metadata": {},
   "outputs": [
    {
     "data": {
      "text/html": [
       "<div>\n",
       "<style scoped>\n",
       "    .dataframe tbody tr th:only-of-type {\n",
       "        vertical-align: middle;\n",
       "    }\n",
       "\n",
       "    .dataframe tbody tr th {\n",
       "        vertical-align: top;\n",
       "    }\n",
       "\n",
       "    .dataframe thead th {\n",
       "        text-align: right;\n",
       "    }\n",
       "</style>\n",
       "<table border=\"1\" class=\"dataframe\">\n",
       "  <thead>\n",
       "    <tr style=\"text-align: right;\">\n",
       "      <th></th>\n",
       "      <th>ID</th>\n",
       "      <th>text</th>\n",
       "      <th>target</th>\n",
       "      <th>url</th>\n",
       "      <th>date</th>\n",
       "    </tr>\n",
       "  </thead>\n",
       "  <tbody>\n",
       "    <tr>\n",
       "      <th>0</th>\n",
       "      <td>ynat-v1_train_04767</td>\n",
       "      <td>해외서 산 요트 타고 권총 밀반입 출입국 관리 구멍</td>\n",
       "      <td>2</td>\n",
       "      <td>https://news.naver.com/main/read.nhn?mode=LS2D...</td>\n",
       "      <td>2020.12.07. 오후 12:04</td>\n",
       "    </tr>\n",
       "    <tr>\n",
       "      <th>1</th>\n",
       "      <td>ynat-v1_train_01284</td>\n",
       "      <td>신형 유전자 가위 기능 확인 유전병 치료 기대</td>\n",
       "      <td>0</td>\n",
       "      <td>https://news.naver.com/main/read.nhn?mode=LS2D...</td>\n",
       "      <td>2016.06.07. 오전 12:01</td>\n",
       "    </tr>\n",
       "    <tr>\n",
       "      <th>2</th>\n",
       "      <td>ynat-v1_train_06255</td>\n",
       "      <td>지폐 속 사임당의 그림</td>\n",
       "      <td>3</td>\n",
       "      <td>https://news.naver.com/main/read.nhn?mode=LS2D...</td>\n",
       "      <td>2017.01.24. 오후 3:50</td>\n",
       "    </tr>\n",
       "    <tr>\n",
       "      <th>3</th>\n",
       "      <td>ynat-v1_train_03516</td>\n",
       "      <td>이란 새 대공 방어 시스템 공개 안 위해 군사력 증강</td>\n",
       "      <td>4</td>\n",
       "      <td>https://news.naver.com/main/read.nhn?mode=LS2D...</td>\n",
       "      <td>2019.06.10. 오후 4:30</td>\n",
       "    </tr>\n",
       "    <tr>\n",
       "      <th>4</th>\n",
       "      <td>ynat-v1_train_03471</td>\n",
       "      <td>북한유엔 채택 인권결의에 모든 대응 조치 강구 반발</td>\n",
       "      <td>6</td>\n",
       "      <td>https://news.naver.com/main/read.nhn?mode=LS2D...</td>\n",
       "      <td>2016.11.17. 오후 5:16</td>\n",
       "    </tr>\n",
       "    <tr>\n",
       "      <th>...</th>\n",
       "      <td>...</td>\n",
       "      <td>...</td>\n",
       "      <td>...</td>\n",
       "      <td>...</td>\n",
       "      <td>...</td>\n",
       "    </tr>\n",
       "    <tr>\n",
       "      <th>9795</th>\n",
       "      <td>ynat-v1_train_03449</td>\n",
       "      <td>특별 자영업자들이 전액 지원금 받기 위해 한 달 만에 수십 건이 접수됐다</td>\n",
       "      <td>2</td>\n",
       "      <td>https://news.naver.com/main/read.nhn?mode=LS2D...</td>\n",
       "      <td>2020.07.02. 오전 10:14</td>\n",
       "    </tr>\n",
       "    <tr>\n",
       "      <th>9796</th>\n",
       "      <td>ynat-v1_train_03189</td>\n",
       "      <td>내비게이션 티맵 최건민 무료 개방</td>\n",
       "      <td>2</td>\n",
       "      <td>https://news.naver.com/main/read.nhn?mode=LS2D...</td>\n",
       "      <td>2016.07.05. 오전 11:13</td>\n",
       "    </tr>\n",
       "    <tr>\n",
       "      <th>9797</th>\n",
       "      <td>ynat-v1_train_04425</td>\n",
       "      <td>여자 농구 대회 칭저우 송로드 프리 마켓 자선 단체</td>\n",
       "      <td>5</td>\n",
       "      <td>https://sports.news.naver.com/news.nhn?oid=001...</td>\n",
       "      <td>2018.10.26 11:10</td>\n",
       "    </tr>\n",
       "    <tr>\n",
       "      <th>9798</th>\n",
       "      <td>ynat-v1_train_06161</td>\n",
       "      <td>조지가 한국 사람이더라도 박근혜가</td>\n",
       "      <td>6</td>\n",
       "      <td>https://news.naver.com/main/read.nhn?mode=LS2D...</td>\n",
       "      <td>2016.11.14. 오후 5:17</td>\n",
       "    </tr>\n",
       "    <tr>\n",
       "      <th>9799</th>\n",
       "      <td>ynat-v1_train_05034</td>\n",
       "      <td>거제 아이투는 겨울 달 탐사 제한 이후 다음 달 재개장한다</td>\n",
       "      <td>2</td>\n",
       "      <td>https://news.naver.com/main/read.nhn?mode=LS2D...</td>\n",
       "      <td>2019.11.30. 오전 9:05</td>\n",
       "    </tr>\n",
       "  </tbody>\n",
       "</table>\n",
       "<p>9800 rows × 5 columns</p>\n",
       "</div>"
      ],
      "text/plain": [
       "                       ID                                      text  target  \\\n",
       "0     ynat-v1_train_04767              해외서 산 요트 타고 권총 밀반입 출입국 관리 구멍       2   \n",
       "1     ynat-v1_train_01284                 신형 유전자 가위 기능 확인 유전병 치료 기대       0   \n",
       "2     ynat-v1_train_06255                              지폐 속 사임당의 그림       3   \n",
       "3     ynat-v1_train_03516             이란 새 대공 방어 시스템 공개 안 위해 군사력 증강       4   \n",
       "4     ynat-v1_train_03471              북한유엔 채택 인권결의에 모든 대응 조치 강구 반발       6   \n",
       "...                   ...                                       ...     ...   \n",
       "9795  ynat-v1_train_03449  특별 자영업자들이 전액 지원금 받기 위해 한 달 만에 수십 건이 접수됐다       2   \n",
       "9796  ynat-v1_train_03189                        내비게이션 티맵 최건민 무료 개방       2   \n",
       "9797  ynat-v1_train_04425              여자 농구 대회 칭저우 송로드 프리 마켓 자선 단체       5   \n",
       "9798  ynat-v1_train_06161                        조지가 한국 사람이더라도 박근혜가       6   \n",
       "9799  ynat-v1_train_05034          거제 아이투는 겨울 달 탐사 제한 이후 다음 달 재개장한다       2   \n",
       "\n",
       "                                                    url                  date  \n",
       "0     https://news.naver.com/main/read.nhn?mode=LS2D...  2020.12.07. 오후 12:04  \n",
       "1     https://news.naver.com/main/read.nhn?mode=LS2D...  2016.06.07. 오전 12:01  \n",
       "2     https://news.naver.com/main/read.nhn?mode=LS2D...   2017.01.24. 오후 3:50  \n",
       "3     https://news.naver.com/main/read.nhn?mode=LS2D...   2019.06.10. 오후 4:30  \n",
       "4     https://news.naver.com/main/read.nhn?mode=LS2D...   2016.11.17. 오후 5:16  \n",
       "...                                                 ...                   ...  \n",
       "9795  https://news.naver.com/main/read.nhn?mode=LS2D...  2020.07.02. 오전 10:14  \n",
       "9796  https://news.naver.com/main/read.nhn?mode=LS2D...  2016.07.05. 오전 11:13  \n",
       "9797  https://sports.news.naver.com/news.nhn?oid=001...      2018.10.26 11:10  \n",
       "9798  https://news.naver.com/main/read.nhn?mode=LS2D...   2016.11.14. 오후 5:17  \n",
       "9799  https://news.naver.com/main/read.nhn?mode=LS2D...   2019.11.30. 오전 9:05  \n",
       "\n",
       "[9800 rows x 5 columns]"
      ]
     },
     "execution_count": 27,
     "metadata": {},
     "output_type": "execute_result"
    }
   ],
   "source": [
    "merged = pd.concat([train, google])\n",
    "merged.reset_index(drop=True, inplace=True)\n",
    "merged"
   ]
  },
  {
   "cell_type": "code",
   "execution_count": 28,
   "metadata": {},
   "outputs": [],
   "source": [
    "merged.to_csv('../data/hanspell_p2g_google_train.csv', index=False)"
   ]
  },
  {
   "cell_type": "code",
   "execution_count": 29,
   "metadata": {},
   "outputs": [
    {
     "data": {
      "text/html": [
       "<div>\n",
       "<style scoped>\n",
       "    .dataframe tbody tr th:only-of-type {\n",
       "        vertical-align: middle;\n",
       "    }\n",
       "\n",
       "    .dataframe tbody tr th {\n",
       "        vertical-align: top;\n",
       "    }\n",
       "\n",
       "    .dataframe thead th {\n",
       "        text-align: right;\n",
       "    }\n",
       "</style>\n",
       "<table border=\"1\" class=\"dataframe\">\n",
       "  <thead>\n",
       "    <tr style=\"text-align: right;\">\n",
       "      <th></th>\n",
       "      <th>ID</th>\n",
       "      <th>text</th>\n",
       "      <th>target</th>\n",
       "      <th>url</th>\n",
       "      <th>date</th>\n",
       "    </tr>\n",
       "  </thead>\n",
       "  <tbody>\n",
       "    <tr>\n",
       "      <th>0</th>\n",
       "      <td>ynat-v1_train_04767</td>\n",
       "      <td>해외서 산 요트 타고 권총 밀반입 출입국 관리 구멍</td>\n",
       "      <td>2</td>\n",
       "      <td>https://news.naver.com/main/read.nhn?mode=LS2D...</td>\n",
       "      <td>2020.12.07. 오후 12:04</td>\n",
       "    </tr>\n",
       "    <tr>\n",
       "      <th>1</th>\n",
       "      <td>ynat-v1_train_01284</td>\n",
       "      <td>신형 유전자 가위 기능 확인 유전병 치료 기대</td>\n",
       "      <td>0</td>\n",
       "      <td>https://news.naver.com/main/read.nhn?mode=LS2D...</td>\n",
       "      <td>2016.06.07. 오전 12:01</td>\n",
       "    </tr>\n",
       "    <tr>\n",
       "      <th>2</th>\n",
       "      <td>ynat-v1_train_06255</td>\n",
       "      <td>지폐 속 사임당의 그림</td>\n",
       "      <td>3</td>\n",
       "      <td>https://news.naver.com/main/read.nhn?mode=LS2D...</td>\n",
       "      <td>2017.01.24. 오후 3:50</td>\n",
       "    </tr>\n",
       "    <tr>\n",
       "      <th>3</th>\n",
       "      <td>ynat-v1_train_03516</td>\n",
       "      <td>이란 새 대공 방어 시스템 공개 안 위해 군사력 증강</td>\n",
       "      <td>4</td>\n",
       "      <td>https://news.naver.com/main/read.nhn?mode=LS2D...</td>\n",
       "      <td>2019.06.10. 오후 4:30</td>\n",
       "    </tr>\n",
       "    <tr>\n",
       "      <th>4</th>\n",
       "      <td>ynat-v1_train_03471</td>\n",
       "      <td>북한유엔 채택 인권결의에 모든 대응 조치 강구 반발</td>\n",
       "      <td>6</td>\n",
       "      <td>https://news.naver.com/main/read.nhn?mode=LS2D...</td>\n",
       "      <td>2016.11.17. 오후 5:16</td>\n",
       "    </tr>\n",
       "    <tr>\n",
       "      <th>...</th>\n",
       "      <td>...</td>\n",
       "      <td>...</td>\n",
       "      <td>...</td>\n",
       "      <td>...</td>\n",
       "      <td>...</td>\n",
       "    </tr>\n",
       "    <tr>\n",
       "      <th>9795</th>\n",
       "      <td>ynat-v1_train_03449</td>\n",
       "      <td>특별 자영업자에게 1만 명의 지원금 신청한 달에 1만 원</td>\n",
       "      <td>2</td>\n",
       "      <td>https://news.naver.com/main/read.nhn?mode=LS2D...</td>\n",
       "      <td>2020.07.02. 오전 10:14</td>\n",
       "    </tr>\n",
       "    <tr>\n",
       "      <th>9796</th>\n",
       "      <td>ynat-v1_train_03189</td>\n",
       "      <td>T-navigation Tmap Tran Gung Mi Free 개통</td>\n",
       "      <td>2</td>\n",
       "      <td>https://news.naver.com/main/read.nhn?mode=LS2D...</td>\n",
       "      <td>2016.07.05. 오전 11:13</td>\n",
       "    </tr>\n",
       "    <tr>\n",
       "      <th>9797</th>\n",
       "      <td>ynat-v1_train_04425</td>\n",
       "      <td>여자 농구의 날 청주 소나무길 벼룩시장 자선 바</td>\n",
       "      <td>5</td>\n",
       "      <td>https://sports.news.naver.com/news.nhn?oid=001...</td>\n",
       "      <td>2018.10.26 11:10</td>\n",
       "    </tr>\n",
       "    <tr>\n",
       "      <th>9798</th>\n",
       "      <td>ynat-v1_train_06161</td>\n",
       "      <td>한국 여성이 살고 있는 조지아에서 박근혜가에게 촛불은</td>\n",
       "      <td>6</td>\n",
       "      <td>https://news.naver.com/main/read.nhn?mode=LS2D...</td>\n",
       "      <td>2016.11.14. 오후 5:17</td>\n",
       "    </tr>\n",
       "    <tr>\n",
       "      <th>9799</th>\n",
       "      <td>ynat-v1_train_05034</td>\n",
       "      <td>거제 I도 겨울철에 월 출입 제한이 유지되다가 다음 달 다시 문을</td>\n",
       "      <td>2</td>\n",
       "      <td>https://news.naver.com/main/read.nhn?mode=LS2D...</td>\n",
       "      <td>2019.11.30. 오전 9:05</td>\n",
       "    </tr>\n",
       "  </tbody>\n",
       "</table>\n",
       "<p>9800 rows × 5 columns</p>\n",
       "</div>"
      ],
      "text/plain": [
       "                       ID                                    text  target  \\\n",
       "0     ynat-v1_train_04767            해외서 산 요트 타고 권총 밀반입 출입국 관리 구멍       2   \n",
       "1     ynat-v1_train_01284               신형 유전자 가위 기능 확인 유전병 치료 기대       0   \n",
       "2     ynat-v1_train_06255                            지폐 속 사임당의 그림       3   \n",
       "3     ynat-v1_train_03516           이란 새 대공 방어 시스템 공개 안 위해 군사력 증강       4   \n",
       "4     ynat-v1_train_03471            북한유엔 채택 인권결의에 모든 대응 조치 강구 반발       6   \n",
       "...                   ...                                     ...     ...   \n",
       "9795  ynat-v1_train_03449         특별 자영업자에게 1만 명의 지원금 신청한 달에 1만 원       2   \n",
       "9796  ynat-v1_train_03189  T-navigation Tmap Tran Gung Mi Free 개통       2   \n",
       "9797  ynat-v1_train_04425              여자 농구의 날 청주 소나무길 벼룩시장 자선 바       5   \n",
       "9798  ynat-v1_train_06161           한국 여성이 살고 있는 조지아에서 박근혜가에게 촛불은       6   \n",
       "9799  ynat-v1_train_05034    거제 I도 겨울철에 월 출입 제한이 유지되다가 다음 달 다시 문을       2   \n",
       "\n",
       "                                                    url                  date  \n",
       "0     https://news.naver.com/main/read.nhn?mode=LS2D...  2020.12.07. 오후 12:04  \n",
       "1     https://news.naver.com/main/read.nhn?mode=LS2D...  2016.06.07. 오전 12:01  \n",
       "2     https://news.naver.com/main/read.nhn?mode=LS2D...   2017.01.24. 오후 3:50  \n",
       "3     https://news.naver.com/main/read.nhn?mode=LS2D...   2019.06.10. 오후 4:30  \n",
       "4     https://news.naver.com/main/read.nhn?mode=LS2D...   2016.11.17. 오후 5:16  \n",
       "...                                                 ...                   ...  \n",
       "9795  https://news.naver.com/main/read.nhn?mode=LS2D...  2020.07.02. 오전 10:14  \n",
       "9796  https://news.naver.com/main/read.nhn?mode=LS2D...  2016.07.05. 오전 11:13  \n",
       "9797  https://sports.news.naver.com/news.nhn?oid=001...      2018.10.26 11:10  \n",
       "9798  https://news.naver.com/main/read.nhn?mode=LS2D...   2016.11.14. 오후 5:17  \n",
       "9799  https://news.naver.com/main/read.nhn?mode=LS2D...   2019.11.30. 오전 9:05  \n",
       "\n",
       "[9800 rows x 5 columns]"
      ]
     },
     "execution_count": 29,
     "metadata": {},
     "output_type": "execute_result"
    }
   ],
   "source": [
    "merged2 = pd.concat([train, t5])\n",
    "merged2.reset_index(drop=True, inplace=True)\n",
    "merged2"
   ]
  },
  {
   "cell_type": "code",
   "execution_count": 30,
   "metadata": {},
   "outputs": [],
   "source": [
    "merged2.to_csv('../data/hanspell_p2g_t5_train.csv', index=False)"
   ]
  },
  {
   "cell_type": "code",
   "execution_count": 31,
   "metadata": {},
   "outputs": [
    {
     "data": {
      "text/html": [
       "<div>\n",
       "<style scoped>\n",
       "    .dataframe tbody tr th:only-of-type {\n",
       "        vertical-align: middle;\n",
       "    }\n",
       "\n",
       "    .dataframe tbody tr th {\n",
       "        vertical-align: top;\n",
       "    }\n",
       "\n",
       "    .dataframe thead th {\n",
       "        text-align: right;\n",
       "    }\n",
       "</style>\n",
       "<table border=\"1\" class=\"dataframe\">\n",
       "  <thead>\n",
       "    <tr style=\"text-align: right;\">\n",
       "      <th></th>\n",
       "      <th>ID</th>\n",
       "      <th>text</th>\n",
       "      <th>target</th>\n",
       "      <th>url</th>\n",
       "      <th>date</th>\n",
       "    </tr>\n",
       "  </thead>\n",
       "  <tbody>\n",
       "    <tr>\n",
       "      <th>0</th>\n",
       "      <td>ynat-v1_train_04767</td>\n",
       "      <td>해외서 산 요트 타고 권총 밀반입 출입국 관리 구멍</td>\n",
       "      <td>2</td>\n",
       "      <td>https://news.naver.com/main/read.nhn?mode=LS2D...</td>\n",
       "      <td>2020.12.07. 오후 12:04</td>\n",
       "    </tr>\n",
       "    <tr>\n",
       "      <th>1</th>\n",
       "      <td>ynat-v1_train_01284</td>\n",
       "      <td>신형 유전자 가위 기능 확인 유전병 치료 기대</td>\n",
       "      <td>0</td>\n",
       "      <td>https://news.naver.com/main/read.nhn?mode=LS2D...</td>\n",
       "      <td>2016.06.07. 오전 12:01</td>\n",
       "    </tr>\n",
       "    <tr>\n",
       "      <th>2</th>\n",
       "      <td>ynat-v1_train_06255</td>\n",
       "      <td>지폐 속 사임당의 그림</td>\n",
       "      <td>3</td>\n",
       "      <td>https://news.naver.com/main/read.nhn?mode=LS2D...</td>\n",
       "      <td>2017.01.24. 오후 3:50</td>\n",
       "    </tr>\n",
       "    <tr>\n",
       "      <th>3</th>\n",
       "      <td>ynat-v1_train_03516</td>\n",
       "      <td>이란 새 대공 방어 시스템 공개 안 위해 군사력 증강</td>\n",
       "      <td>4</td>\n",
       "      <td>https://news.naver.com/main/read.nhn?mode=LS2D...</td>\n",
       "      <td>2019.06.10. 오후 4:30</td>\n",
       "    </tr>\n",
       "    <tr>\n",
       "      <th>4</th>\n",
       "      <td>ynat-v1_train_03471</td>\n",
       "      <td>북한유엔 채택 인권결의에 모든 대응 조치 강구 반발</td>\n",
       "      <td>6</td>\n",
       "      <td>https://news.naver.com/main/read.nhn?mode=LS2D...</td>\n",
       "      <td>2016.11.17. 오후 5:16</td>\n",
       "    </tr>\n",
       "    <tr>\n",
       "      <th>...</th>\n",
       "      <td>...</td>\n",
       "      <td>...</td>\n",
       "      <td>...</td>\n",
       "      <td>...</td>\n",
       "      <td>...</td>\n",
       "    </tr>\n",
       "    <tr>\n",
       "      <th>14695</th>\n",
       "      <td>ynat-v1_train_03449</td>\n",
       "      <td>특별 자영업자에게 1만 명의 지원금 신청한 달에 1만 원</td>\n",
       "      <td>2</td>\n",
       "      <td>https://news.naver.com/main/read.nhn?mode=LS2D...</td>\n",
       "      <td>2020.07.02. 오전 10:14</td>\n",
       "    </tr>\n",
       "    <tr>\n",
       "      <th>14696</th>\n",
       "      <td>ynat-v1_train_03189</td>\n",
       "      <td>T-navigation Tmap Tran Gung Mi Free 개통</td>\n",
       "      <td>2</td>\n",
       "      <td>https://news.naver.com/main/read.nhn?mode=LS2D...</td>\n",
       "      <td>2016.07.05. 오전 11:13</td>\n",
       "    </tr>\n",
       "    <tr>\n",
       "      <th>14697</th>\n",
       "      <td>ynat-v1_train_04425</td>\n",
       "      <td>여자 농구의 날 청주 소나무길 벼룩시장 자선 바</td>\n",
       "      <td>5</td>\n",
       "      <td>https://sports.news.naver.com/news.nhn?oid=001...</td>\n",
       "      <td>2018.10.26 11:10</td>\n",
       "    </tr>\n",
       "    <tr>\n",
       "      <th>14698</th>\n",
       "      <td>ynat-v1_train_06161</td>\n",
       "      <td>한국 여성이 살고 있는 조지아에서 박근혜가에게 촛불은</td>\n",
       "      <td>6</td>\n",
       "      <td>https://news.naver.com/main/read.nhn?mode=LS2D...</td>\n",
       "      <td>2016.11.14. 오후 5:17</td>\n",
       "    </tr>\n",
       "    <tr>\n",
       "      <th>14699</th>\n",
       "      <td>ynat-v1_train_05034</td>\n",
       "      <td>거제 I도 겨울철에 월 출입 제한이 유지되다가 다음 달 다시 문을</td>\n",
       "      <td>2</td>\n",
       "      <td>https://news.naver.com/main/read.nhn?mode=LS2D...</td>\n",
       "      <td>2019.11.30. 오전 9:05</td>\n",
       "    </tr>\n",
       "  </tbody>\n",
       "</table>\n",
       "<p>14700 rows × 5 columns</p>\n",
       "</div>"
      ],
      "text/plain": [
       "                        ID                                    text  target  \\\n",
       "0      ynat-v1_train_04767            해외서 산 요트 타고 권총 밀반입 출입국 관리 구멍       2   \n",
       "1      ynat-v1_train_01284               신형 유전자 가위 기능 확인 유전병 치료 기대       0   \n",
       "2      ynat-v1_train_06255                            지폐 속 사임당의 그림       3   \n",
       "3      ynat-v1_train_03516           이란 새 대공 방어 시스템 공개 안 위해 군사력 증강       4   \n",
       "4      ynat-v1_train_03471            북한유엔 채택 인권결의에 모든 대응 조치 강구 반발       6   \n",
       "...                    ...                                     ...     ...   \n",
       "14695  ynat-v1_train_03449         특별 자영업자에게 1만 명의 지원금 신청한 달에 1만 원       2   \n",
       "14696  ynat-v1_train_03189  T-navigation Tmap Tran Gung Mi Free 개통       2   \n",
       "14697  ynat-v1_train_04425              여자 농구의 날 청주 소나무길 벼룩시장 자선 바       5   \n",
       "14698  ynat-v1_train_06161           한국 여성이 살고 있는 조지아에서 박근혜가에게 촛불은       6   \n",
       "14699  ynat-v1_train_05034    거제 I도 겨울철에 월 출입 제한이 유지되다가 다음 달 다시 문을       2   \n",
       "\n",
       "                                                     url                  date  \n",
       "0      https://news.naver.com/main/read.nhn?mode=LS2D...  2020.12.07. 오후 12:04  \n",
       "1      https://news.naver.com/main/read.nhn?mode=LS2D...  2016.06.07. 오전 12:01  \n",
       "2      https://news.naver.com/main/read.nhn?mode=LS2D...   2017.01.24. 오후 3:50  \n",
       "3      https://news.naver.com/main/read.nhn?mode=LS2D...   2019.06.10. 오후 4:30  \n",
       "4      https://news.naver.com/main/read.nhn?mode=LS2D...   2016.11.17. 오후 5:16  \n",
       "...                                                  ...                   ...  \n",
       "14695  https://news.naver.com/main/read.nhn?mode=LS2D...  2020.07.02. 오전 10:14  \n",
       "14696  https://news.naver.com/main/read.nhn?mode=LS2D...  2016.07.05. 오전 11:13  \n",
       "14697  https://sports.news.naver.com/news.nhn?oid=001...      2018.10.26 11:10  \n",
       "14698  https://news.naver.com/main/read.nhn?mode=LS2D...   2016.11.14. 오후 5:17  \n",
       "14699  https://news.naver.com/main/read.nhn?mode=LS2D...   2019.11.30. 오전 9:05  \n",
       "\n",
       "[14700 rows x 5 columns]"
      ]
     },
     "execution_count": 31,
     "metadata": {},
     "output_type": "execute_result"
    }
   ],
   "source": [
    "merged3 = pd.concat([train, google, t5])\n",
    "merged3.reset_index(drop=True, inplace=True)\n",
    "merged3"
   ]
  },
  {
   "cell_type": "code",
   "execution_count": 32,
   "metadata": {},
   "outputs": [],
   "source": [
    "merged3.to_csv('../data/hanspell_p2g_t5_google_train.csv', index=False)"
   ]
  },
  {
   "cell_type": "code",
   "execution_count": null,
   "metadata": {},
   "outputs": [],
   "source": []
  }
 ],
 "metadata": {
  "kernelspec": {
   "display_name": "Python 3",
   "language": "python",
   "name": "python3"
  },
  "language_info": {
   "codemirror_mode": {
    "name": "ipython",
    "version": 3
   },
   "file_extension": ".py",
   "mimetype": "text/x-python",
   "name": "python",
   "nbconvert_exporter": "python",
   "pygments_lexer": "ipython3",
   "version": "3.10.13"
  }
 },
 "nbformat": 4,
 "nbformat_minor": 2
}
