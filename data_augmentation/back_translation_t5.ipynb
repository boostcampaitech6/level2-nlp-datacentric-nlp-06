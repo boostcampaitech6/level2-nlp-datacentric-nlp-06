{
 "cells": [
  {
   "cell_type": "code",
   "execution_count": 2,
   "metadata": {},
   "outputs": [
    {
     "data": {
      "application/vnd.jupyter.widget-view+json": {
       "model_id": "0dbc5673124549deacd3c8261a6604d9",
       "version_major": 2,
       "version_minor": 0
      },
      "text/plain": [
       "tokenizer_config.json:   0%|          | 0.00/2.54k [00:00<?, ?B/s]"
      ]
     },
     "metadata": {},
     "output_type": "display_data"
    },
    {
     "data": {
      "application/vnd.jupyter.widget-view+json": {
       "model_id": "ccacd56340c340b09a227f41e62e8f3f",
       "version_major": 2,
       "version_minor": 0
      },
      "text/plain": [
       "spiece.model:   0%|          | 0.00/1.59M [00:00<?, ?B/s]"
      ]
     },
     "metadata": {},
     "output_type": "display_data"
    },
    {
     "data": {
      "application/vnd.jupyter.widget-view+json": {
       "model_id": "3564b08765ba4a06b3ac90b82e6d1ae3",
       "version_major": 2,
       "version_minor": 0
      },
      "text/plain": [
       "tokenizer.json:   0%|          | 0.00/4.17M [00:00<?, ?B/s]"
      ]
     },
     "metadata": {},
     "output_type": "display_data"
    },
    {
     "data": {
      "application/vnd.jupyter.widget-view+json": {
       "model_id": "3f1cf87fb48d4ad0b438113482c17d44",
       "version_major": 2,
       "version_minor": 0
      },
      "text/plain": [
       "special_tokens_map.json:   0%|          | 0.00/2.22k [00:00<?, ?B/s]"
      ]
     },
     "metadata": {},
     "output_type": "display_data"
    },
    {
     "data": {
      "application/vnd.jupyter.widget-view+json": {
       "model_id": "54fb76c2df634a008705acffdba8d597",
       "version_major": 2,
       "version_minor": 0
      },
      "text/plain": [
       "config.json:   0%|          | 0.00/940 [00:00<?, ?B/s]"
      ]
     },
     "metadata": {},
     "output_type": "display_data"
    },
    {
     "data": {
      "application/vnd.jupyter.widget-view+json": {
       "model_id": "5325861f0ea54212a5fb624be0cd92e1",
       "version_major": 2,
       "version_minor": 0
      },
      "text/plain": [
       "model.safetensors:   0%|          | 0.00/1.19G [00:00<?, ?B/s]"
      ]
     },
     "metadata": {},
     "output_type": "display_data"
    }
   ],
   "source": [
    "from transformers import AutoTokenizer, LongT5ForConditionalGeneration\n",
    "\n",
    "kor2eng_tokenizer = AutoTokenizer.from_pretrained(\"KETI-AIR-Downstream/long-ke-t5-base-translation-aihub-ko2en\")\n",
    "kor2eng_model = LongT5ForConditionalGeneration.from_pretrained(\"KETI-AIR-Downstream/long-ke-t5-base-translation-aihub-ko2en\")\n",
    "\n",
    "eng2kor_tokenizer = AutoTokenizer.from_pretrained(\"KETI-AIR-Downstream/long-ke-t5-base-translation-aihub-en2ko\")\n",
    "eng2kor_model = LongT5ForConditionalGeneration.from_pretrained(\"KETI-AIR-Downstream/long-ke-t5-base-translation-aihub-en2ko\")"
   ]
  },
  {
   "cell_type": "markdown",
   "metadata": {},
   "source": [
    "https://huggingface.co/docs/transformers/model_doc/t5"
   ]
  },
  {
   "cell_type": "code",
   "execution_count": 3,
   "metadata": {},
   "outputs": [
    {
     "data": {
      "text/html": [
       "<div>\n",
       "<style scoped>\n",
       "    .dataframe tbody tr th:only-of-type {\n",
       "        vertical-align: middle;\n",
       "    }\n",
       "\n",
       "    .dataframe tbody tr th {\n",
       "        vertical-align: top;\n",
       "    }\n",
       "\n",
       "    .dataframe thead th {\n",
       "        text-align: right;\n",
       "    }\n",
       "</style>\n",
       "<table border=\"1\" class=\"dataframe\">\n",
       "  <thead>\n",
       "    <tr style=\"text-align: right;\">\n",
       "      <th></th>\n",
       "      <th>ID</th>\n",
       "      <th>text</th>\n",
       "      <th>target</th>\n",
       "      <th>url</th>\n",
       "      <th>date</th>\n",
       "    </tr>\n",
       "  </thead>\n",
       "  <tbody>\n",
       "    <tr>\n",
       "      <th>0</th>\n",
       "      <td>ynat-v1_train_04767</td>\n",
       "      <td>해외서 산 요트타고 권총 밀반입 출입국 관리 구멍</td>\n",
       "      <td>2</td>\n",
       "      <td>https://news.naver.com/main/read.nhn?mode=LS2D...</td>\n",
       "      <td>2020.12.07. 오후 12:04</td>\n",
       "    </tr>\n",
       "    <tr>\n",
       "      <th>1</th>\n",
       "      <td>ynat-v1_train_01284</td>\n",
       "      <td>신형 유전자 가위 기능 확인 유전병 치료 기대</td>\n",
       "      <td>0</td>\n",
       "      <td>https://news.naver.com/main/read.nhn?mode=LS2D...</td>\n",
       "      <td>2016.06.07. 오전 12:01</td>\n",
       "    </tr>\n",
       "    <tr>\n",
       "      <th>2</th>\n",
       "      <td>ynat-v1_train_06255</td>\n",
       "      <td>지폐 속 사임당의 그림</td>\n",
       "      <td>3</td>\n",
       "      <td>https://news.naver.com/main/read.nhn?mode=LS2D...</td>\n",
       "      <td>2017.01.24. 오후 3:50</td>\n",
       "    </tr>\n",
       "    <tr>\n",
       "      <th>3</th>\n",
       "      <td>ynat-v1_train_03516</td>\n",
       "      <td>이란 새 대공방어 시스템 공개 안보 위해 군사력 증강</td>\n",
       "      <td>4</td>\n",
       "      <td>https://news.naver.com/main/read.nhn?mode=LS2D...</td>\n",
       "      <td>2019.06.10. 오후 4:30</td>\n",
       "    </tr>\n",
       "    <tr>\n",
       "      <th>4</th>\n",
       "      <td>ynat-v1_train_03471</td>\n",
       "      <td>북한 유엔 채택 인권결의에 모든 대응조치 강구 반발</td>\n",
       "      <td>6</td>\n",
       "      <td>https://news.naver.com/main/read.nhn?mode=LS2D...</td>\n",
       "      <td>2016.11.17. 오후 5:16</td>\n",
       "    </tr>\n",
       "  </tbody>\n",
       "</table>\n",
       "</div>"
      ],
      "text/plain": [
       "                    ID                           text  target  \\\n",
       "0  ynat-v1_train_04767    해외서 산 요트타고 권총 밀반입 출입국 관리 구멍       2   \n",
       "1  ynat-v1_train_01284      신형 유전자 가위 기능 확인 유전병 치료 기대       0   \n",
       "2  ynat-v1_train_06255                   지폐 속 사임당의 그림       3   \n",
       "3  ynat-v1_train_03516  이란 새 대공방어 시스템 공개 안보 위해 군사력 증강       4   \n",
       "4  ynat-v1_train_03471   북한 유엔 채택 인권결의에 모든 대응조치 강구 반발       6   \n",
       "\n",
       "                                                 url                  date  \n",
       "0  https://news.naver.com/main/read.nhn?mode=LS2D...  2020.12.07. 오후 12:04  \n",
       "1  https://news.naver.com/main/read.nhn?mode=LS2D...  2016.06.07. 오전 12:01  \n",
       "2  https://news.naver.com/main/read.nhn?mode=LS2D...   2017.01.24. 오후 3:50  \n",
       "3  https://news.naver.com/main/read.nhn?mode=LS2D...   2019.06.10. 오후 4:30  \n",
       "4  https://news.naver.com/main/read.nhn?mode=LS2D...   2016.11.17. 오후 5:16  "
      ]
     },
     "execution_count": 3,
     "metadata": {},
     "output_type": "execute_result"
    }
   ],
   "source": [
    "# 데이터 불러오기\n",
    "import pandas as pd\n",
    "\n",
    "train = pd.read_csv('/data/ephemeral/level2-nlp-datacentric-nlp-06/data/cleaned_train_split.csv')\n",
    "train.head()"
   ]
  },
  {
   "cell_type": "code",
   "execution_count": 4,
   "metadata": {},
   "outputs": [],
   "source": [
    "back_translate = train.copy()"
   ]
  },
  {
   "cell_type": "code",
   "execution_count": 5,
   "metadata": {},
   "outputs": [],
   "source": [
    "def translate(text):\n",
    "    # kor2eng\n",
    "    input_ids = kor2eng_tokenizer(f\"translate_ko2en: {text}\", return_tensors=\"pt\").input_ids\n",
    "    outputs = kor2eng_model.generate(input_ids)\n",
    "    eng_text = kor2eng_tokenizer.decode(outputs[0], skip_special_tokens=True)\n",
    "\n",
    "    # eng2kor\n",
    "    input_ids = eng2kor_tokenizer(f\"translate_en2ko: {eng_text}\", return_tensors=\"pt\").input_ids\n",
    "    outputs = eng2kor_model.generate(input_ids)\n",
    "    backtranslation = eng2kor_tokenizer.decode(outputs[0], skip_special_tokens=True)\n",
    "\n",
    "    return backtranslation"
   ]
  },
  {
   "cell_type": "code",
   "execution_count": 7,
   "metadata": {},
   "outputs": [
    {
     "name": "stderr",
     "output_type": "stream",
     "text": [
      "/data/ephemeral/.conda/lib/python3.10/site-packages/transformers/generation/utils.py:1273: UserWarning: Neither `max_length` nor `max_new_tokens` has been set, `max_length` will default to 20 (`generation_config.max_length`). Controlling `max_length` via the config is deprecated and `max_length` will be removed from the config in v5 of Transformers -- we recommend using `max_new_tokens` to control the maximum length of the generation.\n",
      "  warnings.warn(\n",
      "/data/ephemeral/.conda/lib/python3.10/site-packages/transformers/modeling_utils.py:764: FutureWarning: The `device` argument is deprecated and will be removed in v5 of Transformers.\n",
      "  warnings.warn(\n"
     ]
    },
    {
     "data": {
      "text/plain": [
       "'해외에서 태어난 선원, 권총 밀수, 출입국 관리 구멍.'"
      ]
     },
     "execution_count": 7,
     "metadata": {},
     "output_type": "execute_result"
    }
   ],
   "source": [
    "translate(\"해외서 산 요트타고 권총 밀반입 출입국 관리 구멍\")"
   ]
  },
  {
   "cell_type": "code",
   "execution_count": 8,
   "metadata": {},
   "outputs": [
    {
     "name": "stderr",
     "output_type": "stream",
     "text": [
      "  0%|          | 0/4900 [00:00<?, ?it/s]/data/ephemeral/.conda/lib/python3.10/site-packages/transformers/generation/utils.py:1273: UserWarning: Neither `max_length` nor `max_new_tokens` has been set, `max_length` will default to 20 (`generation_config.max_length`). Controlling `max_length` via the config is deprecated and `max_length` will be removed from the config in v5 of Transformers -- we recommend using `max_new_tokens` to control the maximum length of the generation.\n",
      "  warnings.warn(\n",
      "/data/ephemeral/.conda/lib/python3.10/site-packages/transformers/modeling_utils.py:764: FutureWarning: The `device` argument is deprecated and will be removed in v5 of Transformers.\n",
      "  warnings.warn(\n",
      "100%|██████████| 4900/4900 [5:20:40<00:00,  3.93s/it]  \n"
     ]
    }
   ],
   "source": [
    "from tqdm import tqdm\n",
    "tqdm.pandas()\n",
    "back_translate['text'] = back_translate['text'].progress_apply(lambda x : translate(x))"
   ]
  },
  {
   "cell_type": "code",
   "execution_count": 9,
   "metadata": {},
   "outputs": [],
   "source": [
    "back_translate.to_csv('../data/backtranslation_T5.csv', index=False)"
   ]
  },
  {
   "cell_type": "code",
   "execution_count": 10,
   "metadata": {},
   "outputs": [
    {
     "data": {
      "text/html": [
       "<div>\n",
       "<style scoped>\n",
       "    .dataframe tbody tr th:only-of-type {\n",
       "        vertical-align: middle;\n",
       "    }\n",
       "\n",
       "    .dataframe tbody tr th {\n",
       "        vertical-align: top;\n",
       "    }\n",
       "\n",
       "    .dataframe thead th {\n",
       "        text-align: right;\n",
       "    }\n",
       "</style>\n",
       "<table border=\"1\" class=\"dataframe\">\n",
       "  <thead>\n",
       "    <tr style=\"text-align: right;\">\n",
       "      <th></th>\n",
       "      <th>ID</th>\n",
       "      <th>text</th>\n",
       "      <th>target</th>\n",
       "      <th>url</th>\n",
       "      <th>date</th>\n",
       "    </tr>\n",
       "  </thead>\n",
       "  <tbody>\n",
       "    <tr>\n",
       "      <th>0</th>\n",
       "      <td>ynat-v1_train_04767</td>\n",
       "      <td>해외에서 태어난 선원, 권총 밀수, 출입국 관리 구멍.</td>\n",
       "      <td>2</td>\n",
       "      <td>https://news.naver.com/main/read.nhn?mode=LS2D...</td>\n",
       "      <td>2020.12.07. 오후 12:04</td>\n",
       "    </tr>\n",
       "    <tr>\n",
       "      <th>1</th>\n",
       "      <td>ynat-v1_train_01284</td>\n",
       "      <td>새로운 유전자 가위의 기능 확인. 유전 질환 치료를 기대합니다.</td>\n",
       "      <td>0</td>\n",
       "      <td>https://news.naver.com/main/read.nhn?mode=LS2D...</td>\n",
       "      <td>2016.06.07. 오전 12:01</td>\n",
       "    </tr>\n",
       "    <tr>\n",
       "      <th>2</th>\n",
       "      <td>ynat-v1_train_06255</td>\n",
       "      <td>지폐에 있는 신사의 사진.</td>\n",
       "      <td>3</td>\n",
       "      <td>https://news.naver.com/main/read.nhn?mode=LS2D...</td>\n",
       "      <td>2017.01.24. 오후 3:50</td>\n",
       "    </tr>\n",
       "    <tr>\n",
       "      <th>3</th>\n",
       "      <td>ynat-v1_train_03516</td>\n",
       "      <td>이란의 새로운 대공방어 체계를 개방하고 확보하기 위해 군사력을 증강한다</td>\n",
       "      <td>4</td>\n",
       "      <td>https://news.naver.com/main/read.nhn?mode=LS2D...</td>\n",
       "      <td>2019.06.10. 오후 4:30</td>\n",
       "    </tr>\n",
       "    <tr>\n",
       "      <th>4</th>\n",
       "      <td>ynat-v1_train_03471</td>\n",
       "      <td>이들이 채택한 인권 결의안에 대한 모든 대응책을 강구하는 등 반발</td>\n",
       "      <td>6</td>\n",
       "      <td>https://news.naver.com/main/read.nhn?mode=LS2D...</td>\n",
       "      <td>2016.11.17. 오후 5:16</td>\n",
       "    </tr>\n",
       "  </tbody>\n",
       "</table>\n",
       "</div>"
      ],
      "text/plain": [
       "                    ID                                     text  target  \\\n",
       "0  ynat-v1_train_04767           해외에서 태어난 선원, 권총 밀수, 출입국 관리 구멍.       2   \n",
       "1  ynat-v1_train_01284      새로운 유전자 가위의 기능 확인. 유전 질환 치료를 기대합니다.       0   \n",
       "2  ynat-v1_train_06255                           지폐에 있는 신사의 사진.       3   \n",
       "3  ynat-v1_train_03516  이란의 새로운 대공방어 체계를 개방하고 확보하기 위해 군사력을 증강한다       4   \n",
       "4  ynat-v1_train_03471     이들이 채택한 인권 결의안에 대한 모든 대응책을 강구하는 등 반발       6   \n",
       "\n",
       "                                                 url                  date  \n",
       "0  https://news.naver.com/main/read.nhn?mode=LS2D...  2020.12.07. 오후 12:04  \n",
       "1  https://news.naver.com/main/read.nhn?mode=LS2D...  2016.06.07. 오전 12:01  \n",
       "2  https://news.naver.com/main/read.nhn?mode=LS2D...   2017.01.24. 오후 3:50  \n",
       "3  https://news.naver.com/main/read.nhn?mode=LS2D...   2019.06.10. 오후 4:30  \n",
       "4  https://news.naver.com/main/read.nhn?mode=LS2D...   2016.11.17. 오후 5:16  "
      ]
     },
     "execution_count": 10,
     "metadata": {},
     "output_type": "execute_result"
    }
   ],
   "source": [
    "back_translate.head()"
   ]
  },
  {
   "cell_type": "code",
   "execution_count": 11,
   "metadata": {},
   "outputs": [
    {
     "data": {
      "text/html": [
       "<div>\n",
       "<style scoped>\n",
       "    .dataframe tbody tr th:only-of-type {\n",
       "        vertical-align: middle;\n",
       "    }\n",
       "\n",
       "    .dataframe tbody tr th {\n",
       "        vertical-align: top;\n",
       "    }\n",
       "\n",
       "    .dataframe thead th {\n",
       "        text-align: right;\n",
       "    }\n",
       "</style>\n",
       "<table border=\"1\" class=\"dataframe\">\n",
       "  <thead>\n",
       "    <tr style=\"text-align: right;\">\n",
       "      <th></th>\n",
       "      <th>ID</th>\n",
       "      <th>text</th>\n",
       "      <th>target</th>\n",
       "      <th>url</th>\n",
       "      <th>date</th>\n",
       "    </tr>\n",
       "  </thead>\n",
       "  <tbody>\n",
       "    <tr>\n",
       "      <th>0</th>\n",
       "      <td>ynat-v1_train_04767</td>\n",
       "      <td>해외서 산 요트타고 권총 밀반입 출입국 관리 구멍</td>\n",
       "      <td>2</td>\n",
       "      <td>https://news.naver.com/main/read.nhn?mode=LS2D...</td>\n",
       "      <td>2020.12.07. 오후 12:04</td>\n",
       "    </tr>\n",
       "    <tr>\n",
       "      <th>1</th>\n",
       "      <td>ynat-v1_train_01284</td>\n",
       "      <td>신형 유전자 가위 기능 확인 유전병 치료 기대</td>\n",
       "      <td>0</td>\n",
       "      <td>https://news.naver.com/main/read.nhn?mode=LS2D...</td>\n",
       "      <td>2016.06.07. 오전 12:01</td>\n",
       "    </tr>\n",
       "    <tr>\n",
       "      <th>2</th>\n",
       "      <td>ynat-v1_train_06255</td>\n",
       "      <td>지폐 속 사임당의 그림</td>\n",
       "      <td>3</td>\n",
       "      <td>https://news.naver.com/main/read.nhn?mode=LS2D...</td>\n",
       "      <td>2017.01.24. 오후 3:50</td>\n",
       "    </tr>\n",
       "    <tr>\n",
       "      <th>3</th>\n",
       "      <td>ynat-v1_train_03516</td>\n",
       "      <td>이란 새 대공방어 시스템 공개 안보 위해 군사력 증강</td>\n",
       "      <td>4</td>\n",
       "      <td>https://news.naver.com/main/read.nhn?mode=LS2D...</td>\n",
       "      <td>2019.06.10. 오후 4:30</td>\n",
       "    </tr>\n",
       "    <tr>\n",
       "      <th>4</th>\n",
       "      <td>ynat-v1_train_03471</td>\n",
       "      <td>北 유엔 채택 인권결의에 모든 대응조치 강구 반발</td>\n",
       "      <td>6</td>\n",
       "      <td>https://news.naver.com/main/read.nhn?mode=LS2D...</td>\n",
       "      <td>2016.11.17. 오후 5:16</td>\n",
       "    </tr>\n",
       "    <tr>\n",
       "      <th>...</th>\n",
       "      <td>...</td>\n",
       "      <td>...</td>\n",
       "      <td>...</td>\n",
       "      <td>...</td>\n",
       "      <td>...</td>\n",
       "    </tr>\n",
       "    <tr>\n",
       "      <th>4895</th>\n",
       "      <td>ynat-v1_train_03449</td>\n",
       "      <td>특별 자영업자에게 1만 원의 지원금을 신청한 달에 1만 원</td>\n",
       "      <td>2</td>\n",
       "      <td>https://news.naver.com/main/read.nhn?mode=LS2D...</td>\n",
       "      <td>2020.07.02. 오전 10:14</td>\n",
       "    </tr>\n",
       "    <tr>\n",
       "      <th>4896</th>\n",
       "      <td>ynat-v1_train_03189</td>\n",
       "      <td>T-navigation T-map, Tran-Gung-Mi, Free 개통</td>\n",
       "      <td>2</td>\n",
       "      <td>https://news.naver.com/main/read.nhn?mode=LS2D...</td>\n",
       "      <td>2016.07.05. 오전 11:13</td>\n",
       "    </tr>\n",
       "    <tr>\n",
       "      <th>4897</th>\n",
       "      <td>ynat-v1_train_04425</td>\n",
       "      <td>청주 소나무길 벼룩시장 자선바인 여자 농구의 날.</td>\n",
       "      <td>5</td>\n",
       "      <td>https://sports.news.naver.com/news.nhn?oid=001...</td>\n",
       "      <td>2018.10.26 11:10</td>\n",
       "    </tr>\n",
       "    <tr>\n",
       "      <th>4898</th>\n",
       "      <td>ynat-v1_train_06161</td>\n",
       "      <td>한국 여성이 살고 있는 조지아에서 박근혜에게 촛불은.</td>\n",
       "      <td>6</td>\n",
       "      <td>https://news.naver.com/main/read.nhn?mode=LS2D...</td>\n",
       "      <td>2016.11.14. 오후 5:17</td>\n",
       "    </tr>\n",
       "    <tr>\n",
       "      <th>4899</th>\n",
       "      <td>ynat-v1_train_05034</td>\n",
       "      <td>거제 I도 겨울철에 월 출입 제한을 정비한 후 다음 달에 다시 문</td>\n",
       "      <td>2</td>\n",
       "      <td>https://news.naver.com/main/read.nhn?mode=LS2D...</td>\n",
       "      <td>2019.11.30. 오전 9:05</td>\n",
       "    </tr>\n",
       "  </tbody>\n",
       "</table>\n",
       "<p>9800 rows × 5 columns</p>\n",
       "</div>"
      ],
      "text/plain": [
       "                       ID                                       text  target  \\\n",
       "0     ynat-v1_train_04767                해외서 산 요트타고 권총 밀반입 출입국 관리 구멍       2   \n",
       "1     ynat-v1_train_01284                  신형 유전자 가위 기능 확인 유전병 치료 기대       0   \n",
       "2     ynat-v1_train_06255                               지폐 속 사임당의 그림       3   \n",
       "3     ynat-v1_train_03516              이란 새 대공방어 시스템 공개 안보 위해 군사력 증강       4   \n",
       "4     ynat-v1_train_03471                北 유엔 채택 인권결의에 모든 대응조치 강구 반발       6   \n",
       "...                   ...                                        ...     ...   \n",
       "4895  ynat-v1_train_03449           특별 자영업자에게 1만 원의 지원금을 신청한 달에 1만 원       2   \n",
       "4896  ynat-v1_train_03189  T-navigation T-map, Tran-Gung-Mi, Free 개통       2   \n",
       "4897  ynat-v1_train_04425                청주 소나무길 벼룩시장 자선바인 여자 농구의 날.       5   \n",
       "4898  ynat-v1_train_06161              한국 여성이 살고 있는 조지아에서 박근혜에게 촛불은.       6   \n",
       "4899  ynat-v1_train_05034       거제 I도 겨울철에 월 출입 제한을 정비한 후 다음 달에 다시 문       2   \n",
       "\n",
       "                                                    url                  date  \n",
       "0     https://news.naver.com/main/read.nhn?mode=LS2D...  2020.12.07. 오후 12:04  \n",
       "1     https://news.naver.com/main/read.nhn?mode=LS2D...  2016.06.07. 오전 12:01  \n",
       "2     https://news.naver.com/main/read.nhn?mode=LS2D...   2017.01.24. 오후 3:50  \n",
       "3     https://news.naver.com/main/read.nhn?mode=LS2D...   2019.06.10. 오후 4:30  \n",
       "4     https://news.naver.com/main/read.nhn?mode=LS2D...   2016.11.17. 오후 5:16  \n",
       "...                                                 ...                   ...  \n",
       "4895  https://news.naver.com/main/read.nhn?mode=LS2D...  2020.07.02. 오전 10:14  \n",
       "4896  https://news.naver.com/main/read.nhn?mode=LS2D...  2016.07.05. 오전 11:13  \n",
       "4897  https://sports.news.naver.com/news.nhn?oid=001...      2018.10.26 11:10  \n",
       "4898  https://news.naver.com/main/read.nhn?mode=LS2D...   2016.11.14. 오후 5:17  \n",
       "4899  https://news.naver.com/main/read.nhn?mode=LS2D...   2019.11.30. 오전 9:05  \n",
       "\n",
       "[9800 rows x 5 columns]"
      ]
     },
     "execution_count": 11,
     "metadata": {},
     "output_type": "execute_result"
    }
   ],
   "source": [
    "original = pd.read_csv('/data/ephemeral/level2-nlp-datacentric-nlp-06/data/special_cleaned_train_split.csv')\n",
    "back_t5 = pd.concat([original, back_translate])\n",
    "back_t5"
   ]
  },
  {
   "cell_type": "code",
   "execution_count": 13,
   "metadata": {},
   "outputs": [
    {
     "data": {
      "text/html": [
       "<div>\n",
       "<style scoped>\n",
       "    .dataframe tbody tr th:only-of-type {\n",
       "        vertical-align: middle;\n",
       "    }\n",
       "\n",
       "    .dataframe tbody tr th {\n",
       "        vertical-align: top;\n",
       "    }\n",
       "\n",
       "    .dataframe thead th {\n",
       "        text-align: right;\n",
       "    }\n",
       "</style>\n",
       "<table border=\"1\" class=\"dataframe\">\n",
       "  <thead>\n",
       "    <tr style=\"text-align: right;\">\n",
       "      <th></th>\n",
       "      <th>ID</th>\n",
       "      <th>text</th>\n",
       "      <th>target</th>\n",
       "      <th>url</th>\n",
       "      <th>date</th>\n",
       "    </tr>\n",
       "  </thead>\n",
       "  <tbody>\n",
       "    <tr>\n",
       "      <th>0</th>\n",
       "      <td>ynat-v1_train_04767</td>\n",
       "      <td>해외서 산 요트타고 권총 밀반입 출입국 관리 구멍</td>\n",
       "      <td>2</td>\n",
       "      <td>https://news.naver.com/main/read.nhn?mode=LS2D...</td>\n",
       "      <td>2020.12.07. 오후 12:04</td>\n",
       "    </tr>\n",
       "    <tr>\n",
       "      <th>1</th>\n",
       "      <td>ynat-v1_train_01284</td>\n",
       "      <td>신형 유전자 가위 기능 확인 유전병 치료 기대</td>\n",
       "      <td>0</td>\n",
       "      <td>https://news.naver.com/main/read.nhn?mode=LS2D...</td>\n",
       "      <td>2016.06.07. 오전 12:01</td>\n",
       "    </tr>\n",
       "    <tr>\n",
       "      <th>2</th>\n",
       "      <td>ynat-v1_train_06255</td>\n",
       "      <td>지폐 속 사임당의 그림</td>\n",
       "      <td>3</td>\n",
       "      <td>https://news.naver.com/main/read.nhn?mode=LS2D...</td>\n",
       "      <td>2017.01.24. 오후 3:50</td>\n",
       "    </tr>\n",
       "    <tr>\n",
       "      <th>3</th>\n",
       "      <td>ynat-v1_train_03516</td>\n",
       "      <td>이란 새 대공방어 시스템 공개 안보 위해 군사력 증강</td>\n",
       "      <td>4</td>\n",
       "      <td>https://news.naver.com/main/read.nhn?mode=LS2D...</td>\n",
       "      <td>2019.06.10. 오후 4:30</td>\n",
       "    </tr>\n",
       "    <tr>\n",
       "      <th>4</th>\n",
       "      <td>ynat-v1_train_03471</td>\n",
       "      <td>北 유엔 채택 인권결의에 모든 대응조치 강구 반발</td>\n",
       "      <td>6</td>\n",
       "      <td>https://news.naver.com/main/read.nhn?mode=LS2D...</td>\n",
       "      <td>2016.11.17. 오후 5:16</td>\n",
       "    </tr>\n",
       "    <tr>\n",
       "      <th>...</th>\n",
       "      <td>...</td>\n",
       "      <td>...</td>\n",
       "      <td>...</td>\n",
       "      <td>...</td>\n",
       "      <td>...</td>\n",
       "    </tr>\n",
       "    <tr>\n",
       "      <th>9795</th>\n",
       "      <td>ynat-v1_train_03449</td>\n",
       "      <td>특별 자영업자에게 1만 원의 지원금을 신청한 달에 1만 원</td>\n",
       "      <td>2</td>\n",
       "      <td>https://news.naver.com/main/read.nhn?mode=LS2D...</td>\n",
       "      <td>2020.07.02. 오전 10:14</td>\n",
       "    </tr>\n",
       "    <tr>\n",
       "      <th>9796</th>\n",
       "      <td>ynat-v1_train_03189</td>\n",
       "      <td>T-navigation T-map, Tran-Gung-Mi, Free 개통</td>\n",
       "      <td>2</td>\n",
       "      <td>https://news.naver.com/main/read.nhn?mode=LS2D...</td>\n",
       "      <td>2016.07.05. 오전 11:13</td>\n",
       "    </tr>\n",
       "    <tr>\n",
       "      <th>9797</th>\n",
       "      <td>ynat-v1_train_04425</td>\n",
       "      <td>청주 소나무길 벼룩시장 자선바인 여자 농구의 날.</td>\n",
       "      <td>5</td>\n",
       "      <td>https://sports.news.naver.com/news.nhn?oid=001...</td>\n",
       "      <td>2018.10.26 11:10</td>\n",
       "    </tr>\n",
       "    <tr>\n",
       "      <th>9798</th>\n",
       "      <td>ynat-v1_train_06161</td>\n",
       "      <td>한국 여성이 살고 있는 조지아에서 박근혜에게 촛불은.</td>\n",
       "      <td>6</td>\n",
       "      <td>https://news.naver.com/main/read.nhn?mode=LS2D...</td>\n",
       "      <td>2016.11.14. 오후 5:17</td>\n",
       "    </tr>\n",
       "    <tr>\n",
       "      <th>9799</th>\n",
       "      <td>ynat-v1_train_05034</td>\n",
       "      <td>거제 I도 겨울철에 월 출입 제한을 정비한 후 다음 달에 다시 문</td>\n",
       "      <td>2</td>\n",
       "      <td>https://news.naver.com/main/read.nhn?mode=LS2D...</td>\n",
       "      <td>2019.11.30. 오전 9:05</td>\n",
       "    </tr>\n",
       "  </tbody>\n",
       "</table>\n",
       "<p>9800 rows × 5 columns</p>\n",
       "</div>"
      ],
      "text/plain": [
       "                       ID                                       text  target  \\\n",
       "0     ynat-v1_train_04767                해외서 산 요트타고 권총 밀반입 출입국 관리 구멍       2   \n",
       "1     ynat-v1_train_01284                  신형 유전자 가위 기능 확인 유전병 치료 기대       0   \n",
       "2     ynat-v1_train_06255                               지폐 속 사임당의 그림       3   \n",
       "3     ynat-v1_train_03516              이란 새 대공방어 시스템 공개 안보 위해 군사력 증강       4   \n",
       "4     ynat-v1_train_03471                北 유엔 채택 인권결의에 모든 대응조치 강구 반발       6   \n",
       "...                   ...                                        ...     ...   \n",
       "9795  ynat-v1_train_03449           특별 자영업자에게 1만 원의 지원금을 신청한 달에 1만 원       2   \n",
       "9796  ynat-v1_train_03189  T-navigation T-map, Tran-Gung-Mi, Free 개통       2   \n",
       "9797  ynat-v1_train_04425                청주 소나무길 벼룩시장 자선바인 여자 농구의 날.       5   \n",
       "9798  ynat-v1_train_06161              한국 여성이 살고 있는 조지아에서 박근혜에게 촛불은.       6   \n",
       "9799  ynat-v1_train_05034       거제 I도 겨울철에 월 출입 제한을 정비한 후 다음 달에 다시 문       2   \n",
       "\n",
       "                                                    url                  date  \n",
       "0     https://news.naver.com/main/read.nhn?mode=LS2D...  2020.12.07. 오후 12:04  \n",
       "1     https://news.naver.com/main/read.nhn?mode=LS2D...  2016.06.07. 오전 12:01  \n",
       "2     https://news.naver.com/main/read.nhn?mode=LS2D...   2017.01.24. 오후 3:50  \n",
       "3     https://news.naver.com/main/read.nhn?mode=LS2D...   2019.06.10. 오후 4:30  \n",
       "4     https://news.naver.com/main/read.nhn?mode=LS2D...   2016.11.17. 오후 5:16  \n",
       "...                                                 ...                   ...  \n",
       "9795  https://news.naver.com/main/read.nhn?mode=LS2D...  2020.07.02. 오전 10:14  \n",
       "9796  https://news.naver.com/main/read.nhn?mode=LS2D...  2016.07.05. 오전 11:13  \n",
       "9797  https://sports.news.naver.com/news.nhn?oid=001...      2018.10.26 11:10  \n",
       "9798  https://news.naver.com/main/read.nhn?mode=LS2D...   2016.11.14. 오후 5:17  \n",
       "9799  https://news.naver.com/main/read.nhn?mode=LS2D...   2019.11.30. 오전 9:05  \n",
       "\n",
       "[9800 rows x 5 columns]"
      ]
     },
     "execution_count": 13,
     "metadata": {},
     "output_type": "execute_result"
    }
   ],
   "source": [
    "back_t5.reset_index(drop=True, inplace=True)\n",
    "back_t5"
   ]
  },
  {
   "cell_type": "code",
   "execution_count": 14,
   "metadata": {},
   "outputs": [],
   "source": [
    "back_t5.to_csv('../data/backtrans_t5_train.csv', index=False)"
   ]
  }
 ],
 "metadata": {
  "kernelspec": {
   "display_name": "Python 3",
   "language": "python",
   "name": "python3"
  },
  "language_info": {
   "codemirror_mode": {
    "name": "ipython",
    "version": 3
   },
   "file_extension": ".py",
   "mimetype": "text/x-python",
   "name": "python",
   "nbconvert_exporter": "python",
   "pygments_lexer": "ipython3",
   "version": "3.10.13"
  }
 },
 "nbformat": 4,
 "nbformat_minor": 2
}
