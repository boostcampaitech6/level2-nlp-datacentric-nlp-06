{
 "cells": [
  {
   "cell_type": "markdown",
   "metadata": {},
   "source": [
    "# back translation\n",
    "\n",
    "한자 전처리 추가 진행"
   ]
  },
  {
   "cell_type": "code",
   "execution_count": 1,
   "metadata": {},
   "outputs": [
    {
     "name": "stdout",
     "output_type": "stream",
     "text": [
      "/opt/conda/envs/pororo/bin/python\n"
     ]
    }
   ],
   "source": [
    "import sys\n",
    "print(sys.executable)"
   ]
  },
  {
   "cell_type": "code",
   "execution_count": null,
   "metadata": {},
   "outputs": [],
   "source": [
    "def chrome_setting():\n",
    "  chrome_options = webdriver.ChromeOptions()\n",
    "  chrome_options.add_argument('--headless')\n",
    "  chrome_options.add_argument('--no-sandbox')\n",
    "  chrome_options.add_argument('--disable-dev-shm-usage')\n",
    "  driver = webdriver.Chrome('chromedriver', options=chrome_options)\n",
    "  return driver"
   ]
  },
  {
   "cell_type": "code",
   "execution_count": null,
   "metadata": {},
   "outputs": [],
   "source": [
    "driver=chrome_setting()"
   ]
  },
  {
   "cell_type": "code",
   "execution_count": null,
   "metadata": {},
   "outputs": [],
   "source": [
    "# Crawling\n",
    "def kor_to_trans(text_data, trans_lang,start_index,final_index):\n",
    "\n",
    "  target_present = EC.presence_of_element_located((By.XPATH, '//*[@id=\"txtTarget\"]'))\n",
    "\n",
    "  for i in tqdm(range(start_index,final_index)): \n",
    "    \n",
    "    if (i!=0)&(i%99==0):\n",
    "      time.sleep(2)\n",
    "      print('{}th : '.format(i), backtrans)\n",
    "      np.save(data_path+'kor_to_eng_train_{}_{}.npy'.format(start_index,final_index),trans_list)\n",
    "    \n",
    "    try:\n",
    "      driver.get('https://papago.naver.com/?sk=ko&tk='+trans_lang+'&st='+text_data[i])\n",
    "      time.sleep(1.5)\n",
    "      element=WebDriverWait(driver, 10).until(target_present)\n",
    "      time.sleep(0.1)\n",
    "      backtrans = element.text \n",
    "\n",
    "      if (backtrans=='')|(backtrans==' '):\n",
    "        element=WebDriverWait(driver, 10).until(target_present)\n",
    "        backtrans = element.text \n",
    "        trans_list.append(backtrans)\n",
    "      else:\n",
    "        trans_list.append(backtrans)\n",
    "    \n",
    "    except:\n",
    "      trans_list.append('')"
   ]
  },
  {
   "cell_type": "code",
   "execution_count": null,
   "metadata": {},
   "outputs": [],
   "source": [
    "trans_list=[]\n",
    "kor_to_trans(train['title'], 'en',0,10000)\n",
    "np.save(data_path+'kor_to_eng_train_0_10000.npy',trans_list)\n",
    "\n",
    "trans_list=[]\n",
    "kor_to_trans(train['title'], 'en',10000,20000)\n",
    "np.save(data_path+'kor_to_eng_train_10000_20000.npy',trans_list)\n",
    "\n",
    "trans_list=[]\n",
    "kor_to_trans(train['title'], 'en',20000,30000)\n",
    "np.save(data_path+'kor_to_eng_train_20000_30000.npy',trans_list)\n",
    "\n",
    "trans_list=[]\n",
    "kor_to_trans(train['title'], 'en',30000,40000)\n",
    "np.save(data_path+'kor_to_eng_train_30000_40000.npy',trans_list)\n",
    "\n",
    "trans_list=[]\n",
    "kor_to_trans(train['title'], 'en',40000,len(train))\n",
    "np.save(data_path+'kor_to_eng_train_40000_all.npy',trans_list)"
   ]
  }
 ],
 "metadata": {
  "kernelspec": {
   "display_name": "Python 3",
   "language": "python",
   "name": "python3"
  },
  "language_info": {
   "codemirror_mode": {
    "name": "ipython",
    "version": 3
   },
   "file_extension": ".py",
   "mimetype": "text/x-python",
   "name": "python",
   "nbconvert_exporter": "python",
   "pygments_lexer": "ipython3",
   "version": "3.10.13"
  }
 },
 "nbformat": 4,
 "nbformat_minor": 2
}
