{
 "cells": [
  {
   "cell_type": "markdown",
   "metadata": {},
   "source": [
    "# back translation"
   ]
  },
  {
   "cell_type": "code",
   "execution_count": 1,
   "metadata": {},
   "outputs": [
    {
     "name": "stdout",
     "output_type": "stream",
     "text": [
      "c:\\Users\\hwyew\\anaconda3\\envs\\boostcamp\\python.exe\n"
     ]
    }
   ],
   "source": [
    "import sys\n",
    "print(sys.executable)"
   ]
  },
  {
   "cell_type": "code",
   "execution_count": 2,
   "metadata": {},
   "outputs": [
    {
     "data": {
      "text/html": [
       "<div>\n",
       "<style scoped>\n",
       "    .dataframe tbody tr th:only-of-type {\n",
       "        vertical-align: middle;\n",
       "    }\n",
       "\n",
       "    .dataframe tbody tr th {\n",
       "        vertical-align: top;\n",
       "    }\n",
       "\n",
       "    .dataframe thead th {\n",
       "        text-align: right;\n",
       "    }\n",
       "</style>\n",
       "<table border=\"1\" class=\"dataframe\">\n",
       "  <thead>\n",
       "    <tr style=\"text-align: right;\">\n",
       "      <th></th>\n",
       "      <th>ID</th>\n",
       "      <th>text</th>\n",
       "      <th>target</th>\n",
       "      <th>url</th>\n",
       "      <th>date</th>\n",
       "    </tr>\n",
       "  </thead>\n",
       "  <tbody>\n",
       "    <tr>\n",
       "      <th>0</th>\n",
       "      <td>ynat-v1_train_04767</td>\n",
       "      <td>해외서 산 요트 타고 권총 밀반입 출입국 관리 구멍</td>\n",
       "      <td>2</td>\n",
       "      <td>https://news.naver.com/main/read.nhn?mode=LS2D...</td>\n",
       "      <td>2020.12.07. 오후 12:04</td>\n",
       "    </tr>\n",
       "    <tr>\n",
       "      <th>1</th>\n",
       "      <td>ynat-v1_train_01284</td>\n",
       "      <td>신형 유전자 가위 기능 확인 유전병 치료 기대</td>\n",
       "      <td>0</td>\n",
       "      <td>https://news.naver.com/main/read.nhn?mode=LS2D...</td>\n",
       "      <td>2016.06.07. 오전 12:01</td>\n",
       "    </tr>\n",
       "    <tr>\n",
       "      <th>2</th>\n",
       "      <td>ynat-v1_train_06255</td>\n",
       "      <td>지폐 속 사임당의 그림</td>\n",
       "      <td>3</td>\n",
       "      <td>https://news.naver.com/main/read.nhn?mode=LS2D...</td>\n",
       "      <td>2017.01.24. 오후 3:50</td>\n",
       "    </tr>\n",
       "    <tr>\n",
       "      <th>3</th>\n",
       "      <td>ynat-v1_train_03516</td>\n",
       "      <td>이란 새 대공방어 시스템 공개 안보 위해 군사력 증강</td>\n",
       "      <td>4</td>\n",
       "      <td>https://news.naver.com/main/read.nhn?mode=LS2D...</td>\n",
       "      <td>2019.06.10. 오후 4:30</td>\n",
       "    </tr>\n",
       "    <tr>\n",
       "      <th>4</th>\n",
       "      <td>ynat-v1_train_03471</td>\n",
       "      <td>북한 유엔 채택 인권결의에 모든 대응조치 강구 반발</td>\n",
       "      <td>6</td>\n",
       "      <td>https://news.naver.com/main/read.nhn?mode=LS2D...</td>\n",
       "      <td>2016.11.17. 오후 5:16</td>\n",
       "    </tr>\n",
       "  </tbody>\n",
       "</table>\n",
       "</div>"
      ],
      "text/plain": [
       "                    ID                           text  target  \\\n",
       "0  ynat-v1_train_04767   해외서 산 요트 타고 권총 밀반입 출입국 관리 구멍       2   \n",
       "1  ynat-v1_train_01284      신형 유전자 가위 기능 확인 유전병 치료 기대       0   \n",
       "2  ynat-v1_train_06255                   지폐 속 사임당의 그림       3   \n",
       "3  ynat-v1_train_03516  이란 새 대공방어 시스템 공개 안보 위해 군사력 증강       4   \n",
       "4  ynat-v1_train_03471   북한 유엔 채택 인권결의에 모든 대응조치 강구 반발       6   \n",
       "\n",
       "                                                 url                  date  \n",
       "0  https://news.naver.com/main/read.nhn?mode=LS2D...  2020.12.07. 오후 12:04  \n",
       "1  https://news.naver.com/main/read.nhn?mode=LS2D...  2016.06.07. 오전 12:01  \n",
       "2  https://news.naver.com/main/read.nhn?mode=LS2D...   2017.01.24. 오후 3:50  \n",
       "3  https://news.naver.com/main/read.nhn?mode=LS2D...   2019.06.10. 오후 4:30  \n",
       "4  https://news.naver.com/main/read.nhn?mode=LS2D...   2016.11.17. 오후 5:16  "
      ]
     },
     "execution_count": 2,
     "metadata": {},
     "output_type": "execute_result"
    }
   ],
   "source": [
    "# 데이터 불러오기\n",
    "import pandas as pd\n",
    "\n",
    "train = pd.read_csv('hanspell_train_split.csv')\n",
    "train.head()"
   ]
  },
  {
   "cell_type": "code",
   "execution_count": 3,
   "metadata": {},
   "outputs": [],
   "source": [
    "back_translate = train.copy()"
   ]
  },
  {
   "cell_type": "code",
   "execution_count": null,
   "metadata": {},
   "outputs": [],
   "source": [
    "# !pip install googletrans==4.0.0rc1"
   ]
  },
  {
   "cell_type": "code",
   "execution_count": null,
   "metadata": {},
   "outputs": [],
   "source": [
    "# # 행마다 돌아가면서 번역\n",
    "# from tqdm import tqdm\n",
    "# from googletrans import Translator\n",
    "\n",
    "# translator = Translator()\n",
    "# translator.raise_Exception = True\n",
    "\n",
    "# import time\n",
    "\n",
    "# with tqdm(total=len(df_1)) as pbar:\n",
    "#     for idx, text in enumerate(df_1['text']):\n",
    "#         back_translate.loc[idx, 'text'] = translator.translate(text, dest=\"ja\").text\n",
    "#         back_translate.loc[idx, 'text'] = translator.translate(text, dest=\"en\").text\n",
    "#         back_translate.loc[idx, 'text'] = translator.translate(text, dest=\"ko\").text\n",
    "\n",
    "#         time.sleep(1)\n",
    "#         pbar.update(1)"
   ]
  },
  {
   "cell_type": "code",
   "execution_count": null,
   "metadata": {},
   "outputs": [],
   "source": [
    "# # 10개로 끊기\n",
    "# df_1 = back_translate.loc[0:500]\n",
    "# df_2 = back_translate.loc[501:1000]\n",
    "# df_3 = back_translate.loc[1001:1500]\n",
    "# df_4 = back_translate.loc[1501:2000]\n",
    "# df_5 = back_translate.loc[2001:2500]\n",
    "# df_6 = back_translate.loc[2501:3000]\n",
    "# df_7 = back_translate.loc[3001:3500]\n",
    "# df_8 = back_translate.loc[3501:4000]\n",
    "# df_9 = back_translate.loc[4001:4500]\n",
    "# df_10 = back_translate.loc[4501:]"
   ]
  },
  {
   "cell_type": "markdown",
   "metadata": {},
   "source": [
    "df_1, df_2까지는 backtrans1.csv로 저장"
   ]
  },
  {
   "cell_type": "code",
   "execution_count": null,
   "metadata": {},
   "outputs": [],
   "source": [
    "# back_translation = pd.read_csv('back_translation1.csv')\n",
    "# back_translation.shape"
   ]
  },
  {
   "cell_type": "code",
   "execution_count": null,
   "metadata": {},
   "outputs": [],
   "source": [
    "# !pip install -U deep-translator"
   ]
  },
  {
   "cell_type": "code",
   "execution_count": 4,
   "metadata": {},
   "outputs": [],
   "source": [
    "from deep_translator import GoogleTranslator\n",
    "ja_translator = GoogleTranslator(source='ko', target='ja')\n",
    "en_translator = GoogleTranslator(source='ja', target='en')\n",
    "ko_translator = GoogleTranslator(source='en', target='ko')"
   ]
  },
  {
   "cell_type": "code",
   "execution_count": 5,
   "metadata": {},
   "outputs": [
    {
     "data": {
      "text/plain": [
       "'こんにちは'"
      ]
     },
     "execution_count": 5,
     "metadata": {},
     "output_type": "execute_result"
    }
   ],
   "source": [
    "ja_translator.translate(\"안녕하세요\")"
   ]
  },
  {
   "cell_type": "code",
   "execution_count": 6,
   "metadata": {},
   "outputs": [
    {
     "data": {
      "text/plain": [
       "'Hello'"
      ]
     },
     "execution_count": 6,
     "metadata": {},
     "output_type": "execute_result"
    }
   ],
   "source": [
    "en_translator.translate('こんにちは')"
   ]
  },
  {
   "cell_type": "code",
   "execution_count": 7,
   "metadata": {},
   "outputs": [
    {
     "data": {
      "text/plain": [
       "'안녕하세요'"
      ]
     },
     "execution_count": 7,
     "metadata": {},
     "output_type": "execute_result"
    }
   ],
   "source": [
    "ko_translator.translate('Hello')"
   ]
  },
  {
   "cell_type": "code",
   "execution_count": 8,
   "metadata": {},
   "outputs": [
    {
     "data": {
      "text/html": [
       "<div>\n",
       "<style scoped>\n",
       "    .dataframe tbody tr th:only-of-type {\n",
       "        vertical-align: middle;\n",
       "    }\n",
       "\n",
       "    .dataframe tbody tr th {\n",
       "        vertical-align: top;\n",
       "    }\n",
       "\n",
       "    .dataframe thead th {\n",
       "        text-align: right;\n",
       "    }\n",
       "</style>\n",
       "<table border=\"1\" class=\"dataframe\">\n",
       "  <thead>\n",
       "    <tr style=\"text-align: right;\">\n",
       "      <th></th>\n",
       "      <th>ID</th>\n",
       "      <th>text</th>\n",
       "      <th>target</th>\n",
       "      <th>url</th>\n",
       "      <th>date</th>\n",
       "    </tr>\n",
       "  </thead>\n",
       "  <tbody>\n",
       "    <tr>\n",
       "      <th>0</th>\n",
       "      <td>ynat-v1_train_04767</td>\n",
       "      <td>해외서 산 요트 타고 권총 밀반입 출입국 관리 구멍</td>\n",
       "      <td>2</td>\n",
       "      <td>https://news.naver.com/main/read.nhn?mode=LS2D...</td>\n",
       "      <td>2020.12.07. 오후 12:04</td>\n",
       "    </tr>\n",
       "    <tr>\n",
       "      <th>1</th>\n",
       "      <td>ynat-v1_train_01284</td>\n",
       "      <td>신형 유전자 가위 기능 확인 유전병 치료 기대</td>\n",
       "      <td>0</td>\n",
       "      <td>https://news.naver.com/main/read.nhn?mode=LS2D...</td>\n",
       "      <td>2016.06.07. 오전 12:01</td>\n",
       "    </tr>\n",
       "    <tr>\n",
       "      <th>2</th>\n",
       "      <td>ynat-v1_train_06255</td>\n",
       "      <td>지폐 속 사임당의 그림</td>\n",
       "      <td>3</td>\n",
       "      <td>https://news.naver.com/main/read.nhn?mode=LS2D...</td>\n",
       "      <td>2017.01.24. 오후 3:50</td>\n",
       "    </tr>\n",
       "    <tr>\n",
       "      <th>3</th>\n",
       "      <td>ynat-v1_train_03516</td>\n",
       "      <td>이란 새 대공방어 시스템 공개 안보 위해 군사력 증강</td>\n",
       "      <td>4</td>\n",
       "      <td>https://news.naver.com/main/read.nhn?mode=LS2D...</td>\n",
       "      <td>2019.06.10. 오후 4:30</td>\n",
       "    </tr>\n",
       "    <tr>\n",
       "      <th>4</th>\n",
       "      <td>ynat-v1_train_03471</td>\n",
       "      <td>북한 유엔 채택 인권결의에 모든 대응조치 강구 반발</td>\n",
       "      <td>6</td>\n",
       "      <td>https://news.naver.com/main/read.nhn?mode=LS2D...</td>\n",
       "      <td>2016.11.17. 오후 5:16</td>\n",
       "    </tr>\n",
       "  </tbody>\n",
       "</table>\n",
       "</div>"
      ],
      "text/plain": [
       "                    ID                           text  target  \\\n",
       "0  ynat-v1_train_04767   해외서 산 요트 타고 권총 밀반입 출입국 관리 구멍       2   \n",
       "1  ynat-v1_train_01284      신형 유전자 가위 기능 확인 유전병 치료 기대       0   \n",
       "2  ynat-v1_train_06255                   지폐 속 사임당의 그림       3   \n",
       "3  ynat-v1_train_03516  이란 새 대공방어 시스템 공개 안보 위해 군사력 증강       4   \n",
       "4  ynat-v1_train_03471   북한 유엔 채택 인권결의에 모든 대응조치 강구 반발       6   \n",
       "\n",
       "                                                 url                  date  \n",
       "0  https://news.naver.com/main/read.nhn?mode=LS2D...  2020.12.07. 오후 12:04  \n",
       "1  https://news.naver.com/main/read.nhn?mode=LS2D...  2016.06.07. 오전 12:01  \n",
       "2  https://news.naver.com/main/read.nhn?mode=LS2D...   2017.01.24. 오후 3:50  \n",
       "3  https://news.naver.com/main/read.nhn?mode=LS2D...   2019.06.10. 오후 4:30  \n",
       "4  https://news.naver.com/main/read.nhn?mode=LS2D...   2016.11.17. 오후 5:16  "
      ]
     },
     "execution_count": 8,
     "metadata": {},
     "output_type": "execute_result"
    }
   ],
   "source": [
    "back_translate.head()"
   ]
  },
  {
   "cell_type": "code",
   "execution_count": 9,
   "metadata": {},
   "outputs": [],
   "source": [
    "def BackTranslation(text):\n",
    "    text = ja_translator.translate(text)\n",
    "    text = en_translator.translate(text)\n",
    "    text = ko_translator.translate(text)\n",
    "\n",
    "    return text"
   ]
  },
  {
   "cell_type": "code",
   "execution_count": 11,
   "metadata": {},
   "outputs": [
    {
     "name": "stderr",
     "output_type": "stream",
     "text": [
      "100%|██████████| 4900/4900 [4:36:12<00:00,  3.38s/it]  \n"
     ]
    }
   ],
   "source": [
    "import time\n",
    "from tqdm import tqdm\n",
    "\n",
    "tqdm.pandas()\n",
    "back_translate['text'] = back_translate['text'].progress_apply(lambda x: BackTranslation(x))"
   ]
  },
  {
   "cell_type": "code",
   "execution_count": 12,
   "metadata": {},
   "outputs": [
    {
     "data": {
      "text/html": [
       "<div>\n",
       "<style scoped>\n",
       "    .dataframe tbody tr th:only-of-type {\n",
       "        vertical-align: middle;\n",
       "    }\n",
       "\n",
       "    .dataframe tbody tr th {\n",
       "        vertical-align: top;\n",
       "    }\n",
       "\n",
       "    .dataframe thead th {\n",
       "        text-align: right;\n",
       "    }\n",
       "</style>\n",
       "<table border=\"1\" class=\"dataframe\">\n",
       "  <thead>\n",
       "    <tr style=\"text-align: right;\">\n",
       "      <th></th>\n",
       "      <th>ID</th>\n",
       "      <th>text</th>\n",
       "      <th>target</th>\n",
       "      <th>url</th>\n",
       "      <th>date</th>\n",
       "    </tr>\n",
       "  </thead>\n",
       "  <tbody>\n",
       "    <tr>\n",
       "      <th>0</th>\n",
       "      <td>ynat-v1_train_04767</td>\n",
       "      <td>해외 산악요트 탑승 중 권총 밀수를 위한 출입국 관리소</td>\n",
       "      <td>2</td>\n",
       "      <td>https://news.naver.com/main/read.nhn?mode=LS2D...</td>\n",
       "      <td>2020.12.07. 오후 12:04</td>\n",
       "    </tr>\n",
       "    <tr>\n",
       "      <th>1</th>\n",
       "      <td>ynat-v1_train_01284</td>\n",
       "      <td>새로운 유전자 가위 기능 확인, 유전질환 치료 기대</td>\n",
       "      <td>0</td>\n",
       "      <td>https://news.naver.com/main/read.nhn?mode=LS2D...</td>\n",
       "      <td>2016.06.07. 오전 12:01</td>\n",
       "    </tr>\n",
       "    <tr>\n",
       "      <th>2</th>\n",
       "      <td>ynat-v1_train_06255</td>\n",
       "      <td>지폐 속 삼단의 일러스트</td>\n",
       "      <td>3</td>\n",
       "      <td>https://news.naver.com/main/read.nhn?mode=LS2D...</td>\n",
       "      <td>2017.01.24. 오후 3:50</td>\n",
       "    </tr>\n",
       "    <tr>\n",
       "      <th>3</th>\n",
       "      <td>ynat-v1_train_03516</td>\n",
       "      <td>이란의 새로운 대공 방어 시스템으로 공공 안보를 위한 군사력 강화</td>\n",
       "      <td>4</td>\n",
       "      <td>https://news.naver.com/main/read.nhn?mode=LS2D...</td>\n",
       "      <td>2019.06.10. 오후 4:30</td>\n",
       "    </tr>\n",
       "    <tr>\n",
       "      <th>4</th>\n",
       "      <td>ynat-v1_train_03471</td>\n",
       "      <td>북한, 유엔 인권결의안에 반대하는 모든 대응조치 강행</td>\n",
       "      <td>6</td>\n",
       "      <td>https://news.naver.com/main/read.nhn?mode=LS2D...</td>\n",
       "      <td>2016.11.17. 오후 5:16</td>\n",
       "    </tr>\n",
       "  </tbody>\n",
       "</table>\n",
       "</div>"
      ],
      "text/plain": [
       "                    ID                                  text  target  \\\n",
       "0  ynat-v1_train_04767        해외 산악요트 탑승 중 권총 밀수를 위한 출입국 관리소       2   \n",
       "1  ynat-v1_train_01284          새로운 유전자 가위 기능 확인, 유전질환 치료 기대       0   \n",
       "2  ynat-v1_train_06255                         지폐 속 삼단의 일러스트       3   \n",
       "3  ynat-v1_train_03516  이란의 새로운 대공 방어 시스템으로 공공 안보를 위한 군사력 강화       4   \n",
       "4  ynat-v1_train_03471         북한, 유엔 인권결의안에 반대하는 모든 대응조치 강행       6   \n",
       "\n",
       "                                                 url                  date  \n",
       "0  https://news.naver.com/main/read.nhn?mode=LS2D...  2020.12.07. 오후 12:04  \n",
       "1  https://news.naver.com/main/read.nhn?mode=LS2D...  2016.06.07. 오전 12:01  \n",
       "2  https://news.naver.com/main/read.nhn?mode=LS2D...   2017.01.24. 오후 3:50  \n",
       "3  https://news.naver.com/main/read.nhn?mode=LS2D...   2019.06.10. 오후 4:30  \n",
       "4  https://news.naver.com/main/read.nhn?mode=LS2D...   2016.11.17. 오후 5:16  "
      ]
     },
     "execution_count": 12,
     "metadata": {},
     "output_type": "execute_result"
    }
   ],
   "source": [
    "back_translate.head()"
   ]
  },
  {
   "cell_type": "code",
   "execution_count": 13,
   "metadata": {},
   "outputs": [],
   "source": [
    "back_translate.to_csv('backtranslation_google.csv', index=False)"
   ]
  },
  {
   "cell_type": "code",
   "execution_count": null,
   "metadata": {},
   "outputs": [],
   "source": [
    "\n",
    "\n",
    "# with tqdm(total=len(back_translate)) as pbar:\n",
    "#     for idx, text in enumerate(back_translate['text']):\n",
    "#         back_translate.loc[idx, 'text'] = ja_translator.translate(text)\n",
    "#         back_translate.loc[idx, 'text'] = en_translator.translate(text)\n",
    "#         back_translate.loc[idx, 'text'] = ko_translator.translate(text)\n",
    "\n",
    "#         # time.sleep(0.5)\n",
    "#         pbar.update(1)"
   ]
  },
  {
   "cell_type": "code",
   "execution_count": 14,
   "metadata": {},
   "outputs": [
    {
     "data": {
      "text/html": [
       "<div>\n",
       "<style scoped>\n",
       "    .dataframe tbody tr th:only-of-type {\n",
       "        vertical-align: middle;\n",
       "    }\n",
       "\n",
       "    .dataframe tbody tr th {\n",
       "        vertical-align: top;\n",
       "    }\n",
       "\n",
       "    .dataframe thead th {\n",
       "        text-align: right;\n",
       "    }\n",
       "</style>\n",
       "<table border=\"1\" class=\"dataframe\">\n",
       "  <thead>\n",
       "    <tr style=\"text-align: right;\">\n",
       "      <th></th>\n",
       "      <th>ID</th>\n",
       "      <th>text</th>\n",
       "      <th>target</th>\n",
       "      <th>url</th>\n",
       "      <th>date</th>\n",
       "    </tr>\n",
       "  </thead>\n",
       "  <tbody>\n",
       "    <tr>\n",
       "      <th>0</th>\n",
       "      <td>ynat-v1_train_04767</td>\n",
       "      <td>해외서 산 요트 타고 권총 밀반입 출입국 관리 구멍</td>\n",
       "      <td>2</td>\n",
       "      <td>https://news.naver.com/main/read.nhn?mode=LS2D...</td>\n",
       "      <td>2020.12.07. 오후 12:04</td>\n",
       "    </tr>\n",
       "    <tr>\n",
       "      <th>1</th>\n",
       "      <td>ynat-v1_train_01284</td>\n",
       "      <td>신형 유전자 가위 기능 확인 유전병 치료 기대</td>\n",
       "      <td>0</td>\n",
       "      <td>https://news.naver.com/main/read.nhn?mode=LS2D...</td>\n",
       "      <td>2016.06.07. 오전 12:01</td>\n",
       "    </tr>\n",
       "    <tr>\n",
       "      <th>2</th>\n",
       "      <td>ynat-v1_train_06255</td>\n",
       "      <td>지폐 속 사임당의 그림</td>\n",
       "      <td>3</td>\n",
       "      <td>https://news.naver.com/main/read.nhn?mode=LS2D...</td>\n",
       "      <td>2017.01.24. 오후 3:50</td>\n",
       "    </tr>\n",
       "    <tr>\n",
       "      <th>3</th>\n",
       "      <td>ynat-v1_train_03516</td>\n",
       "      <td>이란 새 대공방어 시스템 공개 안보 위해 군사력 증강</td>\n",
       "      <td>4</td>\n",
       "      <td>https://news.naver.com/main/read.nhn?mode=LS2D...</td>\n",
       "      <td>2019.06.10. 오후 4:30</td>\n",
       "    </tr>\n",
       "    <tr>\n",
       "      <th>4</th>\n",
       "      <td>ynat-v1_train_03471</td>\n",
       "      <td>北 유엔 채택 인권결의에 모든 대응조치 강구 반발</td>\n",
       "      <td>6</td>\n",
       "      <td>https://news.naver.com/main/read.nhn?mode=LS2D...</td>\n",
       "      <td>2016.11.17. 오후 5:16</td>\n",
       "    </tr>\n",
       "    <tr>\n",
       "      <th>...</th>\n",
       "      <td>...</td>\n",
       "      <td>...</td>\n",
       "      <td>...</td>\n",
       "      <td>...</td>\n",
       "      <td>...</td>\n",
       "    </tr>\n",
       "    <tr>\n",
       "      <th>9795</th>\n",
       "      <td>ynat-v1_train_03449</td>\n",
       "      <td>특별자영업자들이 전액 지원금을 받기 위해 한 달 만에 수천 건의 신청이 접수됐다.</td>\n",
       "      <td>2</td>\n",
       "      <td>https://news.naver.com/main/read.nhn?mode=LS2D...</td>\n",
       "      <td>2020.07.02. 오전 10:14</td>\n",
       "    </tr>\n",
       "    <tr>\n",
       "      <th>9796</th>\n",
       "      <td>ynat-v1_train_03189</td>\n",
       "      <td>티내비게이션 티맵 최건민 무료개방</td>\n",
       "      <td>2</td>\n",
       "      <td>https://news.naver.com/main/read.nhn?mode=LS2D...</td>\n",
       "      <td>2016.07.05. 오전 11:13</td>\n",
       "    </tr>\n",
       "    <tr>\n",
       "      <th>9797</th>\n",
       "      <td>ynat-v1_train_04425</td>\n",
       "      <td>여자농구대회 칭저우 송로드 프리마켓 자선단체</td>\n",
       "      <td>5</td>\n",
       "      <td>https://sports.news.naver.com/news.nhn?oid=001...</td>\n",
       "      <td>2018.10.26 11:10</td>\n",
       "    </tr>\n",
       "    <tr>\n",
       "      <th>9798</th>\n",
       "      <td>ynat-v1_train_06161</td>\n",
       "      <td>조지가 한국 사람이더라도 박근혜는</td>\n",
       "      <td>6</td>\n",
       "      <td>https://news.naver.com/main/read.nhn?mode=LS2D...</td>\n",
       "      <td>2016.11.14. 오후 5:17</td>\n",
       "    </tr>\n",
       "    <tr>\n",
       "      <th>9799</th>\n",
       "      <td>ynat-v1_train_05034</td>\n",
       "      <td>거제아이투(Geoje I too)는 겨울 달 탐사 제한 이후 다음 달 재개장한다.</td>\n",
       "      <td>2</td>\n",
       "      <td>https://news.naver.com/main/read.nhn?mode=LS2D...</td>\n",
       "      <td>2019.11.30. 오전 9:05</td>\n",
       "    </tr>\n",
       "  </tbody>\n",
       "</table>\n",
       "<p>9800 rows × 5 columns</p>\n",
       "</div>"
      ],
      "text/plain": [
       "                       ID                                           text  \\\n",
       "0     ynat-v1_train_04767                   해외서 산 요트 타고 권총 밀반입 출입국 관리 구멍   \n",
       "1     ynat-v1_train_01284                      신형 유전자 가위 기능 확인 유전병 치료 기대   \n",
       "2     ynat-v1_train_06255                                   지폐 속 사임당의 그림   \n",
       "3     ynat-v1_train_03516                  이란 새 대공방어 시스템 공개 안보 위해 군사력 증강   \n",
       "4     ynat-v1_train_03471                    北 유엔 채택 인권결의에 모든 대응조치 강구 반발   \n",
       "...                   ...                                            ...   \n",
       "9795  ynat-v1_train_03449  특별자영업자들이 전액 지원금을 받기 위해 한 달 만에 수천 건의 신청이 접수됐다.   \n",
       "9796  ynat-v1_train_03189                             티내비게이션 티맵 최건민 무료개방   \n",
       "9797  ynat-v1_train_04425                       여자농구대회 칭저우 송로드 프리마켓 자선단체   \n",
       "9798  ynat-v1_train_06161                             조지가 한국 사람이더라도 박근혜는   \n",
       "9799  ynat-v1_train_05034  거제아이투(Geoje I too)는 겨울 달 탐사 제한 이후 다음 달 재개장한다.   \n",
       "\n",
       "      target                                                url  \\\n",
       "0          2  https://news.naver.com/main/read.nhn?mode=LS2D...   \n",
       "1          0  https://news.naver.com/main/read.nhn?mode=LS2D...   \n",
       "2          3  https://news.naver.com/main/read.nhn?mode=LS2D...   \n",
       "3          4  https://news.naver.com/main/read.nhn?mode=LS2D...   \n",
       "4          6  https://news.naver.com/main/read.nhn?mode=LS2D...   \n",
       "...      ...                                                ...   \n",
       "9795       2  https://news.naver.com/main/read.nhn?mode=LS2D...   \n",
       "9796       2  https://news.naver.com/main/read.nhn?mode=LS2D...   \n",
       "9797       5  https://sports.news.naver.com/news.nhn?oid=001...   \n",
       "9798       6  https://news.naver.com/main/read.nhn?mode=LS2D...   \n",
       "9799       2  https://news.naver.com/main/read.nhn?mode=LS2D...   \n",
       "\n",
       "                      date  \n",
       "0     2020.12.07. 오후 12:04  \n",
       "1     2016.06.07. 오전 12:01  \n",
       "2      2017.01.24. 오후 3:50  \n",
       "3      2019.06.10. 오후 4:30  \n",
       "4      2016.11.17. 오후 5:16  \n",
       "...                    ...  \n",
       "9795  2020.07.02. 오전 10:14  \n",
       "9796  2016.07.05. 오전 11:13  \n",
       "9797      2018.10.26 11:10  \n",
       "9798   2016.11.14. 오후 5:17  \n",
       "9799   2019.11.30. 오전 9:05  \n",
       "\n",
       "[9800 rows x 5 columns]"
      ]
     },
     "execution_count": 14,
     "metadata": {},
     "output_type": "execute_result"
    }
   ],
   "source": [
    "original = pd.read_csv('special_hanspell_train_split.csv')\n",
    "back_t5 = pd.concat([original, back_translate])\n",
    "back_t5.reset_index(drop=True, inplace=True)\n",
    "back_t5"
   ]
  },
  {
   "cell_type": "code",
   "execution_count": 15,
   "metadata": {},
   "outputs": [],
   "source": [
    "back_t5.to_csv('hanspell_backtrans_google_train.csv', index=False)"
   ]
  },
  {
   "cell_type": "code",
   "execution_count": null,
   "metadata": {},
   "outputs": [],
   "source": []
  }
 ],
 "metadata": {
  "kernelspec": {
   "display_name": "Python 3",
   "language": "python",
   "name": "python3"
  },
  "language_info": {
   "codemirror_mode": {
    "name": "ipython",
    "version": 3
   },
   "file_extension": ".py",
   "mimetype": "text/x-python",
   "name": "python",
   "nbconvert_exporter": "python",
   "pygments_lexer": "ipython3",
   "version": "3.10.13"
  }
 },
 "nbformat": 4,
 "nbformat_minor": 2
}
