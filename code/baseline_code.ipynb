{
 "cells": [
  {
   "attachments": {},
   "cell_type": "markdown",
   "metadata": {},
   "source": [
    "# Data-Centric NLP 대회: 주제 분류 프로젝트"
   ]
  },
  {
   "attachments": {},
   "cell_type": "markdown",
   "metadata": {},
   "source": [
    "## Load Libraries"
   ]
  },
  {
   "cell_type": "code",
   "execution_count": null,
   "metadata": {},
   "outputs": [],
   "source": [
    "%%bash\n",
    "pip install tqdm\n",
    "pip install numpy\n",
    "pip install pandas\n",
    "pip install transformers==4.26.0\n",
    "pip install sentencepiece==0.1.96\n",
    "pip install evaluate==0.4.0\n",
    "pip install accelerate\n",
    "pip install scikit-learn\n",
    "pip install ipywidgets\n",
    "pip install protobuf==3.15.8\n",
    "pip install torch==1.11.0"
   ]
  },
  {
   "cell_type": "code",
   "execution_count": 1,
   "metadata": {},
   "outputs": [],
   "source": [
    "import os\n",
    "import random\n",
    "from tqdm import tqdm\n",
    "import numpy as np\n",
    "import pandas as pd\n",
    "\n",
    "import torch\n",
    "from torch.utils.data import Dataset\n",
    "\n",
    "import evaluate\n",
    "from transformers import AutoModelForSequenceClassification, AutoTokenizer\n",
    "from transformers import DataCollatorWithPadding\n",
    "from transformers import TrainingArguments, Trainer\n",
    "\n",
    "from sklearn.model_selection import train_test_split"
   ]
  },
  {
   "attachments": {},
   "cell_type": "markdown",
   "metadata": {},
   "source": [
    "## Set Hyperparameters"
   ]
  },
  {
   "cell_type": "code",
   "execution_count": 2,
   "metadata": {},
   "outputs": [],
   "source": [
    "SEED = 456\n",
    "random.seed(SEED)\n",
    "np.random.seed(SEED)\n",
    "torch.manual_seed(SEED)\n",
    "torch.cuda.manual_seed(SEED)\n",
    "torch.cuda.manual_seed_all(SEED)"
   ]
  },
  {
   "cell_type": "code",
   "execution_count": 3,
   "metadata": {},
   "outputs": [
    {
     "data": {
      "text/plain": [
       "device(type='cuda')"
      ]
     },
     "execution_count": 3,
     "metadata": {},
     "output_type": "execute_result"
    }
   ],
   "source": [
    "DEVICE = torch.device('cuda') if torch.cuda.is_available() else torch.device('cpu')\n",
    "DEVICE"
   ]
  },
  {
   "cell_type": "code",
   "execution_count": 4,
   "metadata": {},
   "outputs": [],
   "source": [
    "BASE_DIR = \"/data/ephemeral/level2-nlp-datacentric-nlp-06/\"\n",
    "DATA_DIR = os.path.join(BASE_DIR, 'data/')\n",
    "OUTPUT_DIR = os.path.join(BASE_DIR, 'output/')\n",
    "LOG_DIR = os.path.join(BASE_DIR, 'logs/')\n",
    "CACHE_DIR = os.path.join(BASE_DIR, 'cache/')"
   ]
  },
  {
   "attachments": {},
   "cell_type": "markdown",
   "metadata": {},
   "source": [
    "## Load Tokenizer and Model"
   ]
  },
  {
   "cell_type": "code",
   "execution_count": 5,
   "metadata": {},
   "outputs": [
    {
     "name": "stderr",
     "output_type": "stream",
     "text": [
      "Some weights of the model checkpoint at klue/bert-base were not used when initializing BertForSequenceClassification: ['cls.predictions.transform.LayerNorm.bias', 'cls.predictions.transform.dense.weight', 'cls.predictions.bias', 'cls.seq_relationship.weight', 'cls.predictions.transform.dense.bias', 'cls.seq_relationship.bias', 'cls.predictions.transform.LayerNorm.weight']\n",
      "- This IS expected if you are initializing BertForSequenceClassification from the checkpoint of a model trained on another task or with another architecture (e.g. initializing a BertForSequenceClassification model from a BertForPreTraining model).\n",
      "- This IS NOT expected if you are initializing BertForSequenceClassification from the checkpoint of a model that you expect to be exactly identical (initializing a BertForSequenceClassification model from a BertForSequenceClassification model).\n",
      "Some weights of BertForSequenceClassification were not initialized from the model checkpoint at klue/bert-base and are newly initialized: ['classifier.weight', 'classifier.bias']\n",
      "You should probably TRAIN this model on a down-stream task to be able to use it for predictions and inference.\n"
     ]
    }
   ],
   "source": [
    "model_name = 'klue/bert-base'\n",
    "model = AutoModelForSequenceClassification.from_pretrained(model_name, num_labels=7, cache_dir=CACHE_DIR).to(DEVICE)\n",
    "tokenizer = AutoTokenizer.from_pretrained(model_name, cache_dir=CACHE_DIR)"
   ]
  },
  {
   "attachments": {},
   "cell_type": "markdown",
   "metadata": {},
   "source": [
    "## Define Dataset"
   ]
  },
  {
   "cell_type": "code",
   "execution_count": 6,
   "metadata": {},
   "outputs": [],
   "source": [
    "data = pd.read_csv(os.path.join(DATA_DIR, 'train.csv'))\n",
    "dataset_train, dataset_valid = train_test_split(data, test_size=0.3, stratify=data['target'],random_state=SEED)"
   ]
  },
  {
   "cell_type": "code",
   "execution_count": 7,
   "metadata": {},
   "outputs": [],
   "source": [
    "class BERTDataset(Dataset):\n",
    "    def __init__(self, data, tokenizer):\n",
    "        input_texts = data['text']\n",
    "        targets = data['target']\n",
    "        self.inputs = []\n",
    "        self.labels = []\n",
    "        \n",
    "        for text, label in zip(input_texts, targets):\n",
    "            tokenized_input = tokenizer(text, padding='max_length', truncation=True, return_tensors='pt')\n",
    "            self.inputs.append(tokenized_input)\n",
    "            self.labels.append(torch.tensor(label))\n",
    "    \n",
    "    def __getitem__(self, idx):\n",
    "        return {\n",
    "            'input_ids': self.inputs[idx]['input_ids'].squeeze(0),  \n",
    "            'attention_mask': self.inputs[idx]['attention_mask'].squeeze(0),\n",
    "            'labels': self.labels[idx].squeeze(0)\n",
    "        }\n",
    "    \n",
    "    def __len__(self):\n",
    "        return len(self.labels)"
   ]
  },
  {
   "cell_type": "code",
   "execution_count": 8,
   "metadata": {},
   "outputs": [],
   "source": [
    "data_train = BERTDataset(dataset_train, tokenizer)\n",
    "data_valid = BERTDataset(dataset_valid, tokenizer)"
   ]
  },
  {
   "cell_type": "code",
   "execution_count": 9,
   "metadata": {},
   "outputs": [],
   "source": [
    "data_collator = DataCollatorWithPadding(tokenizer=tokenizer)"
   ]
  },
  {
   "attachments": {},
   "cell_type": "markdown",
   "metadata": {},
   "source": [
    "## Define Metric"
   ]
  },
  {
   "cell_type": "code",
   "execution_count": 10,
   "metadata": {},
   "outputs": [],
   "source": [
    "f1 = evaluate.load('f1')\n",
    "\n",
    "def compute_metrics(eval_pred):\n",
    "    predictions, labels = eval_pred\n",
    "    predictions = np.argmax(predictions, axis=1)\n",
    "    return f1.compute(predictions=predictions, references=labels, average='macro')"
   ]
  },
  {
   "attachments": {},
   "cell_type": "markdown",
   "metadata": {},
   "source": [
    "## Train Model"
   ]
  },
  {
   "cell_type": "markdown",
   "metadata": {},
   "source": [
    "### wandb & mecab setting"
   ]
  },
  {
   "cell_type": "code",
   "execution_count": null,
   "metadata": {},
   "outputs": [],
   "source": [
    "!pip install wandb"
   ]
  },
  {
   "cell_type": "code",
   "execution_count": null,
   "metadata": {},
   "outputs": [],
   "source": [
    "%%bash\n",
    "su -\n",
    "apt-get update\n",
    "apt-get install sudo -y\n",
    "sudo apt install make\n",
    "\n",
    "sudo apt-get install g++ openjdk-8-jdk"
   ]
  },
  {
   "cell_type": "code",
   "execution_count": null,
   "metadata": {},
   "outputs": [],
   "source": [
    "%cd .."
   ]
  },
  {
   "cell_type": "code",
   "execution_count": null,
   "metadata": {},
   "outputs": [],
   "source": [
    "%%bash\n",
    "cd mecab-0.996-ko-0.9.2\n",
    "./configure\n",
    "make\n",
    "make check\n",
    "sudo make install"
   ]
  },
  {
   "cell_type": "code",
   "execution_count": null,
   "metadata": {},
   "outputs": [],
   "source": [
    "%cd .."
   ]
  },
  {
   "cell_type": "code",
   "execution_count": null,
   "metadata": {},
   "outputs": [],
   "source": [
    "%%bash\n",
    "cd mecab-ko-dic-2.1.1-20180720\n",
    "./configure\n",
    "sudo ldconfig\n",
    "make\n",
    "sudo make install"
   ]
  },
  {
   "cell_type": "code",
   "execution_count": null,
   "metadata": {},
   "outputs": [],
   "source": [
    "%%bash\n",
    "pip install konlpy\n",
    "pip install mecab-python3\n",
    "pip install JPype1-py3"
   ]
  },
  {
   "cell_type": "markdown",
   "metadata": {},
   "source": [
    "### train"
   ]
  },
  {
   "cell_type": "code",
   "execution_count": 11,
   "metadata": {},
   "outputs": [],
   "source": [
    "from konlpy.tag import Mecab\n",
    "mecab = Mecab()"
   ]
  },
  {
   "cell_type": "code",
   "execution_count": 12,
   "metadata": {},
   "outputs": [],
   "source": [
    "import wandb\n",
    "import os\n",
    "\n",
    "## for wandb setting\n",
    "os.environ[\"WANDB_API_KEY\"] = \"6f6f03437c7053a9ea262a0afa0edb5694d48a1d\"\n",
    "os.environ[\"WANDB_PROJECT\"] = \"clf_HYW\"  # name your W&B project\n",
    "os.environ[\"WANDB_LOG_MODEL\"] = \"checkpoint\"  # log all model checkpoints"
   ]
  },
  {
   "cell_type": "code",
   "execution_count": 13,
   "metadata": {},
   "outputs": [
    {
     "name": "stderr",
     "output_type": "stream",
     "text": [
      "Failed to detect the name of this notebook, you can set it manually with the WANDB_NOTEBOOK_NAME environment variable to enable code saving.\n",
      "\u001b[34m\u001b[1mwandb\u001b[0m: Currently logged in as: \u001b[33mhwyewon\u001b[0m (\u001b[33mbe-our-friend\u001b[0m). Use \u001b[1m`wandb login --relogin`\u001b[0m to force relogin\n"
     ]
    },
    {
     "data": {
      "text/html": [
       "Tracking run with wandb version 0.16.2"
      ],
      "text/plain": [
       "<IPython.core.display.HTML object>"
      ]
     },
     "metadata": {},
     "output_type": "display_data"
    },
    {
     "data": {
      "text/html": [
       "Run data is saved locally in <code>/data/ephemeral/level2-nlp-datacentric-nlp-06/code/wandb/run-20240125_211003-g4h669y7</code>"
      ],
      "text/plain": [
       "<IPython.core.display.HTML object>"
      ]
     },
     "metadata": {},
     "output_type": "display_data"
    },
    {
     "data": {
      "text/html": [
       "Syncing run <strong><a href='https://wandb.ai/be-our-friend/clf_HYW/runs/g4h669y7' target=\"_blank\">baseline_code</a></strong> to <a href='https://wandb.ai/be-our-friend/clf_HYW' target=\"_blank\">Weights & Biases</a> (<a href='https://wandb.me/run' target=\"_blank\">docs</a>)<br/>"
      ],
      "text/plain": [
       "<IPython.core.display.HTML object>"
      ]
     },
     "metadata": {},
     "output_type": "display_data"
    },
    {
     "data": {
      "text/html": [
       " View project at <a href='https://wandb.ai/be-our-friend/clf_HYW' target=\"_blank\">https://wandb.ai/be-our-friend/clf_HYW</a>"
      ],
      "text/plain": [
       "<IPython.core.display.HTML object>"
      ]
     },
     "metadata": {},
     "output_type": "display_data"
    },
    {
     "data": {
      "text/html": [
       " View run at <a href='https://wandb.ai/be-our-friend/clf_HYW/runs/g4h669y7' target=\"_blank\">https://wandb.ai/be-our-friend/clf_HYW/runs/g4h669y7</a>"
      ],
      "text/plain": [
       "<IPython.core.display.HTML object>"
      ]
     },
     "metadata": {},
     "output_type": "display_data"
    },
    {
     "data": {
      "text/html": [
       "<button onClick=\"this.nextSibling.style.display='block';this.style.display='none';\">Display W&B run</button><iframe src='https://wandb.ai/be-our-friend/clf_HYW/runs/g4h669y7?jupyter=true' style='border:none;width:100%;height:420px;display:none;'></iframe>"
      ],
      "text/plain": [
       "<wandb.sdk.wandb_run.Run at 0x7f3b329ddae0>"
      ]
     },
     "execution_count": 13,
     "metadata": {},
     "output_type": "execute_result"
    }
   ],
   "source": [
    "wandb.init(name=\"baseline_code\")"
   ]
  },
  {
   "cell_type": "code",
   "execution_count": 17,
   "metadata": {},
   "outputs": [
    {
     "name": "stderr",
     "output_type": "stream",
     "text": [
      "PyTorch: setting up devices\n"
     ]
    }
   ],
   "source": [
    "training_args = TrainingArguments(\n",
    "    output_dir=OUTPUT_DIR,\n",
    "    logging_dir=LOG_DIR,\n",
    "    overwrite_output_dir=True,\n",
    "    do_train=True,\n",
    "    do_eval=True,\n",
    "    do_predict=True,\n",
    "    logging_strategy='steps',\n",
    "    evaluation_strategy='steps',\n",
    "    save_strategy='steps',\n",
    "    logging_steps=500,\n",
    "    eval_steps=500,\n",
    "    save_steps=500,\n",
    "    save_total_limit=2,\n",
    "    learning_rate= 2e-05,\n",
    "    adam_beta1 = 0.9,\n",
    "    adam_beta2 = 0.999,\n",
    "    adam_epsilon=1e-08,\n",
    "    weight_decay=0.01,\n",
    "    lr_scheduler_type='linear',\n",
    "    per_device_train_batch_size=4,\n",
    "    per_device_eval_batch_size=4,\n",
    "    num_train_epochs=2,\n",
    "    load_best_model_at_end=True,\n",
    "    metric_for_best_model='eval_f1',\n",
    "    greater_is_better=True,\n",
    "    seed=SEED,\n",
    "    report_to=\"wandb\",\n",
    "    run_name=\"baseline_code\"\n",
    ")"
   ]
  },
  {
   "cell_type": "code",
   "execution_count": 18,
   "metadata": {},
   "outputs": [],
   "source": [
    "trainer = Trainer(\n",
    "    model=model,\n",
    "    args=training_args,\n",
    "    train_dataset=data_train,\n",
    "    eval_dataset=data_valid,\n",
    "    data_collator=data_collator,\n",
    "    compute_metrics=compute_metrics,\n",
    ")"
   ]
  },
  {
   "cell_type": "code",
   "execution_count": 19,
   "metadata": {},
   "outputs": [
    {
     "name": "stderr",
     "output_type": "stream",
     "text": [
      "/data/ephemeral/.conda/lib/python3.10/site-packages/transformers/optimization.py:306: FutureWarning: This implementation of AdamW is deprecated and will be removed in a future version. Use the PyTorch implementation torch.optim.AdamW instead, or set `no_deprecation_warning=True` to disable this warning\n",
      "  warnings.warn(\n",
      "***** Running training *****\n",
      "  Num examples = 4900\n",
      "  Num Epochs = 2\n",
      "  Instantaneous batch size per device = 4\n",
      "  Total train batch size (w. parallel, distributed & accumulation) = 4\n",
      "  Gradient Accumulation steps = 1\n",
      "  Total optimization steps = 2450\n",
      "  Number of trainable parameters = 110622727\n",
      "Automatic Weights & Biases logging enabled, to disable set os.environ[\"WANDB_DISABLED\"] = \"true\"\n"
     ]
    },
    {
     "data": {
      "text/html": [
       "\n",
       "    <div>\n",
       "      \n",
       "      <progress value='2450' max='2450' style='width:300px; height:20px; vertical-align: middle;'></progress>\n",
       "      [2450/2450 08:52, Epoch 2/2]\n",
       "    </div>\n",
       "    <table border=\"1\" class=\"dataframe\">\n",
       "  <thead>\n",
       " <tr style=\"text-align: left;\">\n",
       "      <th>Step</th>\n",
       "      <th>Training Loss</th>\n",
       "      <th>Validation Loss</th>\n",
       "      <th>F1</th>\n",
       "    </tr>\n",
       "  </thead>\n",
       "  <tbody>\n",
       "    <tr>\n",
       "      <td>500</td>\n",
       "      <td>0.416900</td>\n",
       "      <td>0.826161</td>\n",
       "      <td>0.836535</td>\n",
       "    </tr>\n",
       "    <tr>\n",
       "      <td>1000</td>\n",
       "      <td>0.680400</td>\n",
       "      <td>0.728455</td>\n",
       "      <td>0.842384</td>\n",
       "    </tr>\n",
       "    <tr>\n",
       "      <td>1500</td>\n",
       "      <td>0.600100</td>\n",
       "      <td>0.802052</td>\n",
       "      <td>0.849418</td>\n",
       "    </tr>\n",
       "    <tr>\n",
       "      <td>2000</td>\n",
       "      <td>0.425800</td>\n",
       "      <td>0.799729</td>\n",
       "      <td>0.849380</td>\n",
       "    </tr>\n",
       "  </tbody>\n",
       "</table><p>"
      ],
      "text/plain": [
       "<IPython.core.display.HTML object>"
      ]
     },
     "metadata": {},
     "output_type": "display_data"
    },
    {
     "name": "stderr",
     "output_type": "stream",
     "text": [
      "***** Running Evaluation *****\n",
      "  Num examples = 2100\n",
      "  Batch size = 4\n",
      "Saving model checkpoint to /data/ephemeral/level2-nlp-datacentric-nlp-06/output/checkpoint-500\n",
      "Configuration saved in /data/ephemeral/level2-nlp-datacentric-nlp-06/output/checkpoint-500/config.json\n",
      "Model weights saved in /data/ephemeral/level2-nlp-datacentric-nlp-06/output/checkpoint-500/pytorch_model.bin\n",
      "Logging checkpoint artifacts in checkpoint-500. ...\n",
      "\u001b[34m\u001b[1mwandb\u001b[0m: Adding directory to artifact (/data/ephemeral/level2-nlp-datacentric-nlp-06/output/checkpoint-500)... Done. 8.2s\n",
      "***** Running Evaluation *****\n",
      "  Num examples = 2100\n",
      "  Batch size = 4\n",
      "Saving model checkpoint to /data/ephemeral/level2-nlp-datacentric-nlp-06/output/checkpoint-1000\n",
      "Configuration saved in /data/ephemeral/level2-nlp-datacentric-nlp-06/output/checkpoint-1000/config.json\n",
      "Model weights saved in /data/ephemeral/level2-nlp-datacentric-nlp-06/output/checkpoint-1000/pytorch_model.bin\n",
      "Deleting older checkpoint [/data/ephemeral/level2-nlp-datacentric-nlp-06/output/checkpoint-400] due to args.save_total_limit\n",
      "Logging checkpoint artifacts in checkpoint-1000. ...\n",
      "\u001b[34m\u001b[1mwandb\u001b[0m: Adding directory to artifact (/data/ephemeral/level2-nlp-datacentric-nlp-06/output/checkpoint-1000)... Done. 8.2s\n",
      "***** Running Evaluation *****\n",
      "  Num examples = 2100\n",
      "  Batch size = 4\n",
      "Saving model checkpoint to /data/ephemeral/level2-nlp-datacentric-nlp-06/output/checkpoint-1500\n",
      "Configuration saved in /data/ephemeral/level2-nlp-datacentric-nlp-06/output/checkpoint-1500/config.json\n",
      "Model weights saved in /data/ephemeral/level2-nlp-datacentric-nlp-06/output/checkpoint-1500/pytorch_model.bin\n",
      "Deleting older checkpoint [/data/ephemeral/level2-nlp-datacentric-nlp-06/output/checkpoint-500] due to args.save_total_limit\n",
      "Logging checkpoint artifacts in checkpoint-1500. ...\n",
      "\u001b[34m\u001b[1mwandb\u001b[0m: Adding directory to artifact (/data/ephemeral/level2-nlp-datacentric-nlp-06/output/checkpoint-1500)... Done. 8.3s\n",
      "***** Running Evaluation *****\n",
      "  Num examples = 2100\n",
      "  Batch size = 4\n",
      "Saving model checkpoint to /data/ephemeral/level2-nlp-datacentric-nlp-06/output/checkpoint-2000\n",
      "Configuration saved in /data/ephemeral/level2-nlp-datacentric-nlp-06/output/checkpoint-2000/config.json\n",
      "Model weights saved in /data/ephemeral/level2-nlp-datacentric-nlp-06/output/checkpoint-2000/pytorch_model.bin\n",
      "Deleting older checkpoint [/data/ephemeral/level2-nlp-datacentric-nlp-06/output/checkpoint-1000] due to args.save_total_limit\n",
      "Logging checkpoint artifacts in checkpoint-2000. ...\n",
      "\u001b[34m\u001b[1mwandb\u001b[0m: Adding directory to artifact (/data/ephemeral/level2-nlp-datacentric-nlp-06/output/checkpoint-2000)... Done. 8.3s\n",
      "\n",
      "\n",
      "Training completed. Do not forget to share your model on huggingface.co/models =)\n",
      "\n",
      "\n",
      "Loading best model from /data/ephemeral/level2-nlp-datacentric-nlp-06/output/checkpoint-1500 (score: 0.8494182653265189).\n",
      "Saving model checkpoint to /tmp/tmph1_tqp0d\n",
      "Configuration saved in /tmp/tmph1_tqp0d/config.json\n",
      "Model weights saved in /tmp/tmph1_tqp0d/pytorch_model.bin\n",
      "Logging model artifacts. ...\n"
     ]
    },
    {
     "data": {
      "text/plain": [
       "TrainOutput(global_step=2450, training_loss=0.5152296603455836, metrics={'train_runtime': 525.993, 'train_samples_per_second': 18.631, 'train_steps_per_second': 4.658, 'total_flos': 2578604098560000.0, 'train_loss': 0.5152296603455836, 'epoch': 2.0})"
      ]
     },
     "execution_count": 19,
     "metadata": {},
     "output_type": "execute_result"
    }
   ],
   "source": [
    "trainer.train()"
   ]
  },
  {
   "attachments": {},
   "cell_type": "markdown",
   "metadata": {},
   "source": [
    "## Evaluate Model"
   ]
  },
  {
   "cell_type": "markdown",
   "metadata": {},
   "source": [
    "### validation (total)"
   ]
  },
  {
   "cell_type": "code",
   "execution_count": 20,
   "metadata": {},
   "outputs": [
    {
     "name": "stderr",
     "output_type": "stream",
     "text": [
      "2100it [00:19, 108.79it/s]\n"
     ]
    }
   ],
   "source": [
    "model.eval()\n",
    "preds = []\n",
    "for idx, sample in tqdm(dataset_valid.iterrows()):\n",
    "    inputs = tokenizer(sample['text'], return_tensors=\"pt\").to(DEVICE)\n",
    "    with torch.no_grad():\n",
    "        logits = model(**inputs).logits\n",
    "        pred = torch.argmax(torch.nn.Softmax(dim=1)(logits), dim=1).cpu().numpy()\n",
    "        preds.extend(pred)"
   ]
  },
  {
   "cell_type": "code",
   "execution_count": 21,
   "metadata": {},
   "outputs": [
    {
     "data": {
      "text/plain": [
       "{'f1': 0.8494182653265189}"
      ]
     },
     "execution_count": 21,
     "metadata": {},
     "output_type": "execute_result"
    }
   ],
   "source": [
    "f1 = evaluate.load('f1')\n",
    "labels = dataset_valid['target'].values\n",
    "\n",
    "f1.compute(predictions=preds, references=labels, average='macro')"
   ]
  },
  {
   "cell_type": "markdown",
   "metadata": {},
   "source": [
    "## inference"
   ]
  },
  {
   "cell_type": "code",
   "execution_count": 22,
   "metadata": {},
   "outputs": [],
   "source": [
    "dataset_test = pd.read_csv(os.path.join(DATA_DIR, 'test.csv'))"
   ]
  },
  {
   "cell_type": "code",
   "execution_count": 23,
   "metadata": {},
   "outputs": [
    {
     "name": "stderr",
     "output_type": "stream",
     "text": [
      "47785it [07:14, 109.95it/s]\n"
     ]
    }
   ],
   "source": [
    "model.eval()\n",
    "preds = []\n",
    "for idx, sample in tqdm(dataset_test.iterrows()):\n",
    "    inputs = tokenizer(sample['text'], return_tensors=\"pt\").to(DEVICE)\n",
    "    with torch.no_grad():\n",
    "        logits = model(**inputs).logits\n",
    "        pred = torch.argmax(torch.nn.Softmax(dim=1)(logits), dim=1).cpu().numpy()\n",
    "        preds.extend(pred)"
   ]
  },
  {
   "cell_type": "code",
   "execution_count": 24,
   "metadata": {},
   "outputs": [],
   "source": [
    "dataset_test['target'] = preds\n",
    "dataset_test.to_csv(os.path.join(BASE_DIR, 'output.csv'), index=False)"
   ]
  },
  {
   "cell_type": "code",
   "execution_count": 25,
   "metadata": {},
   "outputs": [
    {
     "data": {
      "text/html": [
       "<div>\n",
       "<style scoped>\n",
       "    .dataframe tbody tr th:only-of-type {\n",
       "        vertical-align: middle;\n",
       "    }\n",
       "\n",
       "    .dataframe tbody tr th {\n",
       "        vertical-align: top;\n",
       "    }\n",
       "\n",
       "    .dataframe thead th {\n",
       "        text-align: right;\n",
       "    }\n",
       "</style>\n",
       "<table border=\"1\" class=\"dataframe\">\n",
       "  <thead>\n",
       "    <tr style=\"text-align: right;\">\n",
       "      <th></th>\n",
       "      <th>ID</th>\n",
       "      <th>text</th>\n",
       "      <th>url</th>\n",
       "      <th>date</th>\n",
       "      <th>target</th>\n",
       "    </tr>\n",
       "  </thead>\n",
       "  <tbody>\n",
       "    <tr>\n",
       "      <th>0</th>\n",
       "      <td>ynat-v1_dev_00000</td>\n",
       "      <td>제임스 부상 레이커스 성탄매치서 골든스테이트에 완승종합</td>\n",
       "      <td>https://sports.news.naver.com/news.nhn?oid=001...</td>\n",
       "      <td>2018.12.26 15:16</td>\n",
       "      <td>5</td>\n",
       "    </tr>\n",
       "    <tr>\n",
       "      <th>1</th>\n",
       "      <td>ynat-v1_dev_00001</td>\n",
       "      <td>프랑스 극우정치인 르펜 노란 조끼 덕에 승승장구</td>\n",
       "      <td>https://news.naver.com/main/read.nhn?mode=LS2D...</td>\n",
       "      <td>2019.01.17. 오후 8:04</td>\n",
       "      <td>4</td>\n",
       "    </tr>\n",
       "    <tr>\n",
       "      <th>2</th>\n",
       "      <td>ynat-v1_dev_00002</td>\n",
       "      <td>대통령개헌안 ⑥토지공개념 명시…개발이익환수·부동산과세 강화 전망종합</td>\n",
       "      <td>https://news.naver.com/main/read.nhn?mode=LS2D...</td>\n",
       "      <td>2018.03.21. 오후 1:09</td>\n",
       "      <td>6</td>\n",
       "    </tr>\n",
       "    <tr>\n",
       "      <th>3</th>\n",
       "      <td>ynat-v1_dev_00003</td>\n",
       "      <td>의사 살해 환자 경찰서 나와 법원으로</td>\n",
       "      <td>https://news.naver.com/main/read.nhn?mode=LS2D...</td>\n",
       "      <td>2019.01.02. 오후 2:47</td>\n",
       "      <td>2</td>\n",
       "    </tr>\n",
       "    <tr>\n",
       "      <th>4</th>\n",
       "      <td>ynat-v1_dev_00004</td>\n",
       "      <td>이란 최고지도자 유럽 맹비난…핵합의 미이행 뻔뻔하고 오만</td>\n",
       "      <td>https://news.naver.com/main/read.nhn?mode=LS2D...</td>\n",
       "      <td>2019.07.16. 오후 8:11</td>\n",
       "      <td>4</td>\n",
       "    </tr>\n",
       "  </tbody>\n",
       "</table>\n",
       "</div>"
      ],
      "text/plain": [
       "                  ID                                   text  \\\n",
       "0  ynat-v1_dev_00000         제임스 부상 레이커스 성탄매치서 골든스테이트에 완승종합   \n",
       "1  ynat-v1_dev_00001             프랑스 극우정치인 르펜 노란 조끼 덕에 승승장구   \n",
       "2  ynat-v1_dev_00002  대통령개헌안 ⑥토지공개념 명시…개발이익환수·부동산과세 강화 전망종합   \n",
       "3  ynat-v1_dev_00003                   의사 살해 환자 경찰서 나와 법원으로   \n",
       "4  ynat-v1_dev_00004        이란 최고지도자 유럽 맹비난…핵합의 미이행 뻔뻔하고 오만   \n",
       "\n",
       "                                                 url                 date  \\\n",
       "0  https://sports.news.naver.com/news.nhn?oid=001...     2018.12.26 15:16   \n",
       "1  https://news.naver.com/main/read.nhn?mode=LS2D...  2019.01.17. 오후 8:04   \n",
       "2  https://news.naver.com/main/read.nhn?mode=LS2D...  2018.03.21. 오후 1:09   \n",
       "3  https://news.naver.com/main/read.nhn?mode=LS2D...  2019.01.02. 오후 2:47   \n",
       "4  https://news.naver.com/main/read.nhn?mode=LS2D...  2019.07.16. 오후 8:11   \n",
       "\n",
       "   target  \n",
       "0       5  \n",
       "1       4  \n",
       "2       6  \n",
       "3       2  \n",
       "4       4  "
      ]
     },
     "execution_count": 25,
     "metadata": {},
     "output_type": "execute_result"
    }
   ],
   "source": [
    "dataset_test.head()"
   ]
  }
 ],
 "metadata": {
  "kernelspec": {
   "display_name": "shims",
   "language": "python",
   "name": "python3"
  },
  "language_info": {
   "codemirror_mode": {
    "name": "ipython",
    "version": 3
   },
   "file_extension": ".py",
   "mimetype": "text/x-python",
   "name": "python",
   "nbconvert_exporter": "python",
   "pygments_lexer": "ipython3",
   "version": "3.10.13"
  }
 },
 "nbformat": 4,
 "nbformat_minor": 4
}
