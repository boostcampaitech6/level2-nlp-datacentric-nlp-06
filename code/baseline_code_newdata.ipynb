{
 "cells": [
  {
   "attachments": {},
   "cell_type": "markdown",
   "metadata": {},
   "source": [
    "# Data-Centric NLP 대회: 주제 분류 프로젝트"
   ]
  },
  {
   "attachments": {},
   "cell_type": "markdown",
   "metadata": {},
   "source": [
    "## Load Libraries"
   ]
  },
  {
   "cell_type": "code",
   "execution_count": 1,
   "metadata": {},
   "outputs": [],
   "source": [
    "import os\n",
    "import random\n",
    "from tqdm import tqdm\n",
    "import numpy as np\n",
    "import pandas as pd\n",
    "\n",
    "import torch\n",
    "from torch.utils.data import Dataset\n",
    "\n",
    "import evaluate\n",
    "from transformers import AutoModelForSequenceClassification, AutoTokenizer\n",
    "from transformers import DataCollatorWithPadding\n",
    "from transformers import TrainingArguments, Trainer, EarlyStoppingCallback\n",
    " \n",
    "\n",
    "from sklearn.model_selection import train_test_split"
   ]
  },
  {
   "attachments": {},
   "cell_type": "markdown",
   "metadata": {},
   "source": [
    "## Set Hyperparameters"
   ]
  },
  {
   "cell_type": "code",
   "execution_count": 2,
   "metadata": {},
   "outputs": [],
   "source": [
    "SEED = 456\n",
    "random.seed(SEED)\n",
    "np.random.seed(SEED)\n",
    "torch.manual_seed(SEED)\n",
    "torch.cuda.manual_seed(SEED)\n",
    "torch.cuda.manual_seed_all(SEED)"
   ]
  },
  {
   "cell_type": "code",
   "execution_count": 3,
   "metadata": {},
   "outputs": [
    {
     "data": {
      "text/plain": [
       "device(type='cuda')"
      ]
     },
     "execution_count": 3,
     "metadata": {},
     "output_type": "execute_result"
    }
   ],
   "source": [
    "DEVICE = torch.device('cuda') if torch.cuda.is_available() else torch.device('cpu')\n",
    "DEVICE"
   ]
  },
  {
   "cell_type": "code",
   "execution_count": 4,
   "metadata": {},
   "outputs": [],
   "source": [
    "BASE_DIR = \"/data/ephemeral/level2-nlp-datacentric-nlp-06/\"\n",
    "DATA_DIR = os.path.join(BASE_DIR, 'data/')\n",
    "OUTPUT_DIR = os.path.join(BASE_DIR, 'output/')\n",
    "LOG_DIR = os.path.join(BASE_DIR, 'logs/')\n",
    "CACHE_DIR = os.path.join(BASE_DIR, 'cache/')"
   ]
  },
  {
   "attachments": {},
   "cell_type": "markdown",
   "metadata": {},
   "source": [
    "## Load Tokenizer and Model"
   ]
  },
  {
   "cell_type": "code",
   "execution_count": 5,
   "metadata": {},
   "outputs": [
    {
     "name": "stderr",
     "output_type": "stream",
     "text": [
      "Some weights of the model checkpoint at klue/bert-base were not used when initializing BertForSequenceClassification: ['cls.seq_relationship.weight', 'cls.predictions.bias', 'cls.predictions.transform.dense.bias', 'cls.seq_relationship.bias', 'cls.predictions.transform.LayerNorm.weight', 'cls.predictions.transform.LayerNorm.bias', 'cls.predictions.transform.dense.weight']\n",
      "- This IS expected if you are initializing BertForSequenceClassification from the checkpoint of a model trained on another task or with another architecture (e.g. initializing a BertForSequenceClassification model from a BertForPreTraining model).\n",
      "- This IS NOT expected if you are initializing BertForSequenceClassification from the checkpoint of a model that you expect to be exactly identical (initializing a BertForSequenceClassification model from a BertForSequenceClassification model).\n",
      "Some weights of BertForSequenceClassification were not initialized from the model checkpoint at klue/bert-base and are newly initialized: ['classifier.bias', 'classifier.weight']\n",
      "You should probably TRAIN this model on a down-stream task to be able to use it for predictions and inference.\n"
     ]
    }
   ],
   "source": [
    "model_name = 'klue/bert-base'\n",
    "model = AutoModelForSequenceClassification.from_pretrained(model_name, num_labels=7, cache_dir=CACHE_DIR).to(DEVICE)\n",
    "tokenizer = AutoTokenizer.from_pretrained(model_name, cache_dir=CACHE_DIR)"
   ]
  },
  {
   "attachments": {},
   "cell_type": "markdown",
   "metadata": {},
   "source": [
    "## Define Dataset"
   ]
  },
  {
   "cell_type": "code",
   "execution_count": 6,
   "metadata": {},
   "outputs": [],
   "source": [
    "train = pd.read_csv(os.path.join(DATA_DIR, 'hanspell_backtrans_t5_train.csv'))\n",
    "valid = pd.read_csv(os.path.join(DATA_DIR, 'valid_split.csv'))"
   ]
  },
  {
   "cell_type": "code",
   "execution_count": 7,
   "metadata": {},
   "outputs": [
    {
     "data": {
      "text/plain": [
       "((9800, 5), (2100, 5))"
      ]
     },
     "execution_count": 7,
     "metadata": {},
     "output_type": "execute_result"
    }
   ],
   "source": [
    "train.shape, valid.shape"
   ]
  },
  {
   "cell_type": "code",
   "execution_count": 10,
   "metadata": {},
   "outputs": [
    {
     "data": {
      "text/html": [
       "<div>\n",
       "<style scoped>\n",
       "    .dataframe tbody tr th:only-of-type {\n",
       "        vertical-align: middle;\n",
       "    }\n",
       "\n",
       "    .dataframe tbody tr th {\n",
       "        vertical-align: top;\n",
       "    }\n",
       "\n",
       "    .dataframe thead th {\n",
       "        text-align: right;\n",
       "    }\n",
       "</style>\n",
       "<table border=\"1\" class=\"dataframe\">\n",
       "  <thead>\n",
       "    <tr style=\"text-align: right;\">\n",
       "      <th></th>\n",
       "      <th>ID</th>\n",
       "      <th>text</th>\n",
       "      <th>target</th>\n",
       "      <th>url</th>\n",
       "      <th>date</th>\n",
       "    </tr>\n",
       "  </thead>\n",
       "  <tbody>\n",
       "    <tr>\n",
       "      <th>0</th>\n",
       "      <td>ynat-v1_train_04767</td>\n",
       "      <td>해외서 산 요트 타고 권총 밀반입 출입국 관리 구멍</td>\n",
       "      <td>2</td>\n",
       "      <td>https://news.naver.com/main/read.nhn?mode=LS2D...</td>\n",
       "      <td>2020.12.07. 오후 12:04</td>\n",
       "    </tr>\n",
       "    <tr>\n",
       "      <th>1</th>\n",
       "      <td>ynat-v1_train_01284</td>\n",
       "      <td>신형 유전자 가위 기능 확인 유전병 치료 기대</td>\n",
       "      <td>0</td>\n",
       "      <td>https://news.naver.com/main/read.nhn?mode=LS2D...</td>\n",
       "      <td>2016.06.07. 오전 12:01</td>\n",
       "    </tr>\n",
       "    <tr>\n",
       "      <th>2</th>\n",
       "      <td>ynat-v1_train_06255</td>\n",
       "      <td>지폐 속 사임당의 그림</td>\n",
       "      <td>3</td>\n",
       "      <td>https://news.naver.com/main/read.nhn?mode=LS2D...</td>\n",
       "      <td>2017.01.24. 오후 3:50</td>\n",
       "    </tr>\n",
       "    <tr>\n",
       "      <th>3</th>\n",
       "      <td>ynat-v1_train_03516</td>\n",
       "      <td>이란 새 대공방어 시스템 공개 안보 위해 군사력 증강</td>\n",
       "      <td>4</td>\n",
       "      <td>https://news.naver.com/main/read.nhn?mode=LS2D...</td>\n",
       "      <td>2019.06.10. 오후 4:30</td>\n",
       "    </tr>\n",
       "    <tr>\n",
       "      <th>4</th>\n",
       "      <td>ynat-v1_train_03471</td>\n",
       "      <td>北 유엔 채택 인권결의에 모든 대응조치 강구 반발</td>\n",
       "      <td>6</td>\n",
       "      <td>https://news.naver.com/main/read.nhn?mode=LS2D...</td>\n",
       "      <td>2016.11.17. 오후 5:16</td>\n",
       "    </tr>\n",
       "  </tbody>\n",
       "</table>\n",
       "</div>"
      ],
      "text/plain": [
       "                    ID                           text  target  \\\n",
       "0  ynat-v1_train_04767   해외서 산 요트 타고 권총 밀반입 출입국 관리 구멍       2   \n",
       "1  ynat-v1_train_01284      신형 유전자 가위 기능 확인 유전병 치료 기대       0   \n",
       "2  ynat-v1_train_06255                   지폐 속 사임당의 그림       3   \n",
       "3  ynat-v1_train_03516  이란 새 대공방어 시스템 공개 안보 위해 군사력 증강       4   \n",
       "4  ynat-v1_train_03471    北 유엔 채택 인권결의에 모든 대응조치 강구 반발       6   \n",
       "\n",
       "                                                 url                  date  \n",
       "0  https://news.naver.com/main/read.nhn?mode=LS2D...  2020.12.07. 오후 12:04  \n",
       "1  https://news.naver.com/main/read.nhn?mode=LS2D...  2016.06.07. 오전 12:01  \n",
       "2  https://news.naver.com/main/read.nhn?mode=LS2D...   2017.01.24. 오후 3:50  \n",
       "3  https://news.naver.com/main/read.nhn?mode=LS2D...   2019.06.10. 오후 4:30  \n",
       "4  https://news.naver.com/main/read.nhn?mode=LS2D...   2016.11.17. 오후 5:16  "
      ]
     },
     "execution_count": 10,
     "metadata": {},
     "output_type": "execute_result"
    }
   ],
   "source": [
    "train.head()"
   ]
  },
  {
   "cell_type": "code",
   "execution_count": 8,
   "metadata": {},
   "outputs": [
    {
     "data": {
      "text/plain": [
       "ID        0\n",
       "text      0\n",
       "target    0\n",
       "url       0\n",
       "date      0\n",
       "dtype: int64"
      ]
     },
     "execution_count": 8,
     "metadata": {},
     "output_type": "execute_result"
    }
   ],
   "source": [
    "train.isnull().sum()"
   ]
  },
  {
   "cell_type": "code",
   "execution_count": 9,
   "metadata": {},
   "outputs": [
    {
     "data": {
      "text/plain": [
       "ID        0\n",
       "text      0\n",
       "target    0\n",
       "url       0\n",
       "date      0\n",
       "dtype: int64"
      ]
     },
     "execution_count": 9,
     "metadata": {},
     "output_type": "execute_result"
    }
   ],
   "source": [
    "valid.isnull().sum()"
   ]
  },
  {
   "cell_type": "code",
   "execution_count": 10,
   "metadata": {},
   "outputs": [],
   "source": [
    "# # 한 번 shuffle 해주기\n",
    "# train = train.sample(frac=1).reset_index(drop=True)"
   ]
  },
  {
   "cell_type": "code",
   "execution_count": 11,
   "metadata": {},
   "outputs": [],
   "source": [
    "class BERTDataset(Dataset):\n",
    "    def __init__(self, data, tokenizer):\n",
    "        input_texts = data['text']\n",
    "        targets = data['target']\n",
    "        self.inputs = []\n",
    "        self.labels = []\n",
    "        \n",
    "        for text, label in zip(input_texts, targets):\n",
    "            tokenized_input = tokenizer(text, padding='max_length', truncation=True, return_tensors='pt')\n",
    "            self.inputs.append(tokenized_input)\n",
    "            self.labels.append(torch.tensor(label))\n",
    "    \n",
    "    def __getitem__(self, idx):\n",
    "        return {\n",
    "            'input_ids': self.inputs[idx]['input_ids'].squeeze(0),  \n",
    "            'attention_mask': self.inputs[idx]['attention_mask'].squeeze(0),\n",
    "            'labels': self.labels[idx].squeeze(0)\n",
    "        }\n",
    "    \n",
    "    def __len__(self):\n",
    "        return len(self.labels)"
   ]
  },
  {
   "cell_type": "code",
   "execution_count": 12,
   "metadata": {},
   "outputs": [],
   "source": [
    "data_train = BERTDataset(train, tokenizer)\n",
    "data_valid = BERTDataset(valid, tokenizer)"
   ]
  },
  {
   "cell_type": "code",
   "execution_count": 13,
   "metadata": {},
   "outputs": [],
   "source": [
    "data_collator = DataCollatorWithPadding(tokenizer=tokenizer)"
   ]
  },
  {
   "attachments": {},
   "cell_type": "markdown",
   "metadata": {},
   "source": [
    "## Define Metric"
   ]
  },
  {
   "cell_type": "code",
   "execution_count": 14,
   "metadata": {},
   "outputs": [],
   "source": [
    "f1 = evaluate.load('f1')\n",
    "\n",
    "def compute_metrics(eval_pred):\n",
    "    predictions, labels = eval_pred\n",
    "    predictions = np.argmax(predictions, axis=1)\n",
    "    return f1.compute(predictions=predictions, references=labels, average='macro')"
   ]
  },
  {
   "attachments": {},
   "cell_type": "markdown",
   "metadata": {},
   "source": [
    "## Train Model"
   ]
  },
  {
   "cell_type": "code",
   "execution_count": 15,
   "metadata": {},
   "outputs": [],
   "source": [
    "from konlpy.tag import Mecab\n",
    "mecab = Mecab()"
   ]
  },
  {
   "cell_type": "code",
   "execution_count": 16,
   "metadata": {},
   "outputs": [],
   "source": [
    "import wandb\n",
    "import os\n",
    "\n",
    "## for wandb setting\n",
    "os.environ[\"WANDB_API_KEY\"] = \"6f6f03437c7053a9ea262a0afa0edb5694d48a1d\"\n",
    "os.environ[\"WANDB_PROJECT\"] = \"clf_HYW\"  # name your W&B project\n",
    "os.environ[\"WANDB_LOG_MODEL\"] = \"checkpoint\"  # log all model checkpoints"
   ]
  },
  {
   "cell_type": "code",
   "execution_count": 17,
   "metadata": {},
   "outputs": [
    {
     "name": "stderr",
     "output_type": "stream",
     "text": [
      "Failed to detect the name of this notebook, you can set it manually with the WANDB_NOTEBOOK_NAME environment variable to enable code saving.\n",
      "\u001b[34m\u001b[1mwandb\u001b[0m: Currently logged in as: \u001b[33mhwyewon\u001b[0m (\u001b[33mbe-our-friend\u001b[0m). Use \u001b[1m`wandb login --relogin`\u001b[0m to force relogin\n"
     ]
    },
    {
     "data": {
      "text/html": [
       "Tracking run with wandb version 0.16.2"
      ],
      "text/plain": [
       "<IPython.core.display.HTML object>"
      ]
     },
     "metadata": {},
     "output_type": "display_data"
    },
    {
     "data": {
      "text/html": [
       "Run data is saved locally in <code>/data/ephemeral/level2-nlp-datacentric-nlp-06/code/wandb/run-20240131_144112-vh3p1dox</code>"
      ],
      "text/plain": [
       "<IPython.core.display.HTML object>"
      ]
     },
     "metadata": {},
     "output_type": "display_data"
    },
    {
     "data": {
      "text/html": [
       "Syncing run <strong><a href='https://wandb.ai/be-our-friend/clf_HYW/runs/vh3p1dox' target=\"_blank\">backtrans_t5_hanspell</a></strong> to <a href='https://wandb.ai/be-our-friend/clf_HYW' target=\"_blank\">Weights & Biases</a> (<a href='https://wandb.me/run' target=\"_blank\">docs</a>)<br/>"
      ],
      "text/plain": [
       "<IPython.core.display.HTML object>"
      ]
     },
     "metadata": {},
     "output_type": "display_data"
    },
    {
     "data": {
      "text/html": [
       " View project at <a href='https://wandb.ai/be-our-friend/clf_HYW' target=\"_blank\">https://wandb.ai/be-our-friend/clf_HYW</a>"
      ],
      "text/plain": [
       "<IPython.core.display.HTML object>"
      ]
     },
     "metadata": {},
     "output_type": "display_data"
    },
    {
     "data": {
      "text/html": [
       " View run at <a href='https://wandb.ai/be-our-friend/clf_HYW/runs/vh3p1dox' target=\"_blank\">https://wandb.ai/be-our-friend/clf_HYW/runs/vh3p1dox</a>"
      ],
      "text/plain": [
       "<IPython.core.display.HTML object>"
      ]
     },
     "metadata": {},
     "output_type": "display_data"
    },
    {
     "data": {
      "text/html": [
       "<button onClick=\"this.nextSibling.style.display='block';this.style.display='none';\">Display W&B run</button><iframe src='https://wandb.ai/be-our-friend/clf_HYW/runs/vh3p1dox?jupyter=true' style='border:none;width:100%;height:420px;display:none;'></iframe>"
      ],
      "text/plain": [
       "<wandb.sdk.wandb_run.Run at 0x7f0ddf50a320>"
      ]
     },
     "execution_count": 17,
     "metadata": {},
     "output_type": "execute_result"
    }
   ],
   "source": [
    "wandb.init(name=\"backtrans_t5_hanspell\")"
   ]
  },
  {
   "cell_type": "code",
   "execution_count": 18,
   "metadata": {},
   "outputs": [],
   "source": [
    "training_args = TrainingArguments(\n",
    "    output_dir=OUTPUT_DIR,\n",
    "    logging_dir=LOG_DIR,\n",
    "    overwrite_output_dir=True,\n",
    "    do_train=True,\n",
    "    do_eval=True,\n",
    "    do_predict=True,\n",
    "    logging_strategy='steps',\n",
    "    evaluation_strategy='steps',\n",
    "    save_strategy='steps',\n",
    "    logging_steps=500,\n",
    "    eval_steps=500,\n",
    "    save_steps=500,\n",
    "    save_total_limit=2,\n",
    "    learning_rate= 2e-05,\n",
    "    adam_beta1 = 0.9,\n",
    "    adam_beta2 = 0.999,\n",
    "    adam_epsilon=1e-08,\n",
    "    weight_decay=0.01,\n",
    "    lr_scheduler_type='linear',\n",
    "    per_device_train_batch_size=4,\n",
    "    per_device_eval_batch_size=4,\n",
    "    num_train_epochs=2,\n",
    "    load_best_model_at_end=True,\n",
    "    metric_for_best_model='eval_f1',\n",
    "    greater_is_better=True,\n",
    "    seed=SEED,\n",
    "    report_to=\"wandb\",\n",
    "    run_name=\"backtrans_t5_hanspell\"\n",
    ")"
   ]
  },
  {
   "cell_type": "code",
   "execution_count": 19,
   "metadata": {},
   "outputs": [],
   "source": [
    "trainer = Trainer(\n",
    "    model=model,\n",
    "    args=training_args,\n",
    "    train_dataset=data_train,\n",
    "    eval_dataset=data_valid,\n",
    "    data_collator=data_collator,\n",
    "    compute_metrics=compute_metrics,\n",
    "    callbacks = [EarlyStoppingCallback(early_stopping_patience=5)]\n",
    ")"
   ]
  },
  {
   "cell_type": "code",
   "execution_count": 20,
   "metadata": {},
   "outputs": [
    {
     "name": "stderr",
     "output_type": "stream",
     "text": [
      "/data/ephemeral/.conda/lib/python3.10/site-packages/transformers/optimization.py:306: FutureWarning: This implementation of AdamW is deprecated and will be removed in a future version. Use the PyTorch implementation torch.optim.AdamW instead, or set `no_deprecation_warning=True` to disable this warning\n",
      "  warnings.warn(\n",
      "***** Running training *****\n",
      "  Num examples = 9800\n",
      "  Num Epochs = 2\n",
      "  Instantaneous batch size per device = 4\n",
      "  Total train batch size (w. parallel, distributed & accumulation) = 4\n",
      "  Gradient Accumulation steps = 1\n",
      "  Total optimization steps = 4900\n",
      "  Number of trainable parameters = 110622727\n",
      "Automatic Weights & Biases logging enabled, to disable set os.environ[\"WANDB_DISABLED\"] = \"true\"\n",
      "You're using a BertTokenizerFast tokenizer. Please note that with a fast tokenizer, using the `__call__` method is faster than using a method to encode the text followed by a call to the `pad` method to get a padded encoding.\n"
     ]
    },
    {
     "data": {
      "text/html": [
       "\n",
       "    <div>\n",
       "      \n",
       "      <progress value='4900' max='4900' style='width:300px; height:20px; vertical-align: middle;'></progress>\n",
       "      [4900/4900 17:52, Epoch 2/2]\n",
       "    </div>\n",
       "    <table border=\"1\" class=\"dataframe\">\n",
       "  <thead>\n",
       " <tr style=\"text-align: left;\">\n",
       "      <th>Step</th>\n",
       "      <th>Training Loss</th>\n",
       "      <th>Validation Loss</th>\n",
       "      <th>F1</th>\n",
       "    </tr>\n",
       "  </thead>\n",
       "  <tbody>\n",
       "    <tr>\n",
       "      <td>500</td>\n",
       "      <td>0.936500</td>\n",
       "      <td>0.639437</td>\n",
       "      <td>0.824879</td>\n",
       "    </tr>\n",
       "    <tr>\n",
       "      <td>1000</td>\n",
       "      <td>0.751100</td>\n",
       "      <td>0.738925</td>\n",
       "      <td>0.810325</td>\n",
       "    </tr>\n",
       "    <tr>\n",
       "      <td>1500</td>\n",
       "      <td>0.774100</td>\n",
       "      <td>0.668620</td>\n",
       "      <td>0.834735</td>\n",
       "    </tr>\n",
       "    <tr>\n",
       "      <td>2000</td>\n",
       "      <td>0.710300</td>\n",
       "      <td>0.687697</td>\n",
       "      <td>0.840327</td>\n",
       "    </tr>\n",
       "    <tr>\n",
       "      <td>2500</td>\n",
       "      <td>0.710700</td>\n",
       "      <td>0.675073</td>\n",
       "      <td>0.846169</td>\n",
       "    </tr>\n",
       "    <tr>\n",
       "      <td>3000</td>\n",
       "      <td>0.503400</td>\n",
       "      <td>0.729813</td>\n",
       "      <td>0.852111</td>\n",
       "    </tr>\n",
       "    <tr>\n",
       "      <td>3500</td>\n",
       "      <td>0.427500</td>\n",
       "      <td>0.783687</td>\n",
       "      <td>0.846515</td>\n",
       "    </tr>\n",
       "    <tr>\n",
       "      <td>4000</td>\n",
       "      <td>0.497600</td>\n",
       "      <td>0.752146</td>\n",
       "      <td>0.848860</td>\n",
       "    </tr>\n",
       "    <tr>\n",
       "      <td>4500</td>\n",
       "      <td>0.436500</td>\n",
       "      <td>0.762048</td>\n",
       "      <td>0.846880</td>\n",
       "    </tr>\n",
       "  </tbody>\n",
       "</table><p>"
      ],
      "text/plain": [
       "<IPython.core.display.HTML object>"
      ]
     },
     "metadata": {},
     "output_type": "display_data"
    },
    {
     "name": "stderr",
     "output_type": "stream",
     "text": [
      "***** Running Evaluation *****\n",
      "  Num examples = 2100\n",
      "  Batch size = 4\n",
      "Saving model checkpoint to /data/ephemeral/level2-nlp-datacentric-nlp-06/output/checkpoint-500\n",
      "Configuration saved in /data/ephemeral/level2-nlp-datacentric-nlp-06/output/checkpoint-500/config.json\n",
      "Model weights saved in /data/ephemeral/level2-nlp-datacentric-nlp-06/output/checkpoint-500/pytorch_model.bin\n",
      "Deleting older checkpoint [/data/ephemeral/level2-nlp-datacentric-nlp-06/output/checkpoint-3000] due to args.save_total_limit\n",
      "Logging checkpoint artifacts in checkpoint-500. ...\n",
      "\u001b[34m\u001b[1mwandb\u001b[0m: Adding directory to artifact (/data/ephemeral/level2-nlp-datacentric-nlp-06/output/checkpoint-500)... Done. 8.9s\n",
      "***** Running Evaluation *****\n",
      "  Num examples = 2100\n",
      "  Batch size = 4\n",
      "Saving model checkpoint to /data/ephemeral/level2-nlp-datacentric-nlp-06/output/checkpoint-1000\n",
      "Configuration saved in /data/ephemeral/level2-nlp-datacentric-nlp-06/output/checkpoint-1000/config.json\n",
      "Model weights saved in /data/ephemeral/level2-nlp-datacentric-nlp-06/output/checkpoint-1000/pytorch_model.bin\n",
      "Deleting older checkpoint [/data/ephemeral/level2-nlp-datacentric-nlp-06/output/checkpoint-4500] due to args.save_total_limit\n",
      "Logging checkpoint artifacts in checkpoint-1000. ...\n",
      "\u001b[34m\u001b[1mwandb\u001b[0m: Adding directory to artifact (/data/ephemeral/level2-nlp-datacentric-nlp-06/output/checkpoint-1000)... Done. 8.2s\n",
      "***** Running Evaluation *****\n",
      "  Num examples = 2100\n",
      "  Batch size = 4\n",
      "Saving model checkpoint to /data/ephemeral/level2-nlp-datacentric-nlp-06/output/checkpoint-1500\n",
      "Configuration saved in /data/ephemeral/level2-nlp-datacentric-nlp-06/output/checkpoint-1500/config.json\n",
      "Model weights saved in /data/ephemeral/level2-nlp-datacentric-nlp-06/output/checkpoint-1500/pytorch_model.bin\n",
      "Deleting older checkpoint [/data/ephemeral/level2-nlp-datacentric-nlp-06/output/checkpoint-500] due to args.save_total_limit\n",
      "Logging checkpoint artifacts in checkpoint-1500. ...\n",
      "\u001b[34m\u001b[1mwandb\u001b[0m: Adding directory to artifact (/data/ephemeral/level2-nlp-datacentric-nlp-06/output/checkpoint-1500)... Done. 7.5s\n",
      "***** Running Evaluation *****\n",
      "  Num examples = 2100\n",
      "  Batch size = 4\n",
      "Saving model checkpoint to /data/ephemeral/level2-nlp-datacentric-nlp-06/output/checkpoint-2000\n",
      "Configuration saved in /data/ephemeral/level2-nlp-datacentric-nlp-06/output/checkpoint-2000/config.json\n",
      "Model weights saved in /data/ephemeral/level2-nlp-datacentric-nlp-06/output/checkpoint-2000/pytorch_model.bin\n",
      "Deleting older checkpoint [/data/ephemeral/level2-nlp-datacentric-nlp-06/output/checkpoint-1000] due to args.save_total_limit\n",
      "Logging checkpoint artifacts in checkpoint-2000. ...\n",
      "\u001b[34m\u001b[1mwandb\u001b[0m: Adding directory to artifact (/data/ephemeral/level2-nlp-datacentric-nlp-06/output/checkpoint-2000)... Done. 8.5s\n",
      "***** Running Evaluation *****\n",
      "  Num examples = 2100\n",
      "  Batch size = 4\n",
      "Saving model checkpoint to /data/ephemeral/level2-nlp-datacentric-nlp-06/output/checkpoint-2500\n",
      "Configuration saved in /data/ephemeral/level2-nlp-datacentric-nlp-06/output/checkpoint-2500/config.json\n",
      "Model weights saved in /data/ephemeral/level2-nlp-datacentric-nlp-06/output/checkpoint-2500/pytorch_model.bin\n",
      "Deleting older checkpoint [/data/ephemeral/level2-nlp-datacentric-nlp-06/output/checkpoint-1500] due to args.save_total_limit\n",
      "Logging checkpoint artifacts in checkpoint-2500. ...\n",
      "\u001b[34m\u001b[1mwandb\u001b[0m: Adding directory to artifact (/data/ephemeral/level2-nlp-datacentric-nlp-06/output/checkpoint-2500)... Done. 7.5s\n",
      "***** Running Evaluation *****\n",
      "  Num examples = 2100\n",
      "  Batch size = 4\n",
      "Saving model checkpoint to /data/ephemeral/level2-nlp-datacentric-nlp-06/output/checkpoint-3000\n",
      "Configuration saved in /data/ephemeral/level2-nlp-datacentric-nlp-06/output/checkpoint-3000/config.json\n",
      "Model weights saved in /data/ephemeral/level2-nlp-datacentric-nlp-06/output/checkpoint-3000/pytorch_model.bin\n",
      "Deleting older checkpoint [/data/ephemeral/level2-nlp-datacentric-nlp-06/output/checkpoint-2000] due to args.save_total_limit\n",
      "Logging checkpoint artifacts in checkpoint-3000. ...\n",
      "\u001b[34m\u001b[1mwandb\u001b[0m: Adding directory to artifact (/data/ephemeral/level2-nlp-datacentric-nlp-06/output/checkpoint-3000)... Done. 8.0s\n",
      "***** Running Evaluation *****\n",
      "  Num examples = 2100\n",
      "  Batch size = 4\n",
      "Saving model checkpoint to /data/ephemeral/level2-nlp-datacentric-nlp-06/output/checkpoint-3500\n",
      "Configuration saved in /data/ephemeral/level2-nlp-datacentric-nlp-06/output/checkpoint-3500/config.json\n",
      "Model weights saved in /data/ephemeral/level2-nlp-datacentric-nlp-06/output/checkpoint-3500/pytorch_model.bin\n",
      "Deleting older checkpoint [/data/ephemeral/level2-nlp-datacentric-nlp-06/output/checkpoint-2500] due to args.save_total_limit\n",
      "Logging checkpoint artifacts in checkpoint-3500. ...\n",
      "\u001b[34m\u001b[1mwandb\u001b[0m: Adding directory to artifact (/data/ephemeral/level2-nlp-datacentric-nlp-06/output/checkpoint-3500)... Done. 7.4s\n",
      "***** Running Evaluation *****\n",
      "  Num examples = 2100\n",
      "  Batch size = 4\n",
      "Saving model checkpoint to /data/ephemeral/level2-nlp-datacentric-nlp-06/output/checkpoint-4000\n",
      "Configuration saved in /data/ephemeral/level2-nlp-datacentric-nlp-06/output/checkpoint-4000/config.json\n",
      "Model weights saved in /data/ephemeral/level2-nlp-datacentric-nlp-06/output/checkpoint-4000/pytorch_model.bin\n",
      "Deleting older checkpoint [/data/ephemeral/level2-nlp-datacentric-nlp-06/output/checkpoint-3500] due to args.save_total_limit\n",
      "Logging checkpoint artifacts in checkpoint-4000. ...\n",
      "\u001b[34m\u001b[1mwandb\u001b[0m: Adding directory to artifact (/data/ephemeral/level2-nlp-datacentric-nlp-06/output/checkpoint-4000)... Done. 9.1s\n",
      "***** Running Evaluation *****\n",
      "  Num examples = 2100\n",
      "  Batch size = 4\n",
      "Saving model checkpoint to /data/ephemeral/level2-nlp-datacentric-nlp-06/output/checkpoint-4500\n",
      "Configuration saved in /data/ephemeral/level2-nlp-datacentric-nlp-06/output/checkpoint-4500/config.json\n",
      "Model weights saved in /data/ephemeral/level2-nlp-datacentric-nlp-06/output/checkpoint-4500/pytorch_model.bin\n",
      "Deleting older checkpoint [/data/ephemeral/level2-nlp-datacentric-nlp-06/output/checkpoint-4000] due to args.save_total_limit\n",
      "Logging checkpoint artifacts in checkpoint-4500. ...\n",
      "\u001b[34m\u001b[1mwandb\u001b[0m: Adding directory to artifact (/data/ephemeral/level2-nlp-datacentric-nlp-06/output/checkpoint-4500)... Done. 7.4s\n",
      "\n",
      "\n",
      "Training completed. Do not forget to share your model on huggingface.co/models =)\n",
      "\n",
      "\n",
      "Loading best model from /data/ephemeral/level2-nlp-datacentric-nlp-06/output/checkpoint-3000 (score: 0.8521105699421972).\n",
      "Saving model checkpoint to /tmp/tmpve1nk0_a\n",
      "Configuration saved in /tmp/tmpve1nk0_a/config.json\n",
      "Model weights saved in /tmp/tmpve1nk0_a/pytorch_model.bin\n",
      "Logging model artifacts. ...\n"
     ]
    },
    {
     "data": {
      "text/plain": [
       "TrainOutput(global_step=4900, training_loss=0.6243231823979591, metrics={'train_runtime': 1065.8899, 'train_samples_per_second': 18.388, 'train_steps_per_second': 4.597, 'total_flos': 5157208197120000.0, 'train_loss': 0.6243231823979591, 'epoch': 2.0})"
      ]
     },
     "execution_count": 20,
     "metadata": {},
     "output_type": "execute_result"
    }
   ],
   "source": [
    "trainer.train()"
   ]
  },
  {
   "attachments": {},
   "cell_type": "markdown",
   "metadata": {},
   "source": [
    "## Evaluate Model"
   ]
  },
  {
   "cell_type": "markdown",
   "metadata": {},
   "source": [
    "### validation (total)"
   ]
  },
  {
   "cell_type": "code",
   "execution_count": 21,
   "metadata": {},
   "outputs": [
    {
     "name": "stderr",
     "output_type": "stream",
     "text": [
      "2100it [00:18, 114.67it/s]\n"
     ]
    }
   ],
   "source": [
    "model.eval()\n",
    "preds = []\n",
    "for idx, sample in tqdm(valid.iterrows()):\n",
    "    inputs = tokenizer(sample['text'], return_tensors=\"pt\").to(DEVICE)\n",
    "    with torch.no_grad():\n",
    "        logits = model(**inputs).logits\n",
    "        pred = torch.argmax(torch.nn.Softmax(dim=1)(logits), dim=1).cpu().numpy()\n",
    "        preds.extend(pred)"
   ]
  },
  {
   "cell_type": "code",
   "execution_count": 22,
   "metadata": {},
   "outputs": [
    {
     "data": {
      "text/plain": [
       "{'f1': 0.8521105699421972}"
      ]
     },
     "execution_count": 22,
     "metadata": {},
     "output_type": "execute_result"
    }
   ],
   "source": [
    "f1 = evaluate.load('f1')\n",
    "labels = valid['target'].values\n",
    "\n",
    "f1.compute(predictions=preds, references=labels, average='macro')"
   ]
  },
  {
   "cell_type": "markdown",
   "metadata": {},
   "source": [
    "### inference"
   ]
  },
  {
   "cell_type": "code",
   "execution_count": 23,
   "metadata": {},
   "outputs": [
    {
     "data": {
      "text/plain": [
       "ID      0\n",
       "text    0\n",
       "url     0\n",
       "date    0\n",
       "dtype: int64"
      ]
     },
     "execution_count": 23,
     "metadata": {},
     "output_type": "execute_result"
    }
   ],
   "source": [
    "dataset_test = pd.read_csv(os.path.join(DATA_DIR, 'test.csv'))\n",
    "dataset_test.isnull().sum()"
   ]
  },
  {
   "cell_type": "code",
   "execution_count": 24,
   "metadata": {},
   "outputs": [
    {
     "data": {
      "text/html": [
       "<div>\n",
       "<style scoped>\n",
       "    .dataframe tbody tr th:only-of-type {\n",
       "        vertical-align: middle;\n",
       "    }\n",
       "\n",
       "    .dataframe tbody tr th {\n",
       "        vertical-align: top;\n",
       "    }\n",
       "\n",
       "    .dataframe thead th {\n",
       "        text-align: right;\n",
       "    }\n",
       "</style>\n",
       "<table border=\"1\" class=\"dataframe\">\n",
       "  <thead>\n",
       "    <tr style=\"text-align: right;\">\n",
       "      <th></th>\n",
       "      <th>ID</th>\n",
       "      <th>text</th>\n",
       "      <th>url</th>\n",
       "      <th>date</th>\n",
       "    </tr>\n",
       "  </thead>\n",
       "  <tbody>\n",
       "    <tr>\n",
       "      <th>0</th>\n",
       "      <td>ynat-v1_dev_00000</td>\n",
       "      <td>제임스 부상 레이커스 성탄매치서 골든스테이트에 완승종합</td>\n",
       "      <td>https://sports.news.naver.com/news.nhn?oid=001...</td>\n",
       "      <td>2018.12.26 15:16</td>\n",
       "    </tr>\n",
       "    <tr>\n",
       "      <th>1</th>\n",
       "      <td>ynat-v1_dev_00001</td>\n",
       "      <td>프랑스 극우정치인 르펜 노란 조끼 덕에 승승장구</td>\n",
       "      <td>https://news.naver.com/main/read.nhn?mode=LS2D...</td>\n",
       "      <td>2019.01.17. 오후 8:04</td>\n",
       "    </tr>\n",
       "    <tr>\n",
       "      <th>2</th>\n",
       "      <td>ynat-v1_dev_00002</td>\n",
       "      <td>대통령개헌안 ⑥토지공개념 명시…개발이익환수·부동산과세 강화 전망종합</td>\n",
       "      <td>https://news.naver.com/main/read.nhn?mode=LS2D...</td>\n",
       "      <td>2018.03.21. 오후 1:09</td>\n",
       "    </tr>\n",
       "    <tr>\n",
       "      <th>3</th>\n",
       "      <td>ynat-v1_dev_00003</td>\n",
       "      <td>의사 살해 환자 경찰서 나와 법원으로</td>\n",
       "      <td>https://news.naver.com/main/read.nhn?mode=LS2D...</td>\n",
       "      <td>2019.01.02. 오후 2:47</td>\n",
       "    </tr>\n",
       "    <tr>\n",
       "      <th>4</th>\n",
       "      <td>ynat-v1_dev_00004</td>\n",
       "      <td>이란 최고지도자 유럽 맹비난…핵합의 미이행 뻔뻔하고 오만</td>\n",
       "      <td>https://news.naver.com/main/read.nhn?mode=LS2D...</td>\n",
       "      <td>2019.07.16. 오후 8:11</td>\n",
       "    </tr>\n",
       "  </tbody>\n",
       "</table>\n",
       "</div>"
      ],
      "text/plain": [
       "                  ID                                   text  \\\n",
       "0  ynat-v1_dev_00000         제임스 부상 레이커스 성탄매치서 골든스테이트에 완승종합   \n",
       "1  ynat-v1_dev_00001             프랑스 극우정치인 르펜 노란 조끼 덕에 승승장구   \n",
       "2  ynat-v1_dev_00002  대통령개헌안 ⑥토지공개념 명시…개발이익환수·부동산과세 강화 전망종합   \n",
       "3  ynat-v1_dev_00003                   의사 살해 환자 경찰서 나와 법원으로   \n",
       "4  ynat-v1_dev_00004        이란 최고지도자 유럽 맹비난…핵합의 미이행 뻔뻔하고 오만   \n",
       "\n",
       "                                                 url                 date  \n",
       "0  https://sports.news.naver.com/news.nhn?oid=001...     2018.12.26 15:16  \n",
       "1  https://news.naver.com/main/read.nhn?mode=LS2D...  2019.01.17. 오후 8:04  \n",
       "2  https://news.naver.com/main/read.nhn?mode=LS2D...  2018.03.21. 오후 1:09  \n",
       "3  https://news.naver.com/main/read.nhn?mode=LS2D...  2019.01.02. 오후 2:47  \n",
       "4  https://news.naver.com/main/read.nhn?mode=LS2D...  2019.07.16. 오후 8:11  "
      ]
     },
     "execution_count": 24,
     "metadata": {},
     "output_type": "execute_result"
    }
   ],
   "source": [
    "dataset_test.head()"
   ]
  },
  {
   "cell_type": "code",
   "execution_count": 25,
   "metadata": {},
   "outputs": [
    {
     "name": "stderr",
     "output_type": "stream",
     "text": [
      "47785it [06:46, 117.56it/s]\n"
     ]
    }
   ],
   "source": [
    "model.eval()\n",
    "preds = []\n",
    "for idx, sample in tqdm(dataset_test.iterrows()):\n",
    "    inputs = tokenizer(sample['text'], return_tensors=\"pt\").to(DEVICE)\n",
    "    with torch.no_grad():\n",
    "        logits = model(**inputs).logits\n",
    "        pred = torch.argmax(torch.nn.Softmax(dim=1)(logits), dim=1).cpu().numpy()\n",
    "        preds.extend(pred)"
   ]
  },
  {
   "cell_type": "code",
   "execution_count": 26,
   "metadata": {},
   "outputs": [],
   "source": [
    "dataset_test['target'] = preds\n",
    "dataset_test.to_csv(os.path.join(BASE_DIR, 'results/backtrans_t5_hanspell_output.csv'), index=False)"
   ]
  },
  {
   "cell_type": "code",
   "execution_count": 27,
   "metadata": {},
   "outputs": [
    {
     "data": {
      "text/html": [
       "<div>\n",
       "<style scoped>\n",
       "    .dataframe tbody tr th:only-of-type {\n",
       "        vertical-align: middle;\n",
       "    }\n",
       "\n",
       "    .dataframe tbody tr th {\n",
       "        vertical-align: top;\n",
       "    }\n",
       "\n",
       "    .dataframe thead th {\n",
       "        text-align: right;\n",
       "    }\n",
       "</style>\n",
       "<table border=\"1\" class=\"dataframe\">\n",
       "  <thead>\n",
       "    <tr style=\"text-align: right;\">\n",
       "      <th></th>\n",
       "      <th>ID</th>\n",
       "      <th>text</th>\n",
       "      <th>url</th>\n",
       "      <th>date</th>\n",
       "      <th>target</th>\n",
       "    </tr>\n",
       "  </thead>\n",
       "  <tbody>\n",
       "    <tr>\n",
       "      <th>0</th>\n",
       "      <td>ynat-v1_dev_00000</td>\n",
       "      <td>제임스 부상 레이커스 성탄매치서 골든스테이트에 완승종합</td>\n",
       "      <td>https://sports.news.naver.com/news.nhn?oid=001...</td>\n",
       "      <td>2018.12.26 15:16</td>\n",
       "      <td>5</td>\n",
       "    </tr>\n",
       "    <tr>\n",
       "      <th>1</th>\n",
       "      <td>ynat-v1_dev_00001</td>\n",
       "      <td>프랑스 극우정치인 르펜 노란 조끼 덕에 승승장구</td>\n",
       "      <td>https://news.naver.com/main/read.nhn?mode=LS2D...</td>\n",
       "      <td>2019.01.17. 오후 8:04</td>\n",
       "      <td>4</td>\n",
       "    </tr>\n",
       "    <tr>\n",
       "      <th>2</th>\n",
       "      <td>ynat-v1_dev_00002</td>\n",
       "      <td>대통령개헌안 ⑥토지공개념 명시…개발이익환수·부동산과세 강화 전망종합</td>\n",
       "      <td>https://news.naver.com/main/read.nhn?mode=LS2D...</td>\n",
       "      <td>2018.03.21. 오후 1:09</td>\n",
       "      <td>6</td>\n",
       "    </tr>\n",
       "    <tr>\n",
       "      <th>3</th>\n",
       "      <td>ynat-v1_dev_00003</td>\n",
       "      <td>의사 살해 환자 경찰서 나와 법원으로</td>\n",
       "      <td>https://news.naver.com/main/read.nhn?mode=LS2D...</td>\n",
       "      <td>2019.01.02. 오후 2:47</td>\n",
       "      <td>2</td>\n",
       "    </tr>\n",
       "    <tr>\n",
       "      <th>4</th>\n",
       "      <td>ynat-v1_dev_00004</td>\n",
       "      <td>이란 최고지도자 유럽 맹비난…핵합의 미이행 뻔뻔하고 오만</td>\n",
       "      <td>https://news.naver.com/main/read.nhn?mode=LS2D...</td>\n",
       "      <td>2019.07.16. 오후 8:11</td>\n",
       "      <td>4</td>\n",
       "    </tr>\n",
       "  </tbody>\n",
       "</table>\n",
       "</div>"
      ],
      "text/plain": [
       "                  ID                                   text  \\\n",
       "0  ynat-v1_dev_00000         제임스 부상 레이커스 성탄매치서 골든스테이트에 완승종합   \n",
       "1  ynat-v1_dev_00001             프랑스 극우정치인 르펜 노란 조끼 덕에 승승장구   \n",
       "2  ynat-v1_dev_00002  대통령개헌안 ⑥토지공개념 명시…개발이익환수·부동산과세 강화 전망종합   \n",
       "3  ynat-v1_dev_00003                   의사 살해 환자 경찰서 나와 법원으로   \n",
       "4  ynat-v1_dev_00004        이란 최고지도자 유럽 맹비난…핵합의 미이행 뻔뻔하고 오만   \n",
       "\n",
       "                                                 url                 date  \\\n",
       "0  https://sports.news.naver.com/news.nhn?oid=001...     2018.12.26 15:16   \n",
       "1  https://news.naver.com/main/read.nhn?mode=LS2D...  2019.01.17. 오후 8:04   \n",
       "2  https://news.naver.com/main/read.nhn?mode=LS2D...  2018.03.21. 오후 1:09   \n",
       "3  https://news.naver.com/main/read.nhn?mode=LS2D...  2019.01.02. 오후 2:47   \n",
       "4  https://news.naver.com/main/read.nhn?mode=LS2D...  2019.07.16. 오후 8:11   \n",
       "\n",
       "   target  \n",
       "0       5  \n",
       "1       4  \n",
       "2       6  \n",
       "3       2  \n",
       "4       4  "
      ]
     },
     "execution_count": 27,
     "metadata": {},
     "output_type": "execute_result"
    }
   ],
   "source": [
    "dataset_test.head()"
   ]
  },
  {
   "cell_type": "code",
   "execution_count": null,
   "metadata": {},
   "outputs": [],
   "source": []
  }
 ],
 "metadata": {
  "kernelspec": {
   "display_name": "Python 3",
   "language": "python",
   "name": "python3"
  },
  "language_info": {
   "codemirror_mode": {
    "name": "ipython",
    "version": 3
   },
   "file_extension": ".py",
   "mimetype": "text/x-python",
   "name": "python",
   "nbconvert_exporter": "python",
   "pygments_lexer": "ipython3",
   "version": "3.10.13"
  }
 },
 "nbformat": 4,
 "nbformat_minor": 4
}
